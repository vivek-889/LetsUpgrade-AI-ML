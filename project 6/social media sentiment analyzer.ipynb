{
 "cells": [
  {
   "cell_type": "code",
   "execution_count": 5,
   "metadata": {
    "scrolled": true
   },
   "outputs": [
    {
     "name": "stdout",
     "output_type": "stream",
     "text": [
      "Requirement already satisfied: tweepy in c:\\users\\vivek\\anaconda3\\lib\\site-packages (3.9.0)\n",
      "Requirement already satisfied: six>=1.10.0 in c:\\users\\vivek\\anaconda3\\lib\\site-packages (from tweepy) (1.14.0)\n",
      "Requirement already satisfied: requests-oauthlib>=0.7.0 in c:\\users\\vivek\\anaconda3\\lib\\site-packages (from tweepy) (1.3.0)\n",
      "Requirement already satisfied: requests[socks]>=2.11.1 in c:\\users\\vivek\\anaconda3\\lib\\site-packages (from tweepy) (2.22.0)\n",
      "Requirement already satisfied: oauthlib>=3.0.0 in c:\\users\\vivek\\anaconda3\\lib\\site-packages (from requests-oauthlib>=0.7.0->tweepy) (3.1.0)\n",
      "Requirement already satisfied: chardet<3.1.0,>=3.0.2 in c:\\users\\vivek\\anaconda3\\lib\\site-packages (from requests[socks]>=2.11.1->tweepy) (3.0.4)\n",
      "Requirement already satisfied: urllib3!=1.25.0,!=1.25.1,<1.26,>=1.21.1 in c:\\users\\vivek\\anaconda3\\lib\\site-packages (from requests[socks]>=2.11.1->tweepy) (1.25.8)\n",
      "Requirement already satisfied: certifi>=2017.4.17 in c:\\users\\vivek\\anaconda3\\lib\\site-packages (from requests[socks]>=2.11.1->tweepy) (2019.11.28)\n",
      "Requirement already satisfied: idna<2.9,>=2.5 in c:\\users\\vivek\\anaconda3\\lib\\site-packages (from requests[socks]>=2.11.1->tweepy) (2.8)\n",
      "Requirement already satisfied: PySocks!=1.5.7,>=1.5.6; extra == \"socks\" in c:\\users\\vivek\\anaconda3\\lib\\site-packages (from requests[socks]>=2.11.1->tweepy) (1.7.1)\n",
      "Requirement already satisfied: openpyxl in c:\\users\\vivek\\anaconda3\\lib\\site-packages (3.0.3)\n",
      "Requirement already satisfied: jdcal in c:\\users\\vivek\\anaconda3\\lib\\site-packages (from openpyxl) (1.4.1)\n",
      "Requirement already satisfied: et-xmlfile in c:\\users\\vivek\\anaconda3\\lib\\site-packages (from openpyxl) (1.0.1)\n"
     ]
    }
   ],
   "source": [
    "!pip install tweepy\n",
    "!pip install openpyxl\n",
    "import numpy as np\n",
    "import pandas as pd\n",
    "import tweepy\n",
    "import json\n",
    "from tweepy import OAuthHandler"
   ]
  },
  {
   "cell_type": "code",
   "execution_count": 12,
   "metadata": {},
   "outputs": [],
   "source": [
    "consumer_key = 'tOeaBd667oR9uzTGiOgowX5Nk'\n",
    "consumer_secret = 'GhpmbckC1zG71XGciAzLLG95up2JtSMSq4SUPAiP42UpUEpo21'\n",
    "access_token = '2175097028-8E1BApj3vbgnByBi7dO8B001lnbJFOGZtNGIqnP'\n",
    "access_token_secret = 'XIJgUAnyscejPLBI3YGZtxGyH8Nv1MBCdMypscgwB66Xn'"
   ]
  },
  {
   "cell_type": "code",
   "execution_count": 13,
   "metadata": {},
   "outputs": [],
   "source": [
    "auth = tweepy.OAuthHandler(consumer_key,consumer_secret)\n",
    "auth.set_access_token(access_token,access_token_secret)\n",
    "api = tweepy.API(auth)"
   ]
  },
  {
   "cell_type": "code",
   "execution_count": 14,
   "metadata": {},
   "outputs": [],
   "source": [
    "query = \"Farmer's Protest\""
   ]
  },
  {
   "cell_type": "code",
   "execution_count": 15,
   "metadata": {
    "scrolled": false
   },
   "outputs": [
    {
     "name": "stdout",
     "output_type": "stream",
     "text": [
      "Status(_api=<tweepy.api.API object at 0x00000236179E2C88>, _json={'created_at': 'Fri Dec 04 14:31:57 +0000 2020', 'id': 1334868044531712001, 'id_str': '1334868044531712001', 'full_text': \"@nytimesworld You have focused more on pollution than the farmer's protest.\", 'truncated': False, 'display_text_range': [14, 75], 'entities': {'hashtags': [], 'symbols': [], 'user_mentions': [{'screen_name': 'nytimesworld', 'name': 'New York Times World', 'id': 1877831, 'id_str': '1877831', 'indices': [0, 13]}], 'urls': []}, 'metadata': {'iso_language_code': 'en', 'result_type': 'recent'}, 'source': '<a href=\"https://mobile.twitter.com\" rel=\"nofollow\">Twitter Web App</a>', 'in_reply_to_status_id': 1334863296365735936, 'in_reply_to_status_id_str': '1334863296365735936', 'in_reply_to_user_id': 1877831, 'in_reply_to_user_id_str': '1877831', 'in_reply_to_screen_name': 'nytimesworld', 'user': {'id': 3142842242, 'id_str': '3142842242', 'name': 'prayag_sehrawat', 'screen_name': 'prayag_chaudhry', 'location': 'New Delhi, India', 'description': \"Hansraj College | Fiercely independent|\\nAnti Fascist.( Farmer's Son).\\nCountry before Religion||. Humanity before Country||\", 'url': None, 'entities': {'description': {'urls': []}}, 'protected': False, 'followers_count': 33, 'friends_count': 89, 'listed_count': 3, 'created_at': 'Tue Apr 07 02:54:35 +0000 2015', 'favourites_count': 1698, 'utc_offset': None, 'time_zone': None, 'geo_enabled': False, 'verified': False, 'statuses_count': 233, 'lang': None, 'contributors_enabled': False, 'is_translator': False, 'is_translation_enabled': False, 'profile_background_color': 'C0DEED', 'profile_background_image_url': 'http://abs.twimg.com/images/themes/theme1/bg.png', 'profile_background_image_url_https': 'https://abs.twimg.com/images/themes/theme1/bg.png', 'profile_background_tile': False, 'profile_image_url': 'http://pbs.twimg.com/profile_images/847444927210500096/yyHo8L2a_normal.jpg', 'profile_image_url_https': 'https://pbs.twimg.com/profile_images/847444927210500096/yyHo8L2a_normal.jpg', 'profile_banner_url': 'https://pbs.twimg.com/profile_banners/3142842242/1595258101', 'profile_link_color': '1DA1F2', 'profile_sidebar_border_color': 'C0DEED', 'profile_sidebar_fill_color': 'DDEEF6', 'profile_text_color': '333333', 'profile_use_background_image': True, 'has_extended_profile': True, 'default_profile': True, 'default_profile_image': False, 'following': False, 'follow_request_sent': False, 'notifications': False, 'translator_type': 'none'}, 'geo': None, 'coordinates': None, 'place': None, 'contributors': None, 'is_quote_status': False, 'retweet_count': 0, 'favorite_count': 0, 'favorited': False, 'retweeted': False, 'lang': 'en'}, created_at=datetime.datetime(2020, 12, 4, 14, 31, 57), id=1334868044531712001, id_str='1334868044531712001', full_text=\"@nytimesworld You have focused more on pollution than the farmer's protest.\", truncated=False, display_text_range=[14, 75], entities={'hashtags': [], 'symbols': [], 'user_mentions': [{'screen_name': 'nytimesworld', 'name': 'New York Times World', 'id': 1877831, 'id_str': '1877831', 'indices': [0, 13]}], 'urls': []}, metadata={'iso_language_code': 'en', 'result_type': 'recent'}, source='Twitter Web App', source_url='https://mobile.twitter.com', in_reply_to_status_id=1334863296365735936, in_reply_to_status_id_str='1334863296365735936', in_reply_to_user_id=1877831, in_reply_to_user_id_str='1877831', in_reply_to_screen_name='nytimesworld', author=User(_api=<tweepy.api.API object at 0x00000236179E2C88>, _json={'id': 3142842242, 'id_str': '3142842242', 'name': 'prayag_sehrawat', 'screen_name': 'prayag_chaudhry', 'location': 'New Delhi, India', 'description': \"Hansraj College | Fiercely independent|\\nAnti Fascist.( Farmer's Son).\\nCountry before Religion||. Humanity before Country||\", 'url': None, 'entities': {'description': {'urls': []}}, 'protected': False, 'followers_count': 33, 'friends_count': 89, 'listed_count': 3, 'created_at': 'Tue Apr 07 02:54:35 +0000 2015', 'favourites_count': 1698, 'utc_offset': None, 'time_zone': None, 'geo_enabled': False, 'verified': False, 'statuses_count': 233, 'lang': None, 'contributors_enabled': False, 'is_translator': False, 'is_translation_enabled': False, 'profile_background_color': 'C0DEED', 'profile_background_image_url': 'http://abs.twimg.com/images/themes/theme1/bg.png', 'profile_background_image_url_https': 'https://abs.twimg.com/images/themes/theme1/bg.png', 'profile_background_tile': False, 'profile_image_url': 'http://pbs.twimg.com/profile_images/847444927210500096/yyHo8L2a_normal.jpg', 'profile_image_url_https': 'https://pbs.twimg.com/profile_images/847444927210500096/yyHo8L2a_normal.jpg', 'profile_banner_url': 'https://pbs.twimg.com/profile_banners/3142842242/1595258101', 'profile_link_color': '1DA1F2', 'profile_sidebar_border_color': 'C0DEED', 'profile_sidebar_fill_color': 'DDEEF6', 'profile_text_color': '333333', 'profile_use_background_image': True, 'has_extended_profile': True, 'default_profile': True, 'default_profile_image': False, 'following': False, 'follow_request_sent': False, 'notifications': False, 'translator_type': 'none'}, id=3142842242, id_str='3142842242', name='prayag_sehrawat', screen_name='prayag_chaudhry', location='New Delhi, India', description=\"Hansraj College | Fiercely independent|\\nAnti Fascist.( Farmer's Son).\\nCountry before Religion||. Humanity before Country||\", url=None, entities={'description': {'urls': []}}, protected=False, followers_count=33, friends_count=89, listed_count=3, created_at=datetime.datetime(2015, 4, 7, 2, 54, 35), favourites_count=1698, utc_offset=None, time_zone=None, geo_enabled=False, verified=False, statuses_count=233, lang=None, contributors_enabled=False, is_translator=False, is_translation_enabled=False, profile_background_color='C0DEED', profile_background_image_url='http://abs.twimg.com/images/themes/theme1/bg.png', profile_background_image_url_https='https://abs.twimg.com/images/themes/theme1/bg.png', profile_background_tile=False, profile_image_url='http://pbs.twimg.com/profile_images/847444927210500096/yyHo8L2a_normal.jpg', profile_image_url_https='https://pbs.twimg.com/profile_images/847444927210500096/yyHo8L2a_normal.jpg', profile_banner_url='https://pbs.twimg.com/profile_banners/3142842242/1595258101', profile_link_color='1DA1F2', profile_sidebar_border_color='C0DEED', profile_sidebar_fill_color='DDEEF6', profile_text_color='333333', profile_use_background_image=True, has_extended_profile=True, default_profile=True, default_profile_image=False, following=False, follow_request_sent=False, notifications=False, translator_type='none'), user=User(_api=<tweepy.api.API object at 0x00000236179E2C88>, _json={'id': 3142842242, 'id_str': '3142842242', 'name': 'prayag_sehrawat', 'screen_name': 'prayag_chaudhry', 'location': 'New Delhi, India', 'description': \"Hansraj College | Fiercely independent|\\nAnti Fascist.( Farmer's Son).\\nCountry before Religion||. Humanity before Country||\", 'url': None, 'entities': {'description': {'urls': []}}, 'protected': False, 'followers_count': 33, 'friends_count': 89, 'listed_count': 3, 'created_at': 'Tue Apr 07 02:54:35 +0000 2015', 'favourites_count': 1698, 'utc_offset': None, 'time_zone': None, 'geo_enabled': False, 'verified': False, 'statuses_count': 233, 'lang': None, 'contributors_enabled': False, 'is_translator': False, 'is_translation_enabled': False, 'profile_background_color': 'C0DEED', 'profile_background_image_url': 'http://abs.twimg.com/images/themes/theme1/bg.png', 'profile_background_image_url_https': 'https://abs.twimg.com/images/themes/theme1/bg.png', 'profile_background_tile': False, 'profile_image_url': 'http://pbs.twimg.com/profile_images/847444927210500096/yyHo8L2a_normal.jpg', 'profile_image_url_https': 'https://pbs.twimg.com/profile_images/847444927210500096/yyHo8L2a_normal.jpg', 'profile_banner_url': 'https://pbs.twimg.com/profile_banners/3142842242/1595258101', 'profile_link_color': '1DA1F2', 'profile_sidebar_border_color': 'C0DEED', 'profile_sidebar_fill_color': 'DDEEF6', 'profile_text_color': '333333', 'profile_use_background_image': True, 'has_extended_profile': True, 'default_profile': True, 'default_profile_image': False, 'following': False, 'follow_request_sent': False, 'notifications': False, 'translator_type': 'none'}, id=3142842242, id_str='3142842242', name='prayag_sehrawat', screen_name='prayag_chaudhry', location='New Delhi, India', description=\"Hansraj College | Fiercely independent|\\nAnti Fascist.( Farmer's Son).\\nCountry before Religion||. Humanity before Country||\", url=None, entities={'description': {'urls': []}}, protected=False, followers_count=33, friends_count=89, listed_count=3, created_at=datetime.datetime(2015, 4, 7, 2, 54, 35), favourites_count=1698, utc_offset=None, time_zone=None, geo_enabled=False, verified=False, statuses_count=233, lang=None, contributors_enabled=False, is_translator=False, is_translation_enabled=False, profile_background_color='C0DEED', profile_background_image_url='http://abs.twimg.com/images/themes/theme1/bg.png', profile_background_image_url_https='https://abs.twimg.com/images/themes/theme1/bg.png', profile_background_tile=False, profile_image_url='http://pbs.twimg.com/profile_images/847444927210500096/yyHo8L2a_normal.jpg', profile_image_url_https='https://pbs.twimg.com/profile_images/847444927210500096/yyHo8L2a_normal.jpg', profile_banner_url='https://pbs.twimg.com/profile_banners/3142842242/1595258101', profile_link_color='1DA1F2', profile_sidebar_border_color='C0DEED', profile_sidebar_fill_color='DDEEF6', profile_text_color='333333', profile_use_background_image=True, has_extended_profile=True, default_profile=True, default_profile_image=False, following=False, follow_request_sent=False, notifications=False, translator_type='none'), geo=None, coordinates=None, place=None, contributors=None, is_quote_status=False, retweet_count=0, favorite_count=0, favorited=False, retweeted=False, lang='en') \n",
      "\n",
      "******************************\n",
      "Status(_api=<tweepy.api.API object at 0x00000236179E2C88>, _json={'created_at': 'Fri Dec 04 14:30:50 +0000 2020', 'id': 1334867764884828161, 'id_str': '1334867764884828161', 'full_text': \"I would like to know what is the problem with Punjab Farmer's with regards to farm bills. No one else in the country is protesting. they must have some good points to protest.\", 'truncated': False, 'display_text_range': [0, 175], 'entities': {'hashtags': [], 'symbols': [], 'user_mentions': [], 'urls': []}, 'metadata': {'iso_language_code': 'en', 'result_type': 'recent'}, 'source': '<a href=\"https://mobile.twitter.com\" rel=\"nofollow\">Twitter Web App</a>', 'in_reply_to_status_id': None, 'in_reply_to_status_id_str': None, 'in_reply_to_user_id': None, 'in_reply_to_user_id_str': None, 'in_reply_to_screen_name': None, 'user': {'id': 72210954, 'id_str': '72210954', 'name': 'Pramod', 'screen_name': 'pramod0', 'location': 'Mumbai', 'description': '', 'url': None, 'entities': {'description': {'urls': []}}, 'protected': False, 'followers_count': 60, 'friends_count': 175, 'listed_count': 0, 'created_at': 'Mon Sep 07 05:07:08 +0000 2009', 'favourites_count': 6610, 'utc_offset': None, 'time_zone': None, 'geo_enabled': True, 'verified': False, 'statuses_count': 1695, 'lang': None, 'contributors_enabled': False, 'is_translator': False, 'is_translation_enabled': False, 'profile_background_color': 'C0DEED', 'profile_background_image_url': 'http://abs.twimg.com/images/themes/theme1/bg.png', 'profile_background_image_url_https': 'https://abs.twimg.com/images/themes/theme1/bg.png', 'profile_background_tile': False, 'profile_image_url': 'http://pbs.twimg.com/profile_images/1195230902730706944/XE-E6qCU_normal.jpg', 'profile_image_url_https': 'https://pbs.twimg.com/profile_images/1195230902730706944/XE-E6qCU_normal.jpg', 'profile_banner_url': 'https://pbs.twimg.com/profile_banners/72210954/1560925008', 'profile_link_color': '1DA1F2', 'profile_sidebar_border_color': 'C0DEED', 'profile_sidebar_fill_color': 'DDEEF6', 'profile_text_color': '333333', 'profile_use_background_image': True, 'has_extended_profile': True, 'default_profile': True, 'default_profile_image': False, 'following': False, 'follow_request_sent': False, 'notifications': False, 'translator_type': 'none'}, 'geo': None, 'coordinates': None, 'place': None, 'contributors': None, 'is_quote_status': False, 'retweet_count': 0, 'favorite_count': 0, 'favorited': False, 'retweeted': False, 'lang': 'en'}, created_at=datetime.datetime(2020, 12, 4, 14, 30, 50), id=1334867764884828161, id_str='1334867764884828161', full_text=\"I would like to know what is the problem with Punjab Farmer's with regards to farm bills. No one else in the country is protesting. they must have some good points to protest.\", truncated=False, display_text_range=[0, 175], entities={'hashtags': [], 'symbols': [], 'user_mentions': [], 'urls': []}, metadata={'iso_language_code': 'en', 'result_type': 'recent'}, source='Twitter Web App', source_url='https://mobile.twitter.com', in_reply_to_status_id=None, in_reply_to_status_id_str=None, in_reply_to_user_id=None, in_reply_to_user_id_str=None, in_reply_to_screen_name=None, author=User(_api=<tweepy.api.API object at 0x00000236179E2C88>, _json={'id': 72210954, 'id_str': '72210954', 'name': 'Pramod', 'screen_name': 'pramod0', 'location': 'Mumbai', 'description': '', 'url': None, 'entities': {'description': {'urls': []}}, 'protected': False, 'followers_count': 60, 'friends_count': 175, 'listed_count': 0, 'created_at': 'Mon Sep 07 05:07:08 +0000 2009', 'favourites_count': 6610, 'utc_offset': None, 'time_zone': None, 'geo_enabled': True, 'verified': False, 'statuses_count': 1695, 'lang': None, 'contributors_enabled': False, 'is_translator': False, 'is_translation_enabled': False, 'profile_background_color': 'C0DEED', 'profile_background_image_url': 'http://abs.twimg.com/images/themes/theme1/bg.png', 'profile_background_image_url_https': 'https://abs.twimg.com/images/themes/theme1/bg.png', 'profile_background_tile': False, 'profile_image_url': 'http://pbs.twimg.com/profile_images/1195230902730706944/XE-E6qCU_normal.jpg', 'profile_image_url_https': 'https://pbs.twimg.com/profile_images/1195230902730706944/XE-E6qCU_normal.jpg', 'profile_banner_url': 'https://pbs.twimg.com/profile_banners/72210954/1560925008', 'profile_link_color': '1DA1F2', 'profile_sidebar_border_color': 'C0DEED', 'profile_sidebar_fill_color': 'DDEEF6', 'profile_text_color': '333333', 'profile_use_background_image': True, 'has_extended_profile': True, 'default_profile': True, 'default_profile_image': False, 'following': False, 'follow_request_sent': False, 'notifications': False, 'translator_type': 'none'}, id=72210954, id_str='72210954', name='Pramod', screen_name='pramod0', location='Mumbai', description='', url=None, entities={'description': {'urls': []}}, protected=False, followers_count=60, friends_count=175, listed_count=0, created_at=datetime.datetime(2009, 9, 7, 5, 7, 8), favourites_count=6610, utc_offset=None, time_zone=None, geo_enabled=True, verified=False, statuses_count=1695, lang=None, contributors_enabled=False, is_translator=False, is_translation_enabled=False, profile_background_color='C0DEED', profile_background_image_url='http://abs.twimg.com/images/themes/theme1/bg.png', profile_background_image_url_https='https://abs.twimg.com/images/themes/theme1/bg.png', profile_background_tile=False, profile_image_url='http://pbs.twimg.com/profile_images/1195230902730706944/XE-E6qCU_normal.jpg', profile_image_url_https='https://pbs.twimg.com/profile_images/1195230902730706944/XE-E6qCU_normal.jpg', profile_banner_url='https://pbs.twimg.com/profile_banners/72210954/1560925008', profile_link_color='1DA1F2', profile_sidebar_border_color='C0DEED', profile_sidebar_fill_color='DDEEF6', profile_text_color='333333', profile_use_background_image=True, has_extended_profile=True, default_profile=True, default_profile_image=False, following=False, follow_request_sent=False, notifications=False, translator_type='none'), user=User(_api=<tweepy.api.API object at 0x00000236179E2C88>, _json={'id': 72210954, 'id_str': '72210954', 'name': 'Pramod', 'screen_name': 'pramod0', 'location': 'Mumbai', 'description': '', 'url': None, 'entities': {'description': {'urls': []}}, 'protected': False, 'followers_count': 60, 'friends_count': 175, 'listed_count': 0, 'created_at': 'Mon Sep 07 05:07:08 +0000 2009', 'favourites_count': 6610, 'utc_offset': None, 'time_zone': None, 'geo_enabled': True, 'verified': False, 'statuses_count': 1695, 'lang': None, 'contributors_enabled': False, 'is_translator': False, 'is_translation_enabled': False, 'profile_background_color': 'C0DEED', 'profile_background_image_url': 'http://abs.twimg.com/images/themes/theme1/bg.png', 'profile_background_image_url_https': 'https://abs.twimg.com/images/themes/theme1/bg.png', 'profile_background_tile': False, 'profile_image_url': 'http://pbs.twimg.com/profile_images/1195230902730706944/XE-E6qCU_normal.jpg', 'profile_image_url_https': 'https://pbs.twimg.com/profile_images/1195230902730706944/XE-E6qCU_normal.jpg', 'profile_banner_url': 'https://pbs.twimg.com/profile_banners/72210954/1560925008', 'profile_link_color': '1DA1F2', 'profile_sidebar_border_color': 'C0DEED', 'profile_sidebar_fill_color': 'DDEEF6', 'profile_text_color': '333333', 'profile_use_background_image': True, 'has_extended_profile': True, 'default_profile': True, 'default_profile_image': False, 'following': False, 'follow_request_sent': False, 'notifications': False, 'translator_type': 'none'}, id=72210954, id_str='72210954', name='Pramod', screen_name='pramod0', location='Mumbai', description='', url=None, entities={'description': {'urls': []}}, protected=False, followers_count=60, friends_count=175, listed_count=0, created_at=datetime.datetime(2009, 9, 7, 5, 7, 8), favourites_count=6610, utc_offset=None, time_zone=None, geo_enabled=True, verified=False, statuses_count=1695, lang=None, contributors_enabled=False, is_translator=False, is_translation_enabled=False, profile_background_color='C0DEED', profile_background_image_url='http://abs.twimg.com/images/themes/theme1/bg.png', profile_background_image_url_https='https://abs.twimg.com/images/themes/theme1/bg.png', profile_background_tile=False, profile_image_url='http://pbs.twimg.com/profile_images/1195230902730706944/XE-E6qCU_normal.jpg', profile_image_url_https='https://pbs.twimg.com/profile_images/1195230902730706944/XE-E6qCU_normal.jpg', profile_banner_url='https://pbs.twimg.com/profile_banners/72210954/1560925008', profile_link_color='1DA1F2', profile_sidebar_border_color='C0DEED', profile_sidebar_fill_color='DDEEF6', profile_text_color='333333', profile_use_background_image=True, has_extended_profile=True, default_profile=True, default_profile_image=False, following=False, follow_request_sent=False, notifications=False, translator_type='none'), geo=None, coordinates=None, place=None, contributors=None, is_quote_status=False, retweet_count=0, favorite_count=0, favorited=False, retweeted=False, lang='en') \n",
      "\n",
      "******************************\n",
      "Status(_api=<tweepy.api.API object at 0x00000236179E2C88>, _json={'created_at': 'Fri Dec 04 14:27:20 +0000 2020', 'id': 1334866883229614080, 'id_str': '1334866883229614080', 'full_text': \"@Badelog1 @iammgoyal @jatt319 @Aashishrajput01 @KanganaTeam And that other dadi(Shaheen bagh one) was in that pic too shared by @KanganaTeam ..are you too justifying khalisthani elements in farmer's protest?\", 'truncated': False, 'display_text_range': [60, 207], 'entities': {'hashtags': [], 'symbols': [], 'user_mentions': [{'screen_name': 'Badelog1', 'name': 'Badelog', 'id': 1227617796143505409, 'id_str': '1227617796143505409', 'indices': [0, 9]}, {'screen_name': 'iammgoyal', 'name': 'Davinder Kumar', 'id': 635942843, 'id_str': '635942843', 'indices': [10, 20]}, {'screen_name': 'jatt319', 'name': 'sαndhu’s', 'id': 853477402412032001, 'id_str': '853477402412032001', 'indices': [21, 29]}, {'screen_name': 'Aashishrajput01', 'name': 'Aashish Singh Rajput 🔥', 'id': 1274609953043439617, 'id_str': '1274609953043439617', 'indices': [30, 46]}, {'screen_name': 'KanganaTeam', 'name': 'Kangana Ranaut', 'id': 3946905252, 'id_str': '3946905252', 'indices': [47, 59]}, {'screen_name': 'KanganaTeam', 'name': 'Kangana Ranaut', 'id': 3946905252, 'id_str': '3946905252', 'indices': [128, 140]}], 'urls': []}, 'metadata': {'iso_language_code': 'en', 'result_type': 'recent'}, 'source': '<a href=\"http://twitter.com/download/android\" rel=\"nofollow\">Twitter for Android</a>', 'in_reply_to_status_id': 1334864854927077377, 'in_reply_to_status_id_str': '1334864854927077377', 'in_reply_to_user_id': 1227617796143505409, 'in_reply_to_user_id_str': '1227617796143505409', 'in_reply_to_screen_name': 'Badelog1', 'user': {'id': 1332554398929588225, 'id_str': '1332554398929588225', 'name': 'Sugam Jangid', 'screen_name': 'JangidSugam', 'location': 'Ajmer, India', 'description': 'Anti-Pseudo secularism\\nAnti-Libradus\\nHere? just for fun!', 'url': None, 'entities': {'description': {'urls': []}}, 'protected': False, 'followers_count': 6, 'friends_count': 146, 'listed_count': 0, 'created_at': 'Sat Nov 28 05:18:30 +0000 2020', 'favourites_count': 330, 'utc_offset': None, 'time_zone': None, 'geo_enabled': False, 'verified': False, 'statuses_count': 114, 'lang': None, 'contributors_enabled': False, 'is_translator': False, 'is_translation_enabled': False, 'profile_background_color': 'F5F8FA', 'profile_background_image_url': None, 'profile_background_image_url_https': None, 'profile_background_tile': False, 'profile_image_url': 'http://pbs.twimg.com/profile_images/1333280213438844930/OZ0nTpLs_normal.jpg', 'profile_image_url_https': 'https://pbs.twimg.com/profile_images/1333280213438844930/OZ0nTpLs_normal.jpg', 'profile_banner_url': 'https://pbs.twimg.com/profile_banners/1332554398929588225/1606713869', 'profile_link_color': '1DA1F2', 'profile_sidebar_border_color': 'C0DEED', 'profile_sidebar_fill_color': 'DDEEF6', 'profile_text_color': '333333', 'profile_use_background_image': True, 'has_extended_profile': True, 'default_profile': True, 'default_profile_image': False, 'following': False, 'follow_request_sent': False, 'notifications': False, 'translator_type': 'none'}, 'geo': None, 'coordinates': None, 'place': None, 'contributors': None, 'is_quote_status': False, 'retweet_count': 0, 'favorite_count': 0, 'favorited': False, 'retweeted': False, 'lang': 'en'}, created_at=datetime.datetime(2020, 12, 4, 14, 27, 20), id=1334866883229614080, id_str='1334866883229614080', full_text=\"@Badelog1 @iammgoyal @jatt319 @Aashishrajput01 @KanganaTeam And that other dadi(Shaheen bagh one) was in that pic too shared by @KanganaTeam ..are you too justifying khalisthani elements in farmer's protest?\", truncated=False, display_text_range=[60, 207], entities={'hashtags': [], 'symbols': [], 'user_mentions': [{'screen_name': 'Badelog1', 'name': 'Badelog', 'id': 1227617796143505409, 'id_str': '1227617796143505409', 'indices': [0, 9]}, {'screen_name': 'iammgoyal', 'name': 'Davinder Kumar', 'id': 635942843, 'id_str': '635942843', 'indices': [10, 20]}, {'screen_name': 'jatt319', 'name': 'sαndhu’s', 'id': 853477402412032001, 'id_str': '853477402412032001', 'indices': [21, 29]}, {'screen_name': 'Aashishrajput01', 'name': 'Aashish Singh Rajput 🔥', 'id': 1274609953043439617, 'id_str': '1274609953043439617', 'indices': [30, 46]}, {'screen_name': 'KanganaTeam', 'name': 'Kangana Ranaut', 'id': 3946905252, 'id_str': '3946905252', 'indices': [47, 59]}, {'screen_name': 'KanganaTeam', 'name': 'Kangana Ranaut', 'id': 3946905252, 'id_str': '3946905252', 'indices': [128, 140]}], 'urls': []}, metadata={'iso_language_code': 'en', 'result_type': 'recent'}, source='Twitter for Android', source_url='http://twitter.com/download/android', in_reply_to_status_id=1334864854927077377, in_reply_to_status_id_str='1334864854927077377', in_reply_to_user_id=1227617796143505409, in_reply_to_user_id_str='1227617796143505409', in_reply_to_screen_name='Badelog1', author=User(_api=<tweepy.api.API object at 0x00000236179E2C88>, _json={'id': 1332554398929588225, 'id_str': '1332554398929588225', 'name': 'Sugam Jangid', 'screen_name': 'JangidSugam', 'location': 'Ajmer, India', 'description': 'Anti-Pseudo secularism\\nAnti-Libradus\\nHere? just for fun!', 'url': None, 'entities': {'description': {'urls': []}}, 'protected': False, 'followers_count': 6, 'friends_count': 146, 'listed_count': 0, 'created_at': 'Sat Nov 28 05:18:30 +0000 2020', 'favourites_count': 330, 'utc_offset': None, 'time_zone': None, 'geo_enabled': False, 'verified': False, 'statuses_count': 114, 'lang': None, 'contributors_enabled': False, 'is_translator': False, 'is_translation_enabled': False, 'profile_background_color': 'F5F8FA', 'profile_background_image_url': None, 'profile_background_image_url_https': None, 'profile_background_tile': False, 'profile_image_url': 'http://pbs.twimg.com/profile_images/1333280213438844930/OZ0nTpLs_normal.jpg', 'profile_image_url_https': 'https://pbs.twimg.com/profile_images/1333280213438844930/OZ0nTpLs_normal.jpg', 'profile_banner_url': 'https://pbs.twimg.com/profile_banners/1332554398929588225/1606713869', 'profile_link_color': '1DA1F2', 'profile_sidebar_border_color': 'C0DEED', 'profile_sidebar_fill_color': 'DDEEF6', 'profile_text_color': '333333', 'profile_use_background_image': True, 'has_extended_profile': True, 'default_profile': True, 'default_profile_image': False, 'following': False, 'follow_request_sent': False, 'notifications': False, 'translator_type': 'none'}, id=1332554398929588225, id_str='1332554398929588225', name='Sugam Jangid', screen_name='JangidSugam', location='Ajmer, India', description='Anti-Pseudo secularism\\nAnti-Libradus\\nHere? just for fun!', url=None, entities={'description': {'urls': []}}, protected=False, followers_count=6, friends_count=146, listed_count=0, created_at=datetime.datetime(2020, 11, 28, 5, 18, 30), favourites_count=330, utc_offset=None, time_zone=None, geo_enabled=False, verified=False, statuses_count=114, lang=None, contributors_enabled=False, is_translator=False, is_translation_enabled=False, profile_background_color='F5F8FA', profile_background_image_url=None, profile_background_image_url_https=None, profile_background_tile=False, profile_image_url='http://pbs.twimg.com/profile_images/1333280213438844930/OZ0nTpLs_normal.jpg', profile_image_url_https='https://pbs.twimg.com/profile_images/1333280213438844930/OZ0nTpLs_normal.jpg', profile_banner_url='https://pbs.twimg.com/profile_banners/1332554398929588225/1606713869', profile_link_color='1DA1F2', profile_sidebar_border_color='C0DEED', profile_sidebar_fill_color='DDEEF6', profile_text_color='333333', profile_use_background_image=True, has_extended_profile=True, default_profile=True, default_profile_image=False, following=False, follow_request_sent=False, notifications=False, translator_type='none'), user=User(_api=<tweepy.api.API object at 0x00000236179E2C88>, _json={'id': 1332554398929588225, 'id_str': '1332554398929588225', 'name': 'Sugam Jangid', 'screen_name': 'JangidSugam', 'location': 'Ajmer, India', 'description': 'Anti-Pseudo secularism\\nAnti-Libradus\\nHere? just for fun!', 'url': None, 'entities': {'description': {'urls': []}}, 'protected': False, 'followers_count': 6, 'friends_count': 146, 'listed_count': 0, 'created_at': 'Sat Nov 28 05:18:30 +0000 2020', 'favourites_count': 330, 'utc_offset': None, 'time_zone': None, 'geo_enabled': False, 'verified': False, 'statuses_count': 114, 'lang': None, 'contributors_enabled': False, 'is_translator': False, 'is_translation_enabled': False, 'profile_background_color': 'F5F8FA', 'profile_background_image_url': None, 'profile_background_image_url_https': None, 'profile_background_tile': False, 'profile_image_url': 'http://pbs.twimg.com/profile_images/1333280213438844930/OZ0nTpLs_normal.jpg', 'profile_image_url_https': 'https://pbs.twimg.com/profile_images/1333280213438844930/OZ0nTpLs_normal.jpg', 'profile_banner_url': 'https://pbs.twimg.com/profile_banners/1332554398929588225/1606713869', 'profile_link_color': '1DA1F2', 'profile_sidebar_border_color': 'C0DEED', 'profile_sidebar_fill_color': 'DDEEF6', 'profile_text_color': '333333', 'profile_use_background_image': True, 'has_extended_profile': True, 'default_profile': True, 'default_profile_image': False, 'following': False, 'follow_request_sent': False, 'notifications': False, 'translator_type': 'none'}, id=1332554398929588225, id_str='1332554398929588225', name='Sugam Jangid', screen_name='JangidSugam', location='Ajmer, India', description='Anti-Pseudo secularism\\nAnti-Libradus\\nHere? just for fun!', url=None, entities={'description': {'urls': []}}, protected=False, followers_count=6, friends_count=146, listed_count=0, created_at=datetime.datetime(2020, 11, 28, 5, 18, 30), favourites_count=330, utc_offset=None, time_zone=None, geo_enabled=False, verified=False, statuses_count=114, lang=None, contributors_enabled=False, is_translator=False, is_translation_enabled=False, profile_background_color='F5F8FA', profile_background_image_url=None, profile_background_image_url_https=None, profile_background_tile=False, profile_image_url='http://pbs.twimg.com/profile_images/1333280213438844930/OZ0nTpLs_normal.jpg', profile_image_url_https='https://pbs.twimg.com/profile_images/1333280213438844930/OZ0nTpLs_normal.jpg', profile_banner_url='https://pbs.twimg.com/profile_banners/1332554398929588225/1606713869', profile_link_color='1DA1F2', profile_sidebar_border_color='C0DEED', profile_sidebar_fill_color='DDEEF6', profile_text_color='333333', profile_use_background_image=True, has_extended_profile=True, default_profile=True, default_profile_image=False, following=False, follow_request_sent=False, notifications=False, translator_type='none'), geo=None, coordinates=None, place=None, contributors=None, is_quote_status=False, retweet_count=0, favorite_count=0, favorited=False, retweeted=False, lang='en') \n",
      "\n",
      "******************************\n",
      "Status(_api=<tweepy.api.API object at 0x00000236179E2C88>, _json={'created_at': 'Fri Dec 04 14:26:03 +0000 2020', 'id': 1334866560918294528, 'id_str': '1334866560918294528', 'full_text': \"BJP's communal propaganda against Punjab fails, Madhya Pradesh farmers join #FarmersDelhiChalo protest against Modi govt's controversial farm laws \\nhttps://t.co/XZPGhXee4k #Standwithfarmerschallenge #KisanVirodhiNarendraModi #TakeBackFarmLaws #Anti_Farmer_BJP\", 'truncated': False, 'display_text_range': [0, 259], 'entities': {'hashtags': [{'text': 'FarmersDelhiChalo', 'indices': [76, 94]}, {'text': 'Standwithfarmerschallenge', 'indices': [172, 198]}, {'text': 'KisanVirodhiNarendraModi', 'indices': [199, 224]}, {'text': 'TakeBackFarmLaws', 'indices': [225, 242]}, {'text': 'Anti_Farmer_BJP', 'indices': [243, 259]}], 'symbols': [], 'user_mentions': [], 'urls': [{'url': 'https://t.co/XZPGhXee4k', 'expanded_url': 'https://youtu.be/v93XL5rWrWs', 'display_url': 'youtu.be/v93XL5rWrWs', 'indices': [148, 171]}]}, 'metadata': {'iso_language_code': 'en', 'result_type': 'recent'}, 'source': '<a href=\"http://twitter.com/download/android\" rel=\"nofollow\">Twitter for Android</a>', 'in_reply_to_status_id': None, 'in_reply_to_status_id_str': None, 'in_reply_to_user_id': None, 'in_reply_to_user_id_str': None, 'in_reply_to_screen_name': None, 'user': {'id': 2849252738, 'id_str': '2849252738', 'name': 'Hindutva Watch', 'screen_name': 'Hindutva__watch', 'location': 'Worldwide', 'description': 'Against bigotry, violence, fundamentalism, extremism, obscurantism, revisionism, fascism, oppression in name of Hindutva *Not against Hindu religion*', 'url': None, 'entities': {'description': {'urls': []}}, 'protected': False, 'followers_count': 23140, 'friends_count': 6196, 'listed_count': 94, 'created_at': 'Thu Oct 09 21:56:03 +0000 2014', 'favourites_count': 6249, 'utc_offset': None, 'time_zone': None, 'geo_enabled': False, 'verified': False, 'statuses_count': 82180, 'lang': None, 'contributors_enabled': False, 'is_translator': False, 'is_translation_enabled': False, 'profile_background_color': 'C0DEED', 'profile_background_image_url': 'http://abs.twimg.com/images/themes/theme1/bg.png', 'profile_background_image_url_https': 'https://abs.twimg.com/images/themes/theme1/bg.png', 'profile_background_tile': False, 'profile_image_url': 'http://pbs.twimg.com/profile_images/913452199497408512/sf3OOhnQ_normal.jpg', 'profile_image_url_https': 'https://pbs.twimg.com/profile_images/913452199497408512/sf3OOhnQ_normal.jpg', 'profile_banner_url': 'https://pbs.twimg.com/profile_banners/2849252738/1506619081', 'profile_link_color': '0084B4', 'profile_sidebar_border_color': 'FFFFFF', 'profile_sidebar_fill_color': 'DDEEF6', 'profile_text_color': '333333', 'profile_use_background_image': True, 'has_extended_profile': False, 'default_profile': False, 'default_profile_image': False, 'following': False, 'follow_request_sent': False, 'notifications': False, 'translator_type': 'none'}, 'geo': None, 'coordinates': None, 'place': None, 'contributors': None, 'is_quote_status': False, 'retweet_count': 1, 'favorite_count': 3, 'favorited': False, 'retweeted': False, 'possibly_sensitive': False, 'lang': 'en'}, created_at=datetime.datetime(2020, 12, 4, 14, 26, 3), id=1334866560918294528, id_str='1334866560918294528', full_text=\"BJP's communal propaganda against Punjab fails, Madhya Pradesh farmers join #FarmersDelhiChalo protest against Modi govt's controversial farm laws \\nhttps://t.co/XZPGhXee4k #Standwithfarmerschallenge #KisanVirodhiNarendraModi #TakeBackFarmLaws #Anti_Farmer_BJP\", truncated=False, display_text_range=[0, 259], entities={'hashtags': [{'text': 'FarmersDelhiChalo', 'indices': [76, 94]}, {'text': 'Standwithfarmerschallenge', 'indices': [172, 198]}, {'text': 'KisanVirodhiNarendraModi', 'indices': [199, 224]}, {'text': 'TakeBackFarmLaws', 'indices': [225, 242]}, {'text': 'Anti_Farmer_BJP', 'indices': [243, 259]}], 'symbols': [], 'user_mentions': [], 'urls': [{'url': 'https://t.co/XZPGhXee4k', 'expanded_url': 'https://youtu.be/v93XL5rWrWs', 'display_url': 'youtu.be/v93XL5rWrWs', 'indices': [148, 171]}]}, metadata={'iso_language_code': 'en', 'result_type': 'recent'}, source='Twitter for Android', source_url='http://twitter.com/download/android', in_reply_to_status_id=None, in_reply_to_status_id_str=None, in_reply_to_user_id=None, in_reply_to_user_id_str=None, in_reply_to_screen_name=None, author=User(_api=<tweepy.api.API object at 0x00000236179E2C88>, _json={'id': 2849252738, 'id_str': '2849252738', 'name': 'Hindutva Watch', 'screen_name': 'Hindutva__watch', 'location': 'Worldwide', 'description': 'Against bigotry, violence, fundamentalism, extremism, obscurantism, revisionism, fascism, oppression in name of Hindutva *Not against Hindu religion*', 'url': None, 'entities': {'description': {'urls': []}}, 'protected': False, 'followers_count': 23140, 'friends_count': 6196, 'listed_count': 94, 'created_at': 'Thu Oct 09 21:56:03 +0000 2014', 'favourites_count': 6249, 'utc_offset': None, 'time_zone': None, 'geo_enabled': False, 'verified': False, 'statuses_count': 82180, 'lang': None, 'contributors_enabled': False, 'is_translator': False, 'is_translation_enabled': False, 'profile_background_color': 'C0DEED', 'profile_background_image_url': 'http://abs.twimg.com/images/themes/theme1/bg.png', 'profile_background_image_url_https': 'https://abs.twimg.com/images/themes/theme1/bg.png', 'profile_background_tile': False, 'profile_image_url': 'http://pbs.twimg.com/profile_images/913452199497408512/sf3OOhnQ_normal.jpg', 'profile_image_url_https': 'https://pbs.twimg.com/profile_images/913452199497408512/sf3OOhnQ_normal.jpg', 'profile_banner_url': 'https://pbs.twimg.com/profile_banners/2849252738/1506619081', 'profile_link_color': '0084B4', 'profile_sidebar_border_color': 'FFFFFF', 'profile_sidebar_fill_color': 'DDEEF6', 'profile_text_color': '333333', 'profile_use_background_image': True, 'has_extended_profile': False, 'default_profile': False, 'default_profile_image': False, 'following': False, 'follow_request_sent': False, 'notifications': False, 'translator_type': 'none'}, id=2849252738, id_str='2849252738', name='Hindutva Watch', screen_name='Hindutva__watch', location='Worldwide', description='Against bigotry, violence, fundamentalism, extremism, obscurantism, revisionism, fascism, oppression in name of Hindutva *Not against Hindu religion*', url=None, entities={'description': {'urls': []}}, protected=False, followers_count=23140, friends_count=6196, listed_count=94, created_at=datetime.datetime(2014, 10, 9, 21, 56, 3), favourites_count=6249, utc_offset=None, time_zone=None, geo_enabled=False, verified=False, statuses_count=82180, lang=None, contributors_enabled=False, is_translator=False, is_translation_enabled=False, profile_background_color='C0DEED', profile_background_image_url='http://abs.twimg.com/images/themes/theme1/bg.png', profile_background_image_url_https='https://abs.twimg.com/images/themes/theme1/bg.png', profile_background_tile=False, profile_image_url='http://pbs.twimg.com/profile_images/913452199497408512/sf3OOhnQ_normal.jpg', profile_image_url_https='https://pbs.twimg.com/profile_images/913452199497408512/sf3OOhnQ_normal.jpg', profile_banner_url='https://pbs.twimg.com/profile_banners/2849252738/1506619081', profile_link_color='0084B4', profile_sidebar_border_color='FFFFFF', profile_sidebar_fill_color='DDEEF6', profile_text_color='333333', profile_use_background_image=True, has_extended_profile=False, default_profile=False, default_profile_image=False, following=False, follow_request_sent=False, notifications=False, translator_type='none'), user=User(_api=<tweepy.api.API object at 0x00000236179E2C88>, _json={'id': 2849252738, 'id_str': '2849252738', 'name': 'Hindutva Watch', 'screen_name': 'Hindutva__watch', 'location': 'Worldwide', 'description': 'Against bigotry, violence, fundamentalism, extremism, obscurantism, revisionism, fascism, oppression in name of Hindutva *Not against Hindu religion*', 'url': None, 'entities': {'description': {'urls': []}}, 'protected': False, 'followers_count': 23140, 'friends_count': 6196, 'listed_count': 94, 'created_at': 'Thu Oct 09 21:56:03 +0000 2014', 'favourites_count': 6249, 'utc_offset': None, 'time_zone': None, 'geo_enabled': False, 'verified': False, 'statuses_count': 82180, 'lang': None, 'contributors_enabled': False, 'is_translator': False, 'is_translation_enabled': False, 'profile_background_color': 'C0DEED', 'profile_background_image_url': 'http://abs.twimg.com/images/themes/theme1/bg.png', 'profile_background_image_url_https': 'https://abs.twimg.com/images/themes/theme1/bg.png', 'profile_background_tile': False, 'profile_image_url': 'http://pbs.twimg.com/profile_images/913452199497408512/sf3OOhnQ_normal.jpg', 'profile_image_url_https': 'https://pbs.twimg.com/profile_images/913452199497408512/sf3OOhnQ_normal.jpg', 'profile_banner_url': 'https://pbs.twimg.com/profile_banners/2849252738/1506619081', 'profile_link_color': '0084B4', 'profile_sidebar_border_color': 'FFFFFF', 'profile_sidebar_fill_color': 'DDEEF6', 'profile_text_color': '333333', 'profile_use_background_image': True, 'has_extended_profile': False, 'default_profile': False, 'default_profile_image': False, 'following': False, 'follow_request_sent': False, 'notifications': False, 'translator_type': 'none'}, id=2849252738, id_str='2849252738', name='Hindutva Watch', screen_name='Hindutva__watch', location='Worldwide', description='Against bigotry, violence, fundamentalism, extremism, obscurantism, revisionism, fascism, oppression in name of Hindutva *Not against Hindu religion*', url=None, entities={'description': {'urls': []}}, protected=False, followers_count=23140, friends_count=6196, listed_count=94, created_at=datetime.datetime(2014, 10, 9, 21, 56, 3), favourites_count=6249, utc_offset=None, time_zone=None, geo_enabled=False, verified=False, statuses_count=82180, lang=None, contributors_enabled=False, is_translator=False, is_translation_enabled=False, profile_background_color='C0DEED', profile_background_image_url='http://abs.twimg.com/images/themes/theme1/bg.png', profile_background_image_url_https='https://abs.twimg.com/images/themes/theme1/bg.png', profile_background_tile=False, profile_image_url='http://pbs.twimg.com/profile_images/913452199497408512/sf3OOhnQ_normal.jpg', profile_image_url_https='https://pbs.twimg.com/profile_images/913452199497408512/sf3OOhnQ_normal.jpg', profile_banner_url='https://pbs.twimg.com/profile_banners/2849252738/1506619081', profile_link_color='0084B4', profile_sidebar_border_color='FFFFFF', profile_sidebar_fill_color='DDEEF6', profile_text_color='333333', profile_use_background_image=True, has_extended_profile=False, default_profile=False, default_profile_image=False, following=False, follow_request_sent=False, notifications=False, translator_type='none'), geo=None, coordinates=None, place=None, contributors=None, is_quote_status=False, retweet_count=1, favorite_count=3, favorited=False, retweeted=False, possibly_sensitive=False, lang='en') \n",
      "\n",
      "******************************\n",
      "Status(_api=<tweepy.api.API object at 0x00000236179E2C88>, _json={'created_at': 'Fri Dec 04 14:25:17 +0000 2020', 'id': 1334866370475905024, 'id_str': '1334866370475905024', 'full_text': '@ANI Finally true colours and agenda has come out in open behind this farmer’s protest , unfortunately they still don’t recognise the Power of silent supporters and die hard followers of NaMo...', 'truncated': False, 'display_text_range': [5, 194], 'entities': {'hashtags': [], 'symbols': [], 'user_mentions': [{'screen_name': 'ANI', 'name': 'ANI', 'id': 355989081, 'id_str': '355989081', 'indices': [0, 4]}], 'urls': []}, 'metadata': {'iso_language_code': 'en', 'result_type': 'recent'}, 'source': '<a href=\"http://twitter.com/download/iphone\" rel=\"nofollow\">Twitter for iPhone</a>', 'in_reply_to_status_id': 1334826156466479105, 'in_reply_to_status_id_str': '1334826156466479105', 'in_reply_to_user_id': 355989081, 'in_reply_to_user_id_str': '355989081', 'in_reply_to_screen_name': 'ANI', 'user': {'id': 701317279, 'id_str': '701317279', 'name': 'Siddharth goswami', 'screen_name': 'siddhgos', 'location': 'NaviMumbai', 'description': 'Telecom Professional, Marathoner, Fitness freak, Loves Adventure sports , Trekking, Believe in Hinduism, NaMo NaMo.', 'url': None, 'entities': {'description': {'urls': []}}, 'protected': False, 'followers_count': 469, 'friends_count': 2732, 'listed_count': 9, 'created_at': 'Tue Jul 17 16:10:52 +0000 2012', 'favourites_count': 17712, 'utc_offset': None, 'time_zone': None, 'geo_enabled': False, 'verified': False, 'statuses_count': 11923, 'lang': None, 'contributors_enabled': False, 'is_translator': False, 'is_translation_enabled': False, 'profile_background_color': 'C0DEED', 'profile_background_image_url': 'http://abs.twimg.com/images/themes/theme1/bg.png', 'profile_background_image_url_https': 'https://abs.twimg.com/images/themes/theme1/bg.png', 'profile_background_tile': False, 'profile_image_url': 'http://pbs.twimg.com/profile_images/473062431749439488/BjpYiz3q_normal.jpeg', 'profile_image_url_https': 'https://pbs.twimg.com/profile_images/473062431749439488/BjpYiz3q_normal.jpeg', 'profile_banner_url': 'https://pbs.twimg.com/profile_banners/701317279/1408119090', 'profile_link_color': '1DA1F2', 'profile_sidebar_border_color': 'C0DEED', 'profile_sidebar_fill_color': 'DDEEF6', 'profile_text_color': '333333', 'profile_use_background_image': True, 'has_extended_profile': True, 'default_profile': True, 'default_profile_image': False, 'following': False, 'follow_request_sent': False, 'notifications': False, 'translator_type': 'none'}, 'geo': None, 'coordinates': None, 'place': None, 'contributors': None, 'is_quote_status': False, 'retweet_count': 0, 'favorite_count': 0, 'favorited': False, 'retweeted': False, 'lang': 'en'}, created_at=datetime.datetime(2020, 12, 4, 14, 25, 17), id=1334866370475905024, id_str='1334866370475905024', full_text='@ANI Finally true colours and agenda has come out in open behind this farmer’s protest , unfortunately they still don’t recognise the Power of silent supporters and die hard followers of NaMo...', truncated=False, display_text_range=[5, 194], entities={'hashtags': [], 'symbols': [], 'user_mentions': [{'screen_name': 'ANI', 'name': 'ANI', 'id': 355989081, 'id_str': '355989081', 'indices': [0, 4]}], 'urls': []}, metadata={'iso_language_code': 'en', 'result_type': 'recent'}, source='Twitter for iPhone', source_url='http://twitter.com/download/iphone', in_reply_to_status_id=1334826156466479105, in_reply_to_status_id_str='1334826156466479105', in_reply_to_user_id=355989081, in_reply_to_user_id_str='355989081', in_reply_to_screen_name='ANI', author=User(_api=<tweepy.api.API object at 0x00000236179E2C88>, _json={'id': 701317279, 'id_str': '701317279', 'name': 'Siddharth goswami', 'screen_name': 'siddhgos', 'location': 'NaviMumbai', 'description': 'Telecom Professional, Marathoner, Fitness freak, Loves Adventure sports , Trekking, Believe in Hinduism, NaMo NaMo.', 'url': None, 'entities': {'description': {'urls': []}}, 'protected': False, 'followers_count': 469, 'friends_count': 2732, 'listed_count': 9, 'created_at': 'Tue Jul 17 16:10:52 +0000 2012', 'favourites_count': 17712, 'utc_offset': None, 'time_zone': None, 'geo_enabled': False, 'verified': False, 'statuses_count': 11923, 'lang': None, 'contributors_enabled': False, 'is_translator': False, 'is_translation_enabled': False, 'profile_background_color': 'C0DEED', 'profile_background_image_url': 'http://abs.twimg.com/images/themes/theme1/bg.png', 'profile_background_image_url_https': 'https://abs.twimg.com/images/themes/theme1/bg.png', 'profile_background_tile': False, 'profile_image_url': 'http://pbs.twimg.com/profile_images/473062431749439488/BjpYiz3q_normal.jpeg', 'profile_image_url_https': 'https://pbs.twimg.com/profile_images/473062431749439488/BjpYiz3q_normal.jpeg', 'profile_banner_url': 'https://pbs.twimg.com/profile_banners/701317279/1408119090', 'profile_link_color': '1DA1F2', 'profile_sidebar_border_color': 'C0DEED', 'profile_sidebar_fill_color': 'DDEEF6', 'profile_text_color': '333333', 'profile_use_background_image': True, 'has_extended_profile': True, 'default_profile': True, 'default_profile_image': False, 'following': False, 'follow_request_sent': False, 'notifications': False, 'translator_type': 'none'}, id=701317279, id_str='701317279', name='Siddharth goswami', screen_name='siddhgos', location='NaviMumbai', description='Telecom Professional, Marathoner, Fitness freak, Loves Adventure sports , Trekking, Believe in Hinduism, NaMo NaMo.', url=None, entities={'description': {'urls': []}}, protected=False, followers_count=469, friends_count=2732, listed_count=9, created_at=datetime.datetime(2012, 7, 17, 16, 10, 52), favourites_count=17712, utc_offset=None, time_zone=None, geo_enabled=False, verified=False, statuses_count=11923, lang=None, contributors_enabled=False, is_translator=False, is_translation_enabled=False, profile_background_color='C0DEED', profile_background_image_url='http://abs.twimg.com/images/themes/theme1/bg.png', profile_background_image_url_https='https://abs.twimg.com/images/themes/theme1/bg.png', profile_background_tile=False, profile_image_url='http://pbs.twimg.com/profile_images/473062431749439488/BjpYiz3q_normal.jpeg', profile_image_url_https='https://pbs.twimg.com/profile_images/473062431749439488/BjpYiz3q_normal.jpeg', profile_banner_url='https://pbs.twimg.com/profile_banners/701317279/1408119090', profile_link_color='1DA1F2', profile_sidebar_border_color='C0DEED', profile_sidebar_fill_color='DDEEF6', profile_text_color='333333', profile_use_background_image=True, has_extended_profile=True, default_profile=True, default_profile_image=False, following=False, follow_request_sent=False, notifications=False, translator_type='none'), user=User(_api=<tweepy.api.API object at 0x00000236179E2C88>, _json={'id': 701317279, 'id_str': '701317279', 'name': 'Siddharth goswami', 'screen_name': 'siddhgos', 'location': 'NaviMumbai', 'description': 'Telecom Professional, Marathoner, Fitness freak, Loves Adventure sports , Trekking, Believe in Hinduism, NaMo NaMo.', 'url': None, 'entities': {'description': {'urls': []}}, 'protected': False, 'followers_count': 469, 'friends_count': 2732, 'listed_count': 9, 'created_at': 'Tue Jul 17 16:10:52 +0000 2012', 'favourites_count': 17712, 'utc_offset': None, 'time_zone': None, 'geo_enabled': False, 'verified': False, 'statuses_count': 11923, 'lang': None, 'contributors_enabled': False, 'is_translator': False, 'is_translation_enabled': False, 'profile_background_color': 'C0DEED', 'profile_background_image_url': 'http://abs.twimg.com/images/themes/theme1/bg.png', 'profile_background_image_url_https': 'https://abs.twimg.com/images/themes/theme1/bg.png', 'profile_background_tile': False, 'profile_image_url': 'http://pbs.twimg.com/profile_images/473062431749439488/BjpYiz3q_normal.jpeg', 'profile_image_url_https': 'https://pbs.twimg.com/profile_images/473062431749439488/BjpYiz3q_normal.jpeg', 'profile_banner_url': 'https://pbs.twimg.com/profile_banners/701317279/1408119090', 'profile_link_color': '1DA1F2', 'profile_sidebar_border_color': 'C0DEED', 'profile_sidebar_fill_color': 'DDEEF6', 'profile_text_color': '333333', 'profile_use_background_image': True, 'has_extended_profile': True, 'default_profile': True, 'default_profile_image': False, 'following': False, 'follow_request_sent': False, 'notifications': False, 'translator_type': 'none'}, id=701317279, id_str='701317279', name='Siddharth goswami', screen_name='siddhgos', location='NaviMumbai', description='Telecom Professional, Marathoner, Fitness freak, Loves Adventure sports , Trekking, Believe in Hinduism, NaMo NaMo.', url=None, entities={'description': {'urls': []}}, protected=False, followers_count=469, friends_count=2732, listed_count=9, created_at=datetime.datetime(2012, 7, 17, 16, 10, 52), favourites_count=17712, utc_offset=None, time_zone=None, geo_enabled=False, verified=False, statuses_count=11923, lang=None, contributors_enabled=False, is_translator=False, is_translation_enabled=False, profile_background_color='C0DEED', profile_background_image_url='http://abs.twimg.com/images/themes/theme1/bg.png', profile_background_image_url_https='https://abs.twimg.com/images/themes/theme1/bg.png', profile_background_tile=False, profile_image_url='http://pbs.twimg.com/profile_images/473062431749439488/BjpYiz3q_normal.jpeg', profile_image_url_https='https://pbs.twimg.com/profile_images/473062431749439488/BjpYiz3q_normal.jpeg', profile_banner_url='https://pbs.twimg.com/profile_banners/701317279/1408119090', profile_link_color='1DA1F2', profile_sidebar_border_color='C0DEED', profile_sidebar_fill_color='DDEEF6', profile_text_color='333333', profile_use_background_image=True, has_extended_profile=True, default_profile=True, default_profile_image=False, following=False, follow_request_sent=False, notifications=False, translator_type='none'), geo=None, coordinates=None, place=None, contributors=None, is_quote_status=False, retweet_count=0, favorite_count=0, favorited=False, retweeted=False, lang='en') \n",
      "\n",
      "******************************\n",
      "Status(_api=<tweepy.api.API object at 0x00000236179E2C88>, _json={'created_at': 'Fri Dec 04 14:24:42 +0000 2020', 'id': 1334866222144319490, 'id_str': '1334866222144319490', 'full_text': \"Gound reality at Farmer's protest https://t.co/Lgs02XeW4w\", 'truncated': False, 'display_text_range': [0, 57], 'entities': {'hashtags': [], 'symbols': [], 'user_mentions': [], 'urls': [{'url': 'https://t.co/Lgs02XeW4w', 'expanded_url': 'https://youtu.be/Ho0myzQbsQ4', 'display_url': 'youtu.be/Ho0myzQbsQ4', 'indices': [34, 57]}]}, 'metadata': {'iso_language_code': 'en', 'result_type': 'recent'}, 'source': '<a href=\"http://twitter.com/download/android\" rel=\"nofollow\">Twitter for Android</a>', 'in_reply_to_status_id': None, 'in_reply_to_status_id_str': None, 'in_reply_to_user_id': None, 'in_reply_to_user_id_str': None, 'in_reply_to_screen_name': None, 'user': {'id': 56673950, 'id_str': '56673950', 'name': 'harkeet bajaj', 'screen_name': 'harkeetbajaj', 'location': 'india', 'description': '', 'url': None, 'entities': {'description': {'urls': []}}, 'protected': False, 'followers_count': 113, 'friends_count': 870, 'listed_count': 0, 'created_at': 'Tue Jul 14 11:54:16 +0000 2009', 'favourites_count': 2, 'utc_offset': None, 'time_zone': None, 'geo_enabled': True, 'verified': False, 'statuses_count': 131, 'lang': None, 'contributors_enabled': False, 'is_translator': False, 'is_translation_enabled': False, 'profile_background_color': '1A1B1F', 'profile_background_image_url': 'http://abs.twimg.com/images/themes/theme9/bg.gif', 'profile_background_image_url_https': 'https://abs.twimg.com/images/themes/theme9/bg.gif', 'profile_background_tile': True, 'profile_image_url': 'http://pbs.twimg.com/profile_images/782600272472190976/IaHJKKhy_normal.jpg', 'profile_image_url_https': 'https://pbs.twimg.com/profile_images/782600272472190976/IaHJKKhy_normal.jpg', 'profile_link_color': '2FC2EF', 'profile_sidebar_border_color': '181A1E', 'profile_sidebar_fill_color': '252429', 'profile_text_color': '666666', 'profile_use_background_image': True, 'has_extended_profile': True, 'default_profile': False, 'default_profile_image': False, 'following': False, 'follow_request_sent': False, 'notifications': False, 'translator_type': 'none'}, 'geo': None, 'coordinates': None, 'place': None, 'contributors': None, 'is_quote_status': False, 'retweet_count': 0, 'favorite_count': 0, 'favorited': False, 'retweeted': False, 'possibly_sensitive': False, 'lang': 'en'}, created_at=datetime.datetime(2020, 12, 4, 14, 24, 42), id=1334866222144319490, id_str='1334866222144319490', full_text=\"Gound reality at Farmer's protest https://t.co/Lgs02XeW4w\", truncated=False, display_text_range=[0, 57], entities={'hashtags': [], 'symbols': [], 'user_mentions': [], 'urls': [{'url': 'https://t.co/Lgs02XeW4w', 'expanded_url': 'https://youtu.be/Ho0myzQbsQ4', 'display_url': 'youtu.be/Ho0myzQbsQ4', 'indices': [34, 57]}]}, metadata={'iso_language_code': 'en', 'result_type': 'recent'}, source='Twitter for Android', source_url='http://twitter.com/download/android', in_reply_to_status_id=None, in_reply_to_status_id_str=None, in_reply_to_user_id=None, in_reply_to_user_id_str=None, in_reply_to_screen_name=None, author=User(_api=<tweepy.api.API object at 0x00000236179E2C88>, _json={'id': 56673950, 'id_str': '56673950', 'name': 'harkeet bajaj', 'screen_name': 'harkeetbajaj', 'location': 'india', 'description': '', 'url': None, 'entities': {'description': {'urls': []}}, 'protected': False, 'followers_count': 113, 'friends_count': 870, 'listed_count': 0, 'created_at': 'Tue Jul 14 11:54:16 +0000 2009', 'favourites_count': 2, 'utc_offset': None, 'time_zone': None, 'geo_enabled': True, 'verified': False, 'statuses_count': 131, 'lang': None, 'contributors_enabled': False, 'is_translator': False, 'is_translation_enabled': False, 'profile_background_color': '1A1B1F', 'profile_background_image_url': 'http://abs.twimg.com/images/themes/theme9/bg.gif', 'profile_background_image_url_https': 'https://abs.twimg.com/images/themes/theme9/bg.gif', 'profile_background_tile': True, 'profile_image_url': 'http://pbs.twimg.com/profile_images/782600272472190976/IaHJKKhy_normal.jpg', 'profile_image_url_https': 'https://pbs.twimg.com/profile_images/782600272472190976/IaHJKKhy_normal.jpg', 'profile_link_color': '2FC2EF', 'profile_sidebar_border_color': '181A1E', 'profile_sidebar_fill_color': '252429', 'profile_text_color': '666666', 'profile_use_background_image': True, 'has_extended_profile': True, 'default_profile': False, 'default_profile_image': False, 'following': False, 'follow_request_sent': False, 'notifications': False, 'translator_type': 'none'}, id=56673950, id_str='56673950', name='harkeet bajaj', screen_name='harkeetbajaj', location='india', description='', url=None, entities={'description': {'urls': []}}, protected=False, followers_count=113, friends_count=870, listed_count=0, created_at=datetime.datetime(2009, 7, 14, 11, 54, 16), favourites_count=2, utc_offset=None, time_zone=None, geo_enabled=True, verified=False, statuses_count=131, lang=None, contributors_enabled=False, is_translator=False, is_translation_enabled=False, profile_background_color='1A1B1F', profile_background_image_url='http://abs.twimg.com/images/themes/theme9/bg.gif', profile_background_image_url_https='https://abs.twimg.com/images/themes/theme9/bg.gif', profile_background_tile=True, profile_image_url='http://pbs.twimg.com/profile_images/782600272472190976/IaHJKKhy_normal.jpg', profile_image_url_https='https://pbs.twimg.com/profile_images/782600272472190976/IaHJKKhy_normal.jpg', profile_link_color='2FC2EF', profile_sidebar_border_color='181A1E', profile_sidebar_fill_color='252429', profile_text_color='666666', profile_use_background_image=True, has_extended_profile=True, default_profile=False, default_profile_image=False, following=False, follow_request_sent=False, notifications=False, translator_type='none'), user=User(_api=<tweepy.api.API object at 0x00000236179E2C88>, _json={'id': 56673950, 'id_str': '56673950', 'name': 'harkeet bajaj', 'screen_name': 'harkeetbajaj', 'location': 'india', 'description': '', 'url': None, 'entities': {'description': {'urls': []}}, 'protected': False, 'followers_count': 113, 'friends_count': 870, 'listed_count': 0, 'created_at': 'Tue Jul 14 11:54:16 +0000 2009', 'favourites_count': 2, 'utc_offset': None, 'time_zone': None, 'geo_enabled': True, 'verified': False, 'statuses_count': 131, 'lang': None, 'contributors_enabled': False, 'is_translator': False, 'is_translation_enabled': False, 'profile_background_color': '1A1B1F', 'profile_background_image_url': 'http://abs.twimg.com/images/themes/theme9/bg.gif', 'profile_background_image_url_https': 'https://abs.twimg.com/images/themes/theme9/bg.gif', 'profile_background_tile': True, 'profile_image_url': 'http://pbs.twimg.com/profile_images/782600272472190976/IaHJKKhy_normal.jpg', 'profile_image_url_https': 'https://pbs.twimg.com/profile_images/782600272472190976/IaHJKKhy_normal.jpg', 'profile_link_color': '2FC2EF', 'profile_sidebar_border_color': '181A1E', 'profile_sidebar_fill_color': '252429', 'profile_text_color': '666666', 'profile_use_background_image': True, 'has_extended_profile': True, 'default_profile': False, 'default_profile_image': False, 'following': False, 'follow_request_sent': False, 'notifications': False, 'translator_type': 'none'}, id=56673950, id_str='56673950', name='harkeet bajaj', screen_name='harkeetbajaj', location='india', description='', url=None, entities={'description': {'urls': []}}, protected=False, followers_count=113, friends_count=870, listed_count=0, created_at=datetime.datetime(2009, 7, 14, 11, 54, 16), favourites_count=2, utc_offset=None, time_zone=None, geo_enabled=True, verified=False, statuses_count=131, lang=None, contributors_enabled=False, is_translator=False, is_translation_enabled=False, profile_background_color='1A1B1F', profile_background_image_url='http://abs.twimg.com/images/themes/theme9/bg.gif', profile_background_image_url_https='https://abs.twimg.com/images/themes/theme9/bg.gif', profile_background_tile=True, profile_image_url='http://pbs.twimg.com/profile_images/782600272472190976/IaHJKKhy_normal.jpg', profile_image_url_https='https://pbs.twimg.com/profile_images/782600272472190976/IaHJKKhy_normal.jpg', profile_link_color='2FC2EF', profile_sidebar_border_color='181A1E', profile_sidebar_fill_color='252429', profile_text_color='666666', profile_use_background_image=True, has_extended_profile=True, default_profile=False, default_profile_image=False, following=False, follow_request_sent=False, notifications=False, translator_type='none'), geo=None, coordinates=None, place=None, contributors=None, is_quote_status=False, retweet_count=0, favorite_count=0, favorited=False, retweeted=False, possibly_sensitive=False, lang='en') \n",
      "\n",
      "******************************\n",
      "Status(_api=<tweepy.api.API object at 0x00000236179E2C88>, _json={'created_at': 'Fri Dec 04 14:21:41 +0000 2020', 'id': 1334865460785889283, 'id_str': '1334865460785889283', 'full_text': '@Wild_Squi as ARanganathan says these farmer’s protest is actually anti-farmers.', 'truncated': False, 'display_text_range': [11, 80], 'entities': {'hashtags': [], 'symbols': [], 'user_mentions': [{'screen_name': 'Wild_Squi', 'name': 'Wild_Squi / Stan Mumbai police', 'id': 1299533782303649792, 'id_str': '1299533782303649792', 'indices': [0, 10]}], 'urls': []}, 'metadata': {'iso_language_code': 'en', 'result_type': 'recent'}, 'source': '<a href=\"http://twitter.com/download/android\" rel=\"nofollow\">Twitter for Android</a>', 'in_reply_to_status_id': 1334865152735203332, 'in_reply_to_status_id_str': '1334865152735203332', 'in_reply_to_user_id': 1299533782303649792, 'in_reply_to_user_id_str': '1299533782303649792', 'in_reply_to_screen_name': 'Wild_Squi', 'user': {'id': 1201549330454204422, 'id_str': '1201549330454204422', 'name': '#𝔸𝕡𝕖𝕩𝔽𝕝𝕒𝕣𝕖! 🇮🇳 HR\\U0001f6d5🚩', 'screen_name': 'FLXR98', 'location': 'Apex, India', 'description': \"I don't even know, who you are.\\n\\nFarmer 🌾\\n\\n        \\n\\n\\n     bye twitter 👋🏼 :)\", 'url': 'https://t.co/QY6IL6EDX9', 'entities': {'url': {'urls': [{'url': 'https://t.co/QY6IL6EDX9', 'expanded_url': 'https://bongo.cat/', 'display_url': 'bongo.cat', 'indices': [0, 23]}]}, 'description': {'urls': []}}, 'protected': False, 'followers_count': 299, 'friends_count': 267, 'listed_count': 0, 'created_at': 'Mon Dec 02 17:12:24 +0000 2019', 'favourites_count': 36348, 'utc_offset': None, 'time_zone': None, 'geo_enabled': True, 'verified': False, 'statuses_count': 18086, 'lang': None, 'contributors_enabled': False, 'is_translator': False, 'is_translation_enabled': False, 'profile_background_color': 'F5F8FA', 'profile_background_image_url': None, 'profile_background_image_url_https': None, 'profile_background_tile': False, 'profile_image_url': 'http://pbs.twimg.com/profile_images/1326949549143810048/zHrpWj9Y_normal.jpg', 'profile_image_url_https': 'https://pbs.twimg.com/profile_images/1326949549143810048/zHrpWj9Y_normal.jpg', 'profile_banner_url': 'https://pbs.twimg.com/profile_banners/1201549330454204422/1597551649', 'profile_link_color': '1DA1F2', 'profile_sidebar_border_color': 'C0DEED', 'profile_sidebar_fill_color': 'DDEEF6', 'profile_text_color': '333333', 'profile_use_background_image': True, 'has_extended_profile': True, 'default_profile': True, 'default_profile_image': False, 'following': False, 'follow_request_sent': False, 'notifications': False, 'translator_type': 'none'}, 'geo': None, 'coordinates': None, 'place': None, 'contributors': None, 'is_quote_status': False, 'retweet_count': 0, 'favorite_count': 2, 'favorited': False, 'retweeted': False, 'lang': 'en'}, created_at=datetime.datetime(2020, 12, 4, 14, 21, 41), id=1334865460785889283, id_str='1334865460785889283', full_text='@Wild_Squi as ARanganathan says these farmer’s protest is actually anti-farmers.', truncated=False, display_text_range=[11, 80], entities={'hashtags': [], 'symbols': [], 'user_mentions': [{'screen_name': 'Wild_Squi', 'name': 'Wild_Squi / Stan Mumbai police', 'id': 1299533782303649792, 'id_str': '1299533782303649792', 'indices': [0, 10]}], 'urls': []}, metadata={'iso_language_code': 'en', 'result_type': 'recent'}, source='Twitter for Android', source_url='http://twitter.com/download/android', in_reply_to_status_id=1334865152735203332, in_reply_to_status_id_str='1334865152735203332', in_reply_to_user_id=1299533782303649792, in_reply_to_user_id_str='1299533782303649792', in_reply_to_screen_name='Wild_Squi', author=User(_api=<tweepy.api.API object at 0x00000236179E2C88>, _json={'id': 1201549330454204422, 'id_str': '1201549330454204422', 'name': '#𝔸𝕡𝕖𝕩𝔽𝕝𝕒𝕣𝕖! 🇮🇳 HR\\U0001f6d5🚩', 'screen_name': 'FLXR98', 'location': 'Apex, India', 'description': \"I don't even know, who you are.\\n\\nFarmer 🌾\\n\\n        \\n\\n\\n     bye twitter 👋🏼 :)\", 'url': 'https://t.co/QY6IL6EDX9', 'entities': {'url': {'urls': [{'url': 'https://t.co/QY6IL6EDX9', 'expanded_url': 'https://bongo.cat/', 'display_url': 'bongo.cat', 'indices': [0, 23]}]}, 'description': {'urls': []}}, 'protected': False, 'followers_count': 299, 'friends_count': 267, 'listed_count': 0, 'created_at': 'Mon Dec 02 17:12:24 +0000 2019', 'favourites_count': 36348, 'utc_offset': None, 'time_zone': None, 'geo_enabled': True, 'verified': False, 'statuses_count': 18086, 'lang': None, 'contributors_enabled': False, 'is_translator': False, 'is_translation_enabled': False, 'profile_background_color': 'F5F8FA', 'profile_background_image_url': None, 'profile_background_image_url_https': None, 'profile_background_tile': False, 'profile_image_url': 'http://pbs.twimg.com/profile_images/1326949549143810048/zHrpWj9Y_normal.jpg', 'profile_image_url_https': 'https://pbs.twimg.com/profile_images/1326949549143810048/zHrpWj9Y_normal.jpg', 'profile_banner_url': 'https://pbs.twimg.com/profile_banners/1201549330454204422/1597551649', 'profile_link_color': '1DA1F2', 'profile_sidebar_border_color': 'C0DEED', 'profile_sidebar_fill_color': 'DDEEF6', 'profile_text_color': '333333', 'profile_use_background_image': True, 'has_extended_profile': True, 'default_profile': True, 'default_profile_image': False, 'following': False, 'follow_request_sent': False, 'notifications': False, 'translator_type': 'none'}, id=1201549330454204422, id_str='1201549330454204422', name='#𝔸𝕡𝕖𝕩𝔽𝕝𝕒𝕣𝕖! 🇮🇳 HR\\U0001f6d5🚩', screen_name='FLXR98', location='Apex, India', description=\"I don't even know, who you are.\\n\\nFarmer 🌾\\n\\n        \\n\\n\\n     bye twitter 👋🏼 :)\", url='https://t.co/QY6IL6EDX9', entities={'url': {'urls': [{'url': 'https://t.co/QY6IL6EDX9', 'expanded_url': 'https://bongo.cat/', 'display_url': 'bongo.cat', 'indices': [0, 23]}]}, 'description': {'urls': []}}, protected=False, followers_count=299, friends_count=267, listed_count=0, created_at=datetime.datetime(2019, 12, 2, 17, 12, 24), favourites_count=36348, utc_offset=None, time_zone=None, geo_enabled=True, verified=False, statuses_count=18086, lang=None, contributors_enabled=False, is_translator=False, is_translation_enabled=False, profile_background_color='F5F8FA', profile_background_image_url=None, profile_background_image_url_https=None, profile_background_tile=False, profile_image_url='http://pbs.twimg.com/profile_images/1326949549143810048/zHrpWj9Y_normal.jpg', profile_image_url_https='https://pbs.twimg.com/profile_images/1326949549143810048/zHrpWj9Y_normal.jpg', profile_banner_url='https://pbs.twimg.com/profile_banners/1201549330454204422/1597551649', profile_link_color='1DA1F2', profile_sidebar_border_color='C0DEED', profile_sidebar_fill_color='DDEEF6', profile_text_color='333333', profile_use_background_image=True, has_extended_profile=True, default_profile=True, default_profile_image=False, following=False, follow_request_sent=False, notifications=False, translator_type='none'), user=User(_api=<tweepy.api.API object at 0x00000236179E2C88>, _json={'id': 1201549330454204422, 'id_str': '1201549330454204422', 'name': '#𝔸𝕡𝕖𝕩𝔽𝕝𝕒𝕣𝕖! 🇮🇳 HR\\U0001f6d5🚩', 'screen_name': 'FLXR98', 'location': 'Apex, India', 'description': \"I don't even know, who you are.\\n\\nFarmer 🌾\\n\\n        \\n\\n\\n     bye twitter 👋🏼 :)\", 'url': 'https://t.co/QY6IL6EDX9', 'entities': {'url': {'urls': [{'url': 'https://t.co/QY6IL6EDX9', 'expanded_url': 'https://bongo.cat/', 'display_url': 'bongo.cat', 'indices': [0, 23]}]}, 'description': {'urls': []}}, 'protected': False, 'followers_count': 299, 'friends_count': 267, 'listed_count': 0, 'created_at': 'Mon Dec 02 17:12:24 +0000 2019', 'favourites_count': 36348, 'utc_offset': None, 'time_zone': None, 'geo_enabled': True, 'verified': False, 'statuses_count': 18086, 'lang': None, 'contributors_enabled': False, 'is_translator': False, 'is_translation_enabled': False, 'profile_background_color': 'F5F8FA', 'profile_background_image_url': None, 'profile_background_image_url_https': None, 'profile_background_tile': False, 'profile_image_url': 'http://pbs.twimg.com/profile_images/1326949549143810048/zHrpWj9Y_normal.jpg', 'profile_image_url_https': 'https://pbs.twimg.com/profile_images/1326949549143810048/zHrpWj9Y_normal.jpg', 'profile_banner_url': 'https://pbs.twimg.com/profile_banners/1201549330454204422/1597551649', 'profile_link_color': '1DA1F2', 'profile_sidebar_border_color': 'C0DEED', 'profile_sidebar_fill_color': 'DDEEF6', 'profile_text_color': '333333', 'profile_use_background_image': True, 'has_extended_profile': True, 'default_profile': True, 'default_profile_image': False, 'following': False, 'follow_request_sent': False, 'notifications': False, 'translator_type': 'none'}, id=1201549330454204422, id_str='1201549330454204422', name='#𝔸𝕡𝕖𝕩𝔽𝕝𝕒𝕣𝕖! 🇮🇳 HR\\U0001f6d5🚩', screen_name='FLXR98', location='Apex, India', description=\"I don't even know, who you are.\\n\\nFarmer 🌾\\n\\n        \\n\\n\\n     bye twitter 👋🏼 :)\", url='https://t.co/QY6IL6EDX9', entities={'url': {'urls': [{'url': 'https://t.co/QY6IL6EDX9', 'expanded_url': 'https://bongo.cat/', 'display_url': 'bongo.cat', 'indices': [0, 23]}]}, 'description': {'urls': []}}, protected=False, followers_count=299, friends_count=267, listed_count=0, created_at=datetime.datetime(2019, 12, 2, 17, 12, 24), favourites_count=36348, utc_offset=None, time_zone=None, geo_enabled=True, verified=False, statuses_count=18086, lang=None, contributors_enabled=False, is_translator=False, is_translation_enabled=False, profile_background_color='F5F8FA', profile_background_image_url=None, profile_background_image_url_https=None, profile_background_tile=False, profile_image_url='http://pbs.twimg.com/profile_images/1326949549143810048/zHrpWj9Y_normal.jpg', profile_image_url_https='https://pbs.twimg.com/profile_images/1326949549143810048/zHrpWj9Y_normal.jpg', profile_banner_url='https://pbs.twimg.com/profile_banners/1201549330454204422/1597551649', profile_link_color='1DA1F2', profile_sidebar_border_color='C0DEED', profile_sidebar_fill_color='DDEEF6', profile_text_color='333333', profile_use_background_image=True, has_extended_profile=True, default_profile=True, default_profile_image=False, following=False, follow_request_sent=False, notifications=False, translator_type='none'), geo=None, coordinates=None, place=None, contributors=None, is_quote_status=False, retweet_count=0, favorite_count=2, favorited=False, retweeted=False, lang='en') \n",
      "\n",
      "******************************\n",
      "Status(_api=<tweepy.api.API object at 0x00000236179E2C88>, _json={'created_at': 'Fri Dec 04 14:19:53 +0000 2020', 'id': 1334865009386561539, 'id_str': '1334865009386561539', 'full_text': \"@dharmicverangna Did u know this ? \\n\\nIn a Farmer's protest , 24 Farmers were killed and then all the protests came to a standstill.😱😱 https://t.co/Z6CHcvUCS9\", 'truncated': False, 'display_text_range': [17, 133], 'entities': {'hashtags': [], 'symbols': [], 'user_mentions': [{'screen_name': 'dharmicverangna', 'name': 'Vaidehi In Exile 🇮🇳 🕉️', 'id': 2422513290, 'id_str': '2422513290', 'indices': [0, 16]}], 'urls': [], 'media': [{'id': 1334864872278913024, 'id_str': '1334864872278913024', 'indices': [134, 157], 'media_url': 'http://pbs.twimg.com/ext_tw_video_thumb/1334864872278913024/pu/img/xb3_VhC6xbfSir6f.jpg', 'media_url_https': 'https://pbs.twimg.com/ext_tw_video_thumb/1334864872278913024/pu/img/xb3_VhC6xbfSir6f.jpg', 'url': 'https://t.co/Z6CHcvUCS9', 'display_url': 'pic.twitter.com/Z6CHcvUCS9', 'expanded_url': 'https://twitter.com/Paradox_1O1/status/1334865009386561539/video/1', 'type': 'photo', 'sizes': {'thumb': {'w': 150, 'h': 150, 'resize': 'crop'}, 'small': {'w': 320, 'h': 176, 'resize': 'fit'}, 'medium': {'w': 320, 'h': 176, 'resize': 'fit'}, 'large': {'w': 320, 'h': 176, 'resize': 'fit'}}}]}, 'extended_entities': {'media': [{'id': 1334864872278913024, 'id_str': '1334864872278913024', 'indices': [134, 157], 'media_url': 'http://pbs.twimg.com/ext_tw_video_thumb/1334864872278913024/pu/img/xb3_VhC6xbfSir6f.jpg', 'media_url_https': 'https://pbs.twimg.com/ext_tw_video_thumb/1334864872278913024/pu/img/xb3_VhC6xbfSir6f.jpg', 'url': 'https://t.co/Z6CHcvUCS9', 'display_url': 'pic.twitter.com/Z6CHcvUCS9', 'expanded_url': 'https://twitter.com/Paradox_1O1/status/1334865009386561539/video/1', 'type': 'video', 'sizes': {'thumb': {'w': 150, 'h': 150, 'resize': 'crop'}, 'small': {'w': 320, 'h': 176, 'resize': 'fit'}, 'medium': {'w': 320, 'h': 176, 'resize': 'fit'}, 'large': {'w': 320, 'h': 176, 'resize': 'fit'}}, 'video_info': {'aspect_ratio': [20, 11], 'duration_millis': 139829, 'variants': [{'bitrate': 256000, 'content_type': 'video/mp4', 'url': 'https://video.twimg.com/ext_tw_video/1334864872278913024/pu/vid/320x176/3eri06Y6tEzL8MUz.mp4?tag=10'}, {'content_type': 'application/x-mpegURL', 'url': 'https://video.twimg.com/ext_tw_video/1334864872278913024/pu/pl/b3Q9lwa54rQvNngM.m3u8?tag=10'}]}, 'additional_media_info': {'monetizable': False}}]}, 'metadata': {'iso_language_code': 'en', 'result_type': 'recent'}, 'source': '<a href=\"http://twitter.com/download/android\" rel=\"nofollow\">Twitter for Android</a>', 'in_reply_to_status_id': 1334858904203714562, 'in_reply_to_status_id_str': '1334858904203714562', 'in_reply_to_user_id': 2422513290, 'in_reply_to_user_id_str': '2422513290', 'in_reply_to_screen_name': 'dharmicverangna', 'user': {'id': 1277001084230184960, 'id_str': '1277001084230184960', 'name': 'Paradox_1O1_1.O', 'screen_name': 'Paradox_1O1', 'location': 'Quan.Particle_OnlyProb.Density', 'description': \"Bio?_GoTo @ComplexNumber_Z -AlterEgo Formed BC twitter limited my account for my UcchWichaar_on ☮️'s | Nemesis of LW |@INCIndia rUReallySecular_Poochta Hai🇮🇳\", 'url': None, 'entities': {'description': {'urls': []}}, 'protected': False, 'followers_count': 18, 'friends_count': 50, 'listed_count': 0, 'created_at': 'Sat Jun 27 22:09:52 +0000 2020', 'favourites_count': 931, 'utc_offset': None, 'time_zone': None, 'geo_enabled': False, 'verified': False, 'statuses_count': 1945, 'lang': None, 'contributors_enabled': False, 'is_translator': False, 'is_translation_enabled': False, 'profile_background_color': 'F5F8FA', 'profile_background_image_url': None, 'profile_background_image_url_https': None, 'profile_background_tile': False, 'profile_image_url': 'http://pbs.twimg.com/profile_images/1305812412151427074/MY3WVc2F_normal.jpg', 'profile_image_url_https': 'https://pbs.twimg.com/profile_images/1305812412151427074/MY3WVc2F_normal.jpg', 'profile_banner_url': 'https://pbs.twimg.com/profile_banners/1277001084230184960/1600654943', 'profile_link_color': '1DA1F2', 'profile_sidebar_border_color': 'C0DEED', 'profile_sidebar_fill_color': 'DDEEF6', 'profile_text_color': '333333', 'profile_use_background_image': True, 'has_extended_profile': True, 'default_profile': True, 'default_profile_image': False, 'following': False, 'follow_request_sent': False, 'notifications': False, 'translator_type': 'none'}, 'geo': None, 'coordinates': None, 'place': None, 'contributors': None, 'is_quote_status': False, 'retweet_count': 0, 'favorite_count': 0, 'favorited': False, 'retweeted': False, 'possibly_sensitive': False, 'lang': 'en'}, created_at=datetime.datetime(2020, 12, 4, 14, 19, 53), id=1334865009386561539, id_str='1334865009386561539', full_text=\"@dharmicverangna Did u know this ? \\n\\nIn a Farmer's protest , 24 Farmers were killed and then all the protests came to a standstill.😱😱 https://t.co/Z6CHcvUCS9\", truncated=False, display_text_range=[17, 133], entities={'hashtags': [], 'symbols': [], 'user_mentions': [{'screen_name': 'dharmicverangna', 'name': 'Vaidehi In Exile 🇮🇳 🕉️', 'id': 2422513290, 'id_str': '2422513290', 'indices': [0, 16]}], 'urls': [], 'media': [{'id': 1334864872278913024, 'id_str': '1334864872278913024', 'indices': [134, 157], 'media_url': 'http://pbs.twimg.com/ext_tw_video_thumb/1334864872278913024/pu/img/xb3_VhC6xbfSir6f.jpg', 'media_url_https': 'https://pbs.twimg.com/ext_tw_video_thumb/1334864872278913024/pu/img/xb3_VhC6xbfSir6f.jpg', 'url': 'https://t.co/Z6CHcvUCS9', 'display_url': 'pic.twitter.com/Z6CHcvUCS9', 'expanded_url': 'https://twitter.com/Paradox_1O1/status/1334865009386561539/video/1', 'type': 'photo', 'sizes': {'thumb': {'w': 150, 'h': 150, 'resize': 'crop'}, 'small': {'w': 320, 'h': 176, 'resize': 'fit'}, 'medium': {'w': 320, 'h': 176, 'resize': 'fit'}, 'large': {'w': 320, 'h': 176, 'resize': 'fit'}}}]}, extended_entities={'media': [{'id': 1334864872278913024, 'id_str': '1334864872278913024', 'indices': [134, 157], 'media_url': 'http://pbs.twimg.com/ext_tw_video_thumb/1334864872278913024/pu/img/xb3_VhC6xbfSir6f.jpg', 'media_url_https': 'https://pbs.twimg.com/ext_tw_video_thumb/1334864872278913024/pu/img/xb3_VhC6xbfSir6f.jpg', 'url': 'https://t.co/Z6CHcvUCS9', 'display_url': 'pic.twitter.com/Z6CHcvUCS9', 'expanded_url': 'https://twitter.com/Paradox_1O1/status/1334865009386561539/video/1', 'type': 'video', 'sizes': {'thumb': {'w': 150, 'h': 150, 'resize': 'crop'}, 'small': {'w': 320, 'h': 176, 'resize': 'fit'}, 'medium': {'w': 320, 'h': 176, 'resize': 'fit'}, 'large': {'w': 320, 'h': 176, 'resize': 'fit'}}, 'video_info': {'aspect_ratio': [20, 11], 'duration_millis': 139829, 'variants': [{'bitrate': 256000, 'content_type': 'video/mp4', 'url': 'https://video.twimg.com/ext_tw_video/1334864872278913024/pu/vid/320x176/3eri06Y6tEzL8MUz.mp4?tag=10'}, {'content_type': 'application/x-mpegURL', 'url': 'https://video.twimg.com/ext_tw_video/1334864872278913024/pu/pl/b3Q9lwa54rQvNngM.m3u8?tag=10'}]}, 'additional_media_info': {'monetizable': False}}]}, metadata={'iso_language_code': 'en', 'result_type': 'recent'}, source='Twitter for Android', source_url='http://twitter.com/download/android', in_reply_to_status_id=1334858904203714562, in_reply_to_status_id_str='1334858904203714562', in_reply_to_user_id=2422513290, in_reply_to_user_id_str='2422513290', in_reply_to_screen_name='dharmicverangna', author=User(_api=<tweepy.api.API object at 0x00000236179E2C88>, _json={'id': 1277001084230184960, 'id_str': '1277001084230184960', 'name': 'Paradox_1O1_1.O', 'screen_name': 'Paradox_1O1', 'location': 'Quan.Particle_OnlyProb.Density', 'description': \"Bio?_GoTo @ComplexNumber_Z -AlterEgo Formed BC twitter limited my account for my UcchWichaar_on ☮️'s | Nemesis of LW |@INCIndia rUReallySecular_Poochta Hai🇮🇳\", 'url': None, 'entities': {'description': {'urls': []}}, 'protected': False, 'followers_count': 18, 'friends_count': 50, 'listed_count': 0, 'created_at': 'Sat Jun 27 22:09:52 +0000 2020', 'favourites_count': 931, 'utc_offset': None, 'time_zone': None, 'geo_enabled': False, 'verified': False, 'statuses_count': 1945, 'lang': None, 'contributors_enabled': False, 'is_translator': False, 'is_translation_enabled': False, 'profile_background_color': 'F5F8FA', 'profile_background_image_url': None, 'profile_background_image_url_https': None, 'profile_background_tile': False, 'profile_image_url': 'http://pbs.twimg.com/profile_images/1305812412151427074/MY3WVc2F_normal.jpg', 'profile_image_url_https': 'https://pbs.twimg.com/profile_images/1305812412151427074/MY3WVc2F_normal.jpg', 'profile_banner_url': 'https://pbs.twimg.com/profile_banners/1277001084230184960/1600654943', 'profile_link_color': '1DA1F2', 'profile_sidebar_border_color': 'C0DEED', 'profile_sidebar_fill_color': 'DDEEF6', 'profile_text_color': '333333', 'profile_use_background_image': True, 'has_extended_profile': True, 'default_profile': True, 'default_profile_image': False, 'following': False, 'follow_request_sent': False, 'notifications': False, 'translator_type': 'none'}, id=1277001084230184960, id_str='1277001084230184960', name='Paradox_1O1_1.O', screen_name='Paradox_1O1', location='Quan.Particle_OnlyProb.Density', description=\"Bio?_GoTo @ComplexNumber_Z -AlterEgo Formed BC twitter limited my account for my UcchWichaar_on ☮️'s | Nemesis of LW |@INCIndia rUReallySecular_Poochta Hai🇮🇳\", url=None, entities={'description': {'urls': []}}, protected=False, followers_count=18, friends_count=50, listed_count=0, created_at=datetime.datetime(2020, 6, 27, 22, 9, 52), favourites_count=931, utc_offset=None, time_zone=None, geo_enabled=False, verified=False, statuses_count=1945, lang=None, contributors_enabled=False, is_translator=False, is_translation_enabled=False, profile_background_color='F5F8FA', profile_background_image_url=None, profile_background_image_url_https=None, profile_background_tile=False, profile_image_url='http://pbs.twimg.com/profile_images/1305812412151427074/MY3WVc2F_normal.jpg', profile_image_url_https='https://pbs.twimg.com/profile_images/1305812412151427074/MY3WVc2F_normal.jpg', profile_banner_url='https://pbs.twimg.com/profile_banners/1277001084230184960/1600654943', profile_link_color='1DA1F2', profile_sidebar_border_color='C0DEED', profile_sidebar_fill_color='DDEEF6', profile_text_color='333333', profile_use_background_image=True, has_extended_profile=True, default_profile=True, default_profile_image=False, following=False, follow_request_sent=False, notifications=False, translator_type='none'), user=User(_api=<tweepy.api.API object at 0x00000236179E2C88>, _json={'id': 1277001084230184960, 'id_str': '1277001084230184960', 'name': 'Paradox_1O1_1.O', 'screen_name': 'Paradox_1O1', 'location': 'Quan.Particle_OnlyProb.Density', 'description': \"Bio?_GoTo @ComplexNumber_Z -AlterEgo Formed BC twitter limited my account for my UcchWichaar_on ☮️'s | Nemesis of LW |@INCIndia rUReallySecular_Poochta Hai🇮🇳\", 'url': None, 'entities': {'description': {'urls': []}}, 'protected': False, 'followers_count': 18, 'friends_count': 50, 'listed_count': 0, 'created_at': 'Sat Jun 27 22:09:52 +0000 2020', 'favourites_count': 931, 'utc_offset': None, 'time_zone': None, 'geo_enabled': False, 'verified': False, 'statuses_count': 1945, 'lang': None, 'contributors_enabled': False, 'is_translator': False, 'is_translation_enabled': False, 'profile_background_color': 'F5F8FA', 'profile_background_image_url': None, 'profile_background_image_url_https': None, 'profile_background_tile': False, 'profile_image_url': 'http://pbs.twimg.com/profile_images/1305812412151427074/MY3WVc2F_normal.jpg', 'profile_image_url_https': 'https://pbs.twimg.com/profile_images/1305812412151427074/MY3WVc2F_normal.jpg', 'profile_banner_url': 'https://pbs.twimg.com/profile_banners/1277001084230184960/1600654943', 'profile_link_color': '1DA1F2', 'profile_sidebar_border_color': 'C0DEED', 'profile_sidebar_fill_color': 'DDEEF6', 'profile_text_color': '333333', 'profile_use_background_image': True, 'has_extended_profile': True, 'default_profile': True, 'default_profile_image': False, 'following': False, 'follow_request_sent': False, 'notifications': False, 'translator_type': 'none'}, id=1277001084230184960, id_str='1277001084230184960', name='Paradox_1O1_1.O', screen_name='Paradox_1O1', location='Quan.Particle_OnlyProb.Density', description=\"Bio?_GoTo @ComplexNumber_Z -AlterEgo Formed BC twitter limited my account for my UcchWichaar_on ☮️'s | Nemesis of LW |@INCIndia rUReallySecular_Poochta Hai🇮🇳\", url=None, entities={'description': {'urls': []}}, protected=False, followers_count=18, friends_count=50, listed_count=0, created_at=datetime.datetime(2020, 6, 27, 22, 9, 52), favourites_count=931, utc_offset=None, time_zone=None, geo_enabled=False, verified=False, statuses_count=1945, lang=None, contributors_enabled=False, is_translator=False, is_translation_enabled=False, profile_background_color='F5F8FA', profile_background_image_url=None, profile_background_image_url_https=None, profile_background_tile=False, profile_image_url='http://pbs.twimg.com/profile_images/1305812412151427074/MY3WVc2F_normal.jpg', profile_image_url_https='https://pbs.twimg.com/profile_images/1305812412151427074/MY3WVc2F_normal.jpg', profile_banner_url='https://pbs.twimg.com/profile_banners/1277001084230184960/1600654943', profile_link_color='1DA1F2', profile_sidebar_border_color='C0DEED', profile_sidebar_fill_color='DDEEF6', profile_text_color='333333', profile_use_background_image=True, has_extended_profile=True, default_profile=True, default_profile_image=False, following=False, follow_request_sent=False, notifications=False, translator_type='none'), geo=None, coordinates=None, place=None, contributors=None, is_quote_status=False, retweet_count=0, favorite_count=0, favorited=False, retweeted=False, possibly_sensitive=False, lang='en') \n",
      "\n",
      "******************************\n",
      "Status(_api=<tweepy.api.API object at 0x00000236179E2C88>, _json={'created_at': 'Fri Dec 04 14:18:25 +0000 2020', 'id': 1334864639373393920, 'id_str': '1334864639373393920', 'full_text': '@RishiKNagar @_pallavighosh And that’s what we are getting to see right now during this method of protest. Where farmers leaders want to close all roads to Delhi. An average farmer and for that reason most of the people might not have brainstormed around the law. It’s more emotional', 'truncated': False, 'display_text_range': [28, 283], 'entities': {'hashtags': [], 'symbols': [], 'user_mentions': [{'screen_name': 'RishiKNagar', 'name': 'Rishi Nagar🍁', 'id': 1195336747, 'id_str': '1195336747', 'indices': [0, 12]}, {'screen_name': '_pallavighosh', 'name': 'pallavi ghosh', 'id': 42043572, 'id_str': '42043572', 'indices': [13, 27]}], 'urls': []}, 'metadata': {'iso_language_code': 'en', 'result_type': 'recent'}, 'source': '<a href=\"http://twitter.com/download/iphone\" rel=\"nofollow\">Twitter for iPhone</a>', 'in_reply_to_status_id': 1334740881711067136, 'in_reply_to_status_id_str': '1334740881711067136', 'in_reply_to_user_id': 1195336747, 'in_reply_to_user_id_str': '1195336747', 'in_reply_to_screen_name': 'RishiKNagar', 'user': {'id': 952951901112315904, 'id_str': '952951901112315904', 'name': 'Hirak Parekh', 'screen_name': 'Letuscheckfact1', 'location': '', 'description': '', 'url': None, 'entities': {'description': {'urls': []}}, 'protected': False, 'followers_count': 1, 'friends_count': 24, 'listed_count': 0, 'created_at': 'Mon Jan 15 17:13:32 +0000 2018', 'favourites_count': 42, 'utc_offset': None, 'time_zone': None, 'geo_enabled': False, 'verified': False, 'statuses_count': 54, 'lang': None, 'contributors_enabled': False, 'is_translator': False, 'is_translation_enabled': False, 'profile_background_color': 'F5F8FA', 'profile_background_image_url': None, 'profile_background_image_url_https': None, 'profile_background_tile': False, 'profile_image_url': 'http://abs.twimg.com/sticky/default_profile_images/default_profile_normal.png', 'profile_image_url_https': 'https://abs.twimg.com/sticky/default_profile_images/default_profile_normal.png', 'profile_link_color': '1DA1F2', 'profile_sidebar_border_color': 'C0DEED', 'profile_sidebar_fill_color': 'DDEEF6', 'profile_text_color': '333333', 'profile_use_background_image': True, 'has_extended_profile': False, 'default_profile': True, 'default_profile_image': True, 'following': False, 'follow_request_sent': False, 'notifications': False, 'translator_type': 'none'}, 'geo': None, 'coordinates': None, 'place': None, 'contributors': None, 'is_quote_status': False, 'retweet_count': 0, 'favorite_count': 0, 'favorited': False, 'retweeted': False, 'lang': 'en'}, created_at=datetime.datetime(2020, 12, 4, 14, 18, 25), id=1334864639373393920, id_str='1334864639373393920', full_text='@RishiKNagar @_pallavighosh And that’s what we are getting to see right now during this method of protest. Where farmers leaders want to close all roads to Delhi. An average farmer and for that reason most of the people might not have brainstormed around the law. It’s more emotional', truncated=False, display_text_range=[28, 283], entities={'hashtags': [], 'symbols': [], 'user_mentions': [{'screen_name': 'RishiKNagar', 'name': 'Rishi Nagar🍁', 'id': 1195336747, 'id_str': '1195336747', 'indices': [0, 12]}, {'screen_name': '_pallavighosh', 'name': 'pallavi ghosh', 'id': 42043572, 'id_str': '42043572', 'indices': [13, 27]}], 'urls': []}, metadata={'iso_language_code': 'en', 'result_type': 'recent'}, source='Twitter for iPhone', source_url='http://twitter.com/download/iphone', in_reply_to_status_id=1334740881711067136, in_reply_to_status_id_str='1334740881711067136', in_reply_to_user_id=1195336747, in_reply_to_user_id_str='1195336747', in_reply_to_screen_name='RishiKNagar', author=User(_api=<tweepy.api.API object at 0x00000236179E2C88>, _json={'id': 952951901112315904, 'id_str': '952951901112315904', 'name': 'Hirak Parekh', 'screen_name': 'Letuscheckfact1', 'location': '', 'description': '', 'url': None, 'entities': {'description': {'urls': []}}, 'protected': False, 'followers_count': 1, 'friends_count': 24, 'listed_count': 0, 'created_at': 'Mon Jan 15 17:13:32 +0000 2018', 'favourites_count': 42, 'utc_offset': None, 'time_zone': None, 'geo_enabled': False, 'verified': False, 'statuses_count': 54, 'lang': None, 'contributors_enabled': False, 'is_translator': False, 'is_translation_enabled': False, 'profile_background_color': 'F5F8FA', 'profile_background_image_url': None, 'profile_background_image_url_https': None, 'profile_background_tile': False, 'profile_image_url': 'http://abs.twimg.com/sticky/default_profile_images/default_profile_normal.png', 'profile_image_url_https': 'https://abs.twimg.com/sticky/default_profile_images/default_profile_normal.png', 'profile_link_color': '1DA1F2', 'profile_sidebar_border_color': 'C0DEED', 'profile_sidebar_fill_color': 'DDEEF6', 'profile_text_color': '333333', 'profile_use_background_image': True, 'has_extended_profile': False, 'default_profile': True, 'default_profile_image': True, 'following': False, 'follow_request_sent': False, 'notifications': False, 'translator_type': 'none'}, id=952951901112315904, id_str='952951901112315904', name='Hirak Parekh', screen_name='Letuscheckfact1', location='', description='', url=None, entities={'description': {'urls': []}}, protected=False, followers_count=1, friends_count=24, listed_count=0, created_at=datetime.datetime(2018, 1, 15, 17, 13, 32), favourites_count=42, utc_offset=None, time_zone=None, geo_enabled=False, verified=False, statuses_count=54, lang=None, contributors_enabled=False, is_translator=False, is_translation_enabled=False, profile_background_color='F5F8FA', profile_background_image_url=None, profile_background_image_url_https=None, profile_background_tile=False, profile_image_url='http://abs.twimg.com/sticky/default_profile_images/default_profile_normal.png', profile_image_url_https='https://abs.twimg.com/sticky/default_profile_images/default_profile_normal.png', profile_link_color='1DA1F2', profile_sidebar_border_color='C0DEED', profile_sidebar_fill_color='DDEEF6', profile_text_color='333333', profile_use_background_image=True, has_extended_profile=False, default_profile=True, default_profile_image=True, following=False, follow_request_sent=False, notifications=False, translator_type='none'), user=User(_api=<tweepy.api.API object at 0x00000236179E2C88>, _json={'id': 952951901112315904, 'id_str': '952951901112315904', 'name': 'Hirak Parekh', 'screen_name': 'Letuscheckfact1', 'location': '', 'description': '', 'url': None, 'entities': {'description': {'urls': []}}, 'protected': False, 'followers_count': 1, 'friends_count': 24, 'listed_count': 0, 'created_at': 'Mon Jan 15 17:13:32 +0000 2018', 'favourites_count': 42, 'utc_offset': None, 'time_zone': None, 'geo_enabled': False, 'verified': False, 'statuses_count': 54, 'lang': None, 'contributors_enabled': False, 'is_translator': False, 'is_translation_enabled': False, 'profile_background_color': 'F5F8FA', 'profile_background_image_url': None, 'profile_background_image_url_https': None, 'profile_background_tile': False, 'profile_image_url': 'http://abs.twimg.com/sticky/default_profile_images/default_profile_normal.png', 'profile_image_url_https': 'https://abs.twimg.com/sticky/default_profile_images/default_profile_normal.png', 'profile_link_color': '1DA1F2', 'profile_sidebar_border_color': 'C0DEED', 'profile_sidebar_fill_color': 'DDEEF6', 'profile_text_color': '333333', 'profile_use_background_image': True, 'has_extended_profile': False, 'default_profile': True, 'default_profile_image': True, 'following': False, 'follow_request_sent': False, 'notifications': False, 'translator_type': 'none'}, id=952951901112315904, id_str='952951901112315904', name='Hirak Parekh', screen_name='Letuscheckfact1', location='', description='', url=None, entities={'description': {'urls': []}}, protected=False, followers_count=1, friends_count=24, listed_count=0, created_at=datetime.datetime(2018, 1, 15, 17, 13, 32), favourites_count=42, utc_offset=None, time_zone=None, geo_enabled=False, verified=False, statuses_count=54, lang=None, contributors_enabled=False, is_translator=False, is_translation_enabled=False, profile_background_color='F5F8FA', profile_background_image_url=None, profile_background_image_url_https=None, profile_background_tile=False, profile_image_url='http://abs.twimg.com/sticky/default_profile_images/default_profile_normal.png', profile_image_url_https='https://abs.twimg.com/sticky/default_profile_images/default_profile_normal.png', profile_link_color='1DA1F2', profile_sidebar_border_color='C0DEED', profile_sidebar_fill_color='DDEEF6', profile_text_color='333333', profile_use_background_image=True, has_extended_profile=False, default_profile=True, default_profile_image=True, following=False, follow_request_sent=False, notifications=False, translator_type='none'), geo=None, coordinates=None, place=None, contributors=None, is_quote_status=False, retweet_count=0, favorite_count=0, favorited=False, retweeted=False, lang='en') \n",
      "\n",
      "******************************\n",
      "Status(_api=<tweepy.api.API object at 0x00000236179E2C88>, _json={'created_at': 'Fri Dec 04 14:18:21 +0000 2020', 'id': 1334864624575946759, 'id_str': '1334864624575946759', 'full_text': \"@KanganaTeam You are barking about farmer's protest,may be your DNA matching with people's living in Gajni.\", 'truncated': False, 'display_text_range': [0, 107], 'entities': {'hashtags': [], 'symbols': [], 'user_mentions': [{'screen_name': 'KanganaTeam', 'name': 'Kangana Ranaut', 'id': 3946905252, 'id_str': '3946905252', 'indices': [0, 12]}], 'urls': []}, 'metadata': {'iso_language_code': 'en', 'result_type': 'recent'}, 'source': '<a href=\"http://twitter.com/download/android\" rel=\"nofollow\">Twitter for Android</a>', 'in_reply_to_status_id': None, 'in_reply_to_status_id_str': None, 'in_reply_to_user_id': 3946905252, 'in_reply_to_user_id_str': '3946905252', 'in_reply_to_screen_name': 'KanganaTeam', 'user': {'id': 4732401494, 'id_str': '4732401494', 'name': 'M.Jagtar', 'screen_name': 'malhi8793', 'location': 'Goussainville 95190, France', 'description': '', 'url': None, 'entities': {'description': {'urls': []}}, 'protected': False, 'followers_count': 31, 'friends_count': 575, 'listed_count': 0, 'created_at': 'Sat Jan 09 08:14:17 +0000 2016', 'favourites_count': 84, 'utc_offset': None, 'time_zone': None, 'geo_enabled': False, 'verified': False, 'statuses_count': 1229, 'lang': None, 'contributors_enabled': False, 'is_translator': False, 'is_translation_enabled': False, 'profile_background_color': 'F5F8FA', 'profile_background_image_url': None, 'profile_background_image_url_https': None, 'profile_background_tile': False, 'profile_image_url': 'http://pbs.twimg.com/profile_images/1281159533197316096/EeJtTQaH_normal.jpg', 'profile_image_url_https': 'https://pbs.twimg.com/profile_images/1281159533197316096/EeJtTQaH_normal.jpg', 'profile_banner_url': 'https://pbs.twimg.com/profile_banners/4732401494/1592820786', 'profile_link_color': '1DA1F2', 'profile_sidebar_border_color': 'C0DEED', 'profile_sidebar_fill_color': 'DDEEF6', 'profile_text_color': '333333', 'profile_use_background_image': True, 'has_extended_profile': True, 'default_profile': True, 'default_profile_image': False, 'following': False, 'follow_request_sent': False, 'notifications': False, 'translator_type': 'none'}, 'geo': None, 'coordinates': None, 'place': None, 'contributors': None, 'is_quote_status': False, 'retweet_count': 0, 'favorite_count': 0, 'favorited': False, 'retweeted': False, 'lang': 'en'}, created_at=datetime.datetime(2020, 12, 4, 14, 18, 21), id=1334864624575946759, id_str='1334864624575946759', full_text=\"@KanganaTeam You are barking about farmer's protest,may be your DNA matching with people's living in Gajni.\", truncated=False, display_text_range=[0, 107], entities={'hashtags': [], 'symbols': [], 'user_mentions': [{'screen_name': 'KanganaTeam', 'name': 'Kangana Ranaut', 'id': 3946905252, 'id_str': '3946905252', 'indices': [0, 12]}], 'urls': []}, metadata={'iso_language_code': 'en', 'result_type': 'recent'}, source='Twitter for Android', source_url='http://twitter.com/download/android', in_reply_to_status_id=None, in_reply_to_status_id_str=None, in_reply_to_user_id=3946905252, in_reply_to_user_id_str='3946905252', in_reply_to_screen_name='KanganaTeam', author=User(_api=<tweepy.api.API object at 0x00000236179E2C88>, _json={'id': 4732401494, 'id_str': '4732401494', 'name': 'M.Jagtar', 'screen_name': 'malhi8793', 'location': 'Goussainville 95190, France', 'description': '', 'url': None, 'entities': {'description': {'urls': []}}, 'protected': False, 'followers_count': 31, 'friends_count': 575, 'listed_count': 0, 'created_at': 'Sat Jan 09 08:14:17 +0000 2016', 'favourites_count': 84, 'utc_offset': None, 'time_zone': None, 'geo_enabled': False, 'verified': False, 'statuses_count': 1229, 'lang': None, 'contributors_enabled': False, 'is_translator': False, 'is_translation_enabled': False, 'profile_background_color': 'F5F8FA', 'profile_background_image_url': None, 'profile_background_image_url_https': None, 'profile_background_tile': False, 'profile_image_url': 'http://pbs.twimg.com/profile_images/1281159533197316096/EeJtTQaH_normal.jpg', 'profile_image_url_https': 'https://pbs.twimg.com/profile_images/1281159533197316096/EeJtTQaH_normal.jpg', 'profile_banner_url': 'https://pbs.twimg.com/profile_banners/4732401494/1592820786', 'profile_link_color': '1DA1F2', 'profile_sidebar_border_color': 'C0DEED', 'profile_sidebar_fill_color': 'DDEEF6', 'profile_text_color': '333333', 'profile_use_background_image': True, 'has_extended_profile': True, 'default_profile': True, 'default_profile_image': False, 'following': False, 'follow_request_sent': False, 'notifications': False, 'translator_type': 'none'}, id=4732401494, id_str='4732401494', name='M.Jagtar', screen_name='malhi8793', location='Goussainville 95190, France', description='', url=None, entities={'description': {'urls': []}}, protected=False, followers_count=31, friends_count=575, listed_count=0, created_at=datetime.datetime(2016, 1, 9, 8, 14, 17), favourites_count=84, utc_offset=None, time_zone=None, geo_enabled=False, verified=False, statuses_count=1229, lang=None, contributors_enabled=False, is_translator=False, is_translation_enabled=False, profile_background_color='F5F8FA', profile_background_image_url=None, profile_background_image_url_https=None, profile_background_tile=False, profile_image_url='http://pbs.twimg.com/profile_images/1281159533197316096/EeJtTQaH_normal.jpg', profile_image_url_https='https://pbs.twimg.com/profile_images/1281159533197316096/EeJtTQaH_normal.jpg', profile_banner_url='https://pbs.twimg.com/profile_banners/4732401494/1592820786', profile_link_color='1DA1F2', profile_sidebar_border_color='C0DEED', profile_sidebar_fill_color='DDEEF6', profile_text_color='333333', profile_use_background_image=True, has_extended_profile=True, default_profile=True, default_profile_image=False, following=False, follow_request_sent=False, notifications=False, translator_type='none'), user=User(_api=<tweepy.api.API object at 0x00000236179E2C88>, _json={'id': 4732401494, 'id_str': '4732401494', 'name': 'M.Jagtar', 'screen_name': 'malhi8793', 'location': 'Goussainville 95190, France', 'description': '', 'url': None, 'entities': {'description': {'urls': []}}, 'protected': False, 'followers_count': 31, 'friends_count': 575, 'listed_count': 0, 'created_at': 'Sat Jan 09 08:14:17 +0000 2016', 'favourites_count': 84, 'utc_offset': None, 'time_zone': None, 'geo_enabled': False, 'verified': False, 'statuses_count': 1229, 'lang': None, 'contributors_enabled': False, 'is_translator': False, 'is_translation_enabled': False, 'profile_background_color': 'F5F8FA', 'profile_background_image_url': None, 'profile_background_image_url_https': None, 'profile_background_tile': False, 'profile_image_url': 'http://pbs.twimg.com/profile_images/1281159533197316096/EeJtTQaH_normal.jpg', 'profile_image_url_https': 'https://pbs.twimg.com/profile_images/1281159533197316096/EeJtTQaH_normal.jpg', 'profile_banner_url': 'https://pbs.twimg.com/profile_banners/4732401494/1592820786', 'profile_link_color': '1DA1F2', 'profile_sidebar_border_color': 'C0DEED', 'profile_sidebar_fill_color': 'DDEEF6', 'profile_text_color': '333333', 'profile_use_background_image': True, 'has_extended_profile': True, 'default_profile': True, 'default_profile_image': False, 'following': False, 'follow_request_sent': False, 'notifications': False, 'translator_type': 'none'}, id=4732401494, id_str='4732401494', name='M.Jagtar', screen_name='malhi8793', location='Goussainville 95190, France', description='', url=None, entities={'description': {'urls': []}}, protected=False, followers_count=31, friends_count=575, listed_count=0, created_at=datetime.datetime(2016, 1, 9, 8, 14, 17), favourites_count=84, utc_offset=None, time_zone=None, geo_enabled=False, verified=False, statuses_count=1229, lang=None, contributors_enabled=False, is_translator=False, is_translation_enabled=False, profile_background_color='F5F8FA', profile_background_image_url=None, profile_background_image_url_https=None, profile_background_tile=False, profile_image_url='http://pbs.twimg.com/profile_images/1281159533197316096/EeJtTQaH_normal.jpg', profile_image_url_https='https://pbs.twimg.com/profile_images/1281159533197316096/EeJtTQaH_normal.jpg', profile_banner_url='https://pbs.twimg.com/profile_banners/4732401494/1592820786', profile_link_color='1DA1F2', profile_sidebar_border_color='C0DEED', profile_sidebar_fill_color='DDEEF6', profile_text_color='333333', profile_use_background_image=True, has_extended_profile=True, default_profile=True, default_profile_image=False, following=False, follow_request_sent=False, notifications=False, translator_type='none'), geo=None, coordinates=None, place=None, contributors=None, is_quote_status=False, retweet_count=0, favorite_count=0, favorited=False, retweeted=False, lang='en') \n",
      "\n",
      "******************************\n"
     ]
    }
   ],
   "source": [
    "tweets = api.search(query, count=10, lang='en',exclude='retweets',tweet_mode='extended')\n",
    "for tweet in tweets:\n",
    "    print(tweet,'\\n')\n",
    "    print('*'*30)"
   ]
  },
  {
   "cell_type": "code",
   "execution_count": 16,
   "metadata": {
    "scrolled": true
   },
   "outputs": [
    {
     "name": "stdout",
     "output_type": "stream",
     "text": [
      "Empty DataFrame\n",
      "Columns: [Tweets, User, User_statuses_count, user_followers, User_location, User_verified, fav_count, rt_count, tweet_date]\n",
      "Index: []\n"
     ]
    }
   ],
   "source": [
    "\n",
    "df = pd.DataFrame(columns = ['Tweets' , 'User' , 'User_statuses_count' , \n",
    "                            'user_followers' , 'User_location' , 'User_verified' ,\n",
    "                            'fav_count' , 'rt_count' , 'tweet_date'] )\n",
    "print(df)"
   ]
  },
  {
   "cell_type": "code",
   "execution_count": 17,
   "metadata": {},
   "outputs": [],
   "source": [
    "\n",
    "def stream(data,file_name):\n",
    "    i=0\n",
    "    for tweet in tweepy.Cursor(api.search,q=data,count=100,lan='en').items():\n",
    "        print(i, end='\\r')\n",
    "        df.loc[i, 'Tweets'] = tweet.text\n",
    "        df.loc[i, 'User'] = tweet.user.name\n",
    "        df.loc[i, 'User_statuses_count'] = tweet.user.statuses_count\n",
    "        df.loc[i, 'user_followers'] = tweet.user.followers_count\n",
    "        df.loc[i, 'User_location'] = tweet.user.location\n",
    "        df.loc[i, 'User_verified'] = tweet.user.verified\n",
    "        df.loc[i, 'fav_count'] = tweet.favorite_count\n",
    "        df.loc[i, 'rt_count'] = tweet.retweet_count\n",
    "        df.loc[i, 'tweet_date'] = tweet.created_at\n",
    "        df.to_excel('{}.xlsx'.format(file_name))\n",
    "        i = i+1\n",
    "        if i == 1000:\n",
    "            break\n",
    "        else:\n",
    "            pass"
   ]
  },
  {
   "cell_type": "code",
   "execution_count": 18,
   "metadata": {
    "scrolled": false
   },
   "outputs": [
    {
     "name": "stdout",
     "output_type": "stream",
     "text": [
      "999\r"
     ]
    }
   ],
   "source": [
    "stream(data=[\"US Presidential Election\"] , file_name='my_tweets')"
   ]
  },
  {
   "cell_type": "code",
   "execution_count": 19,
   "metadata": {
    "scrolled": true
   },
   "outputs": [
    {
     "data": {
      "text/html": [
       "<div>\n",
       "<style scoped>\n",
       "    .dataframe tbody tr th:only-of-type {\n",
       "        vertical-align: middle;\n",
       "    }\n",
       "\n",
       "    .dataframe tbody tr th {\n",
       "        vertical-align: top;\n",
       "    }\n",
       "\n",
       "    .dataframe thead th {\n",
       "        text-align: right;\n",
       "    }\n",
       "</style>\n",
       "<table border=\"1\" class=\"dataframe\">\n",
       "  <thead>\n",
       "    <tr style=\"text-align: right;\">\n",
       "      <th></th>\n",
       "      <th>Tweets</th>\n",
       "      <th>User</th>\n",
       "      <th>User_statuses_count</th>\n",
       "      <th>user_followers</th>\n",
       "      <th>User_location</th>\n",
       "      <th>User_verified</th>\n",
       "      <th>fav_count</th>\n",
       "      <th>rt_count</th>\n",
       "      <th>tweet_date</th>\n",
       "    </tr>\n",
       "  </thead>\n",
       "  <tbody>\n",
       "    <tr>\n",
       "      <th>0</th>\n",
       "      <td>RT @NetworksManager: We’re not going to take c...</td>\n",
       "      <td>Rodger Varley</td>\n",
       "      <td>269020</td>\n",
       "      <td>3096</td>\n",
       "      <td></td>\n",
       "      <td>False</td>\n",
       "      <td>0</td>\n",
       "      <td>168</td>\n",
       "      <td>2020-12-04 14:33:28</td>\n",
       "    </tr>\n",
       "    <tr>\n",
       "      <th>1</th>\n",
       "      <td>RT @kylegriffin1: March For Our Lives is calli...</td>\n",
       "      <td>Blue</td>\n",
       "      <td>1388</td>\n",
       "      <td>7</td>\n",
       "      <td></td>\n",
       "      <td>False</td>\n",
       "      <td>0</td>\n",
       "      <td>38</td>\n",
       "      <td>2020-12-04 14:33:20</td>\n",
       "    </tr>\n",
       "    <tr>\n",
       "      <th>2</th>\n",
       "      <td>RT @TheDailyEdge: #DeSantisLiedFloridiansDied ...</td>\n",
       "      <td>Vanilla</td>\n",
       "      <td>20585</td>\n",
       "      <td>361</td>\n",
       "      <td>Missouri, USA</td>\n",
       "      <td>False</td>\n",
       "      <td>0</td>\n",
       "      <td>7</td>\n",
       "      <td>2020-12-04 14:33:13</td>\n",
       "    </tr>\n",
       "    <tr>\n",
       "      <th>3</th>\n",
       "      <td>@GovRonDeSantis @TuckerCarlson Florida this we...</td>\n",
       "      <td>Antonio GB</td>\n",
       "      <td>2343</td>\n",
       "      <td>42</td>\n",
       "      <td>Mother Earth...</td>\n",
       "      <td>False</td>\n",
       "      <td>0</td>\n",
       "      <td>0</td>\n",
       "      <td>2020-12-04 14:33:07</td>\n",
       "    </tr>\n",
       "    <tr>\n",
       "      <th>4</th>\n",
       "      <td>RT @kylegriffin1: March For Our Lives is calli...</td>\n",
       "      <td>MB</td>\n",
       "      <td>38878</td>\n",
       "      <td>164</td>\n",
       "      <td>Wishing I was at the beach.</td>\n",
       "      <td>False</td>\n",
       "      <td>0</td>\n",
       "      <td>38</td>\n",
       "      <td>2020-12-04 14:32:56</td>\n",
       "    </tr>\n",
       "    <tr>\n",
       "      <th>...</th>\n",
       "      <td>...</td>\n",
       "      <td>...</td>\n",
       "      <td>...</td>\n",
       "      <td>...</td>\n",
       "      <td>...</td>\n",
       "      <td>...</td>\n",
       "      <td>...</td>\n",
       "      <td>...</td>\n",
       "      <td>...</td>\n",
       "    </tr>\n",
       "    <tr>\n",
       "      <th>995</th>\n",
       "      <td>RT @Jim_Jordan: It doesn’t make sense. \\n\\nThi...</td>\n",
       "      <td>Nina Marquez</td>\n",
       "      <td>93196</td>\n",
       "      <td>454</td>\n",
       "      <td>lancaster</td>\n",
       "      <td>False</td>\n",
       "      <td>0</td>\n",
       "      <td>2480</td>\n",
       "      <td>2020-12-04 03:52:38</td>\n",
       "    </tr>\n",
       "    <tr>\n",
       "      <th>996</th>\n",
       "      <td>RT @kylegriffin1: A former U.S. attorney has a...</td>\n",
       "      <td>Sch53</td>\n",
       "      <td>134575</td>\n",
       "      <td>219</td>\n",
       "      <td>Atlanta, GA</td>\n",
       "      <td>False</td>\n",
       "      <td>0</td>\n",
       "      <td>2313</td>\n",
       "      <td>2020-12-04 03:52:38</td>\n",
       "    </tr>\n",
       "    <tr>\n",
       "      <th>997</th>\n",
       "      <td>RT @bluestein: A former U.S. attorney has aske...</td>\n",
       "      <td>Daniel Douglas</td>\n",
       "      <td>25506</td>\n",
       "      <td>55</td>\n",
       "      <td></td>\n",
       "      <td>False</td>\n",
       "      <td>0</td>\n",
       "      <td>1063</td>\n",
       "      <td>2020-12-04 03:52:29</td>\n",
       "    </tr>\n",
       "    <tr>\n",
       "      <th>998</th>\n",
       "      <td>RT @kylegriffin1: A former U.S. attorney has a...</td>\n",
       "      <td>Dimbiddy 🌊 🌈 🦮 🐴</td>\n",
       "      <td>55606</td>\n",
       "      <td>11729</td>\n",
       "      <td>Gadigal land, Sydney</td>\n",
       "      <td>False</td>\n",
       "      <td>0</td>\n",
       "      <td>2313</td>\n",
       "      <td>2020-12-04 03:52:13</td>\n",
       "    </tr>\n",
       "    <tr>\n",
       "      <th>999</th>\n",
       "      <td>With a fresh presidential pardon still warm, f...</td>\n",
       "      <td>🌊e_20016🌊</td>\n",
       "      <td>10038</td>\n",
       "      <td>2581</td>\n",
       "      <td>USA</td>\n",
       "      <td>False</td>\n",
       "      <td>1</td>\n",
       "      <td>5</td>\n",
       "      <td>2020-12-04 03:50:28</td>\n",
       "    </tr>\n",
       "  </tbody>\n",
       "</table>\n",
       "<p>1000 rows × 9 columns</p>\n",
       "</div>"
      ],
      "text/plain": [
       "                                                Tweets              User  \\\n",
       "0    RT @NetworksManager: We’re not going to take c...     Rodger Varley   \n",
       "1    RT @kylegriffin1: March For Our Lives is calli...              Blue   \n",
       "2    RT @TheDailyEdge: #DeSantisLiedFloridiansDied ...           Vanilla   \n",
       "3    @GovRonDeSantis @TuckerCarlson Florida this we...        Antonio GB   \n",
       "4    RT @kylegriffin1: March For Our Lives is calli...                MB   \n",
       "..                                                 ...               ...   \n",
       "995  RT @Jim_Jordan: It doesn’t make sense. \\n\\nThi...      Nina Marquez   \n",
       "996  RT @kylegriffin1: A former U.S. attorney has a...             Sch53   \n",
       "997  RT @bluestein: A former U.S. attorney has aske...    Daniel Douglas   \n",
       "998  RT @kylegriffin1: A former U.S. attorney has a...  Dimbiddy 🌊 🌈 🦮 🐴   \n",
       "999  With a fresh presidential pardon still warm, f...         🌊e_20016🌊   \n",
       "\n",
       "    User_statuses_count user_followers                  User_location  \\\n",
       "0                269020           3096                                  \n",
       "1                  1388              7                                  \n",
       "2                 20585            361                  Missouri, USA   \n",
       "3                  2343             42                Mother Earth...   \n",
       "4                 38878            164  Wishing I was at the beach.     \n",
       "..                  ...            ...                            ...   \n",
       "995               93196            454                      lancaster   \n",
       "996              134575            219                    Atlanta, GA   \n",
       "997               25506             55                                  \n",
       "998               55606          11729           Gadigal land, Sydney   \n",
       "999               10038           2581                            USA   \n",
       "\n",
       "    User_verified fav_count rt_count           tweet_date  \n",
       "0           False         0      168  2020-12-04 14:33:28  \n",
       "1           False         0       38  2020-12-04 14:33:20  \n",
       "2           False         0        7  2020-12-04 14:33:13  \n",
       "3           False         0        0  2020-12-04 14:33:07  \n",
       "4           False         0       38  2020-12-04 14:32:56  \n",
       "..            ...       ...      ...                  ...  \n",
       "995         False         0     2480  2020-12-04 03:52:38  \n",
       "996         False         0     2313  2020-12-04 03:52:38  \n",
       "997         False         0     1063  2020-12-04 03:52:29  \n",
       "998         False         0     2313  2020-12-04 03:52:13  \n",
       "999         False         1        5  2020-12-04 03:50:28  \n",
       "\n",
       "[1000 rows x 9 columns]"
      ]
     },
     "execution_count": 19,
     "metadata": {},
     "output_type": "execute_result"
    }
   ],
   "source": [
    "df"
   ]
  },
  {
   "cell_type": "code",
   "execution_count": 20,
   "metadata": {
    "scrolled": true
   },
   "outputs": [
    {
     "name": "stdout",
     "output_type": "stream",
     "text": [
      "Requirement already satisfied: textblob in c:\\users\\vivek\\anaconda3\\lib\\site-packages (0.15.3)\n",
      "Requirement already satisfied: nltk>=3.1 in c:\\users\\vivek\\anaconda3\\lib\\site-packages (from textblob) (3.4.5)\n",
      "Requirement already satisfied: six in c:\\users\\vivek\\anaconda3\\lib\\site-packages (from nltk>=3.1->textblob) (1.14.0)\n"
     ]
    }
   ],
   "source": [
    "!pip install textblob"
   ]
  },
  {
   "cell_type": "code",
   "execution_count": 21,
   "metadata": {},
   "outputs": [],
   "source": [
    "from textblob import TextBlob"
   ]
  },
  {
   "cell_type": "code",
   "execution_count": 22,
   "metadata": {},
   "outputs": [],
   "source": [
    "import re\n",
    "def clean_tweet(tweet):\n",
    "    return ' '.join(re.sub('(@[A-Za-z0-9]+)|([^0-9A-Za-z \\t])|(\\w+:\\/\\/\\S+)', ' ', tweet).split())"
   ]
  },
  {
   "cell_type": "code",
   "execution_count": 23,
   "metadata": {},
   "outputs": [],
   "source": [
    "def analyze_sentiment(tweet):\n",
    "    analysis = TextBlob(tweet)\n",
    "    if analysis.sentiment.polarity > 0:\n",
    "        return 'Positive'\n",
    "    elif analysis.sentiment.polarity == 0:\n",
    "        return 'Neutral'\n",
    "    else:\n",
    "        return 'Negative'"
   ]
  },
  {
   "cell_type": "code",
   "execution_count": 24,
   "metadata": {},
   "outputs": [],
   "source": [
    "df['clean_tweet'] = df['Tweets'].apply(lambda x : clean_tweet(x))"
   ]
  },
  {
   "cell_type": "code",
   "execution_count": 25,
   "metadata": {
    "scrolled": true
   },
   "outputs": [
    {
     "data": {
      "text/html": [
       "<div>\n",
       "<style scoped>\n",
       "    .dataframe tbody tr th:only-of-type {\n",
       "        vertical-align: middle;\n",
       "    }\n",
       "\n",
       "    .dataframe tbody tr th {\n",
       "        vertical-align: top;\n",
       "    }\n",
       "\n",
       "    .dataframe thead th {\n",
       "        text-align: right;\n",
       "    }\n",
       "</style>\n",
       "<table border=\"1\" class=\"dataframe\">\n",
       "  <thead>\n",
       "    <tr style=\"text-align: right;\">\n",
       "      <th></th>\n",
       "      <th>Tweets</th>\n",
       "      <th>User</th>\n",
       "      <th>User_statuses_count</th>\n",
       "      <th>user_followers</th>\n",
       "      <th>User_location</th>\n",
       "      <th>User_verified</th>\n",
       "      <th>fav_count</th>\n",
       "      <th>rt_count</th>\n",
       "      <th>tweet_date</th>\n",
       "      <th>clean_tweet</th>\n",
       "    </tr>\n",
       "  </thead>\n",
       "  <tbody>\n",
       "    <tr>\n",
       "      <th>0</th>\n",
       "      <td>RT @NetworksManager: We’re not going to take c...</td>\n",
       "      <td>Rodger Varley</td>\n",
       "      <td>269020</td>\n",
       "      <td>3096</td>\n",
       "      <td></td>\n",
       "      <td>False</td>\n",
       "      <td>0</td>\n",
       "      <td>168</td>\n",
       "      <td>2020-12-04 14:33:28</td>\n",
       "      <td>RT We re not going to take communism shutting ...</td>\n",
       "    </tr>\n",
       "    <tr>\n",
       "      <th>1</th>\n",
       "      <td>RT @kylegriffin1: March For Our Lives is calli...</td>\n",
       "      <td>Blue</td>\n",
       "      <td>1388</td>\n",
       "      <td>7</td>\n",
       "      <td></td>\n",
       "      <td>False</td>\n",
       "      <td>0</td>\n",
       "      <td>38</td>\n",
       "      <td>2020-12-04 14:33:20</td>\n",
       "      <td>RT March For Our Lives is calling on the Biden...</td>\n",
       "    </tr>\n",
       "    <tr>\n",
       "      <th>2</th>\n",
       "      <td>RT @TheDailyEdge: #DeSantisLiedFloridiansDied ...</td>\n",
       "      <td>Vanilla</td>\n",
       "      <td>20585</td>\n",
       "      <td>361</td>\n",
       "      <td>Missouri, USA</td>\n",
       "      <td>False</td>\n",
       "      <td>0</td>\n",
       "      <td>7</td>\n",
       "      <td>2020-12-04 14:33:13</td>\n",
       "      <td>RT DeSantisLiedFloridiansDied Investigation fi...</td>\n",
       "    </tr>\n",
       "    <tr>\n",
       "      <th>3</th>\n",
       "      <td>@GovRonDeSantis @TuckerCarlson Florida this we...</td>\n",
       "      <td>Antonio GB</td>\n",
       "      <td>2343</td>\n",
       "      <td>42</td>\n",
       "      <td>Mother Earth...</td>\n",
       "      <td>False</td>\n",
       "      <td>0</td>\n",
       "      <td>0</td>\n",
       "      <td>2020-12-04 14:33:07</td>\n",
       "      <td>Florida this week became the third US state to...</td>\n",
       "    </tr>\n",
       "    <tr>\n",
       "      <th>4</th>\n",
       "      <td>RT @kylegriffin1: March For Our Lives is calli...</td>\n",
       "      <td>MB</td>\n",
       "      <td>38878</td>\n",
       "      <td>164</td>\n",
       "      <td>Wishing I was at the beach.</td>\n",
       "      <td>False</td>\n",
       "      <td>0</td>\n",
       "      <td>38</td>\n",
       "      <td>2020-12-04 14:32:56</td>\n",
       "      <td>RT March For Our Lives is calling on the Biden...</td>\n",
       "    </tr>\n",
       "  </tbody>\n",
       "</table>\n",
       "</div>"
      ],
      "text/plain": [
       "                                              Tweets           User  \\\n",
       "0  RT @NetworksManager: We’re not going to take c...  Rodger Varley   \n",
       "1  RT @kylegriffin1: March For Our Lives is calli...           Blue   \n",
       "2  RT @TheDailyEdge: #DeSantisLiedFloridiansDied ...        Vanilla   \n",
       "3  @GovRonDeSantis @TuckerCarlson Florida this we...     Antonio GB   \n",
       "4  RT @kylegriffin1: March For Our Lives is calli...             MB   \n",
       "\n",
       "  User_statuses_count user_followers                  User_location  \\\n",
       "0              269020           3096                                  \n",
       "1                1388              7                                  \n",
       "2               20585            361                  Missouri, USA   \n",
       "3                2343             42                Mother Earth...   \n",
       "4               38878            164  Wishing I was at the beach.     \n",
       "\n",
       "  User_verified fav_count rt_count           tweet_date  \\\n",
       "0         False         0      168  2020-12-04 14:33:28   \n",
       "1         False         0       38  2020-12-04 14:33:20   \n",
       "2         False         0        7  2020-12-04 14:33:13   \n",
       "3         False         0        0  2020-12-04 14:33:07   \n",
       "4         False         0       38  2020-12-04 14:32:56   \n",
       "\n",
       "                                         clean_tweet  \n",
       "0  RT We re not going to take communism shutting ...  \n",
       "1  RT March For Our Lives is calling on the Biden...  \n",
       "2  RT DeSantisLiedFloridiansDied Investigation fi...  \n",
       "3  Florida this week became the third US state to...  \n",
       "4  RT March For Our Lives is calling on the Biden...  "
      ]
     },
     "execution_count": 25,
     "metadata": {},
     "output_type": "execute_result"
    }
   ],
   "source": [
    "df.head()"
   ]
  },
  {
   "cell_type": "code",
   "execution_count": 26,
   "metadata": {
    "scrolled": true
   },
   "outputs": [
    {
     "data": {
      "text/html": [
       "<div>\n",
       "<style scoped>\n",
       "    .dataframe tbody tr th:only-of-type {\n",
       "        vertical-align: middle;\n",
       "    }\n",
       "\n",
       "    .dataframe tbody tr th {\n",
       "        vertical-align: top;\n",
       "    }\n",
       "\n",
       "    .dataframe thead th {\n",
       "        text-align: right;\n",
       "    }\n",
       "</style>\n",
       "<table border=\"1\" class=\"dataframe\">\n",
       "  <thead>\n",
       "    <tr style=\"text-align: right;\">\n",
       "      <th></th>\n",
       "      <th>Tweets</th>\n",
       "      <th>User</th>\n",
       "      <th>User_statuses_count</th>\n",
       "      <th>user_followers</th>\n",
       "      <th>User_location</th>\n",
       "      <th>User_verified</th>\n",
       "      <th>fav_count</th>\n",
       "      <th>rt_count</th>\n",
       "      <th>tweet_date</th>\n",
       "      <th>clean_tweet</th>\n",
       "      <th>Sentiment</th>\n",
       "    </tr>\n",
       "  </thead>\n",
       "  <tbody>\n",
       "    <tr>\n",
       "      <th>0</th>\n",
       "      <td>RT @NetworksManager: We’re not going to take c...</td>\n",
       "      <td>Rodger Varley</td>\n",
       "      <td>269020</td>\n",
       "      <td>3096</td>\n",
       "      <td></td>\n",
       "      <td>False</td>\n",
       "      <td>0</td>\n",
       "      <td>168</td>\n",
       "      <td>2020-12-04 14:33:28</td>\n",
       "      <td>RT We re not going to take communism shutting ...</td>\n",
       "      <td>Negative</td>\n",
       "    </tr>\n",
       "    <tr>\n",
       "      <th>1</th>\n",
       "      <td>RT @kylegriffin1: March For Our Lives is calli...</td>\n",
       "      <td>Blue</td>\n",
       "      <td>1388</td>\n",
       "      <td>7</td>\n",
       "      <td></td>\n",
       "      <td>False</td>\n",
       "      <td>0</td>\n",
       "      <td>38</td>\n",
       "      <td>2020-12-04 14:33:20</td>\n",
       "      <td>RT March For Our Lives is calling on the Biden...</td>\n",
       "      <td>Neutral</td>\n",
       "    </tr>\n",
       "    <tr>\n",
       "      <th>2</th>\n",
       "      <td>RT @TheDailyEdge: #DeSantisLiedFloridiansDied ...</td>\n",
       "      <td>Vanilla</td>\n",
       "      <td>20585</td>\n",
       "      <td>361</td>\n",
       "      <td>Missouri, USA</td>\n",
       "      <td>False</td>\n",
       "      <td>0</td>\n",
       "      <td>7</td>\n",
       "      <td>2020-12-04 14:33:13</td>\n",
       "      <td>RT DeSantisLiedFloridiansDied Investigation fi...</td>\n",
       "      <td>Positive</td>\n",
       "    </tr>\n",
       "    <tr>\n",
       "      <th>3</th>\n",
       "      <td>@GovRonDeSantis @TuckerCarlson Florida this we...</td>\n",
       "      <td>Antonio GB</td>\n",
       "      <td>2343</td>\n",
       "      <td>42</td>\n",
       "      <td>Mother Earth...</td>\n",
       "      <td>False</td>\n",
       "      <td>0</td>\n",
       "      <td>0</td>\n",
       "      <td>2020-12-04 14:33:07</td>\n",
       "      <td>Florida this week became the third US state to...</td>\n",
       "      <td>Neutral</td>\n",
       "    </tr>\n",
       "    <tr>\n",
       "      <th>4</th>\n",
       "      <td>RT @kylegriffin1: March For Our Lives is calli...</td>\n",
       "      <td>MB</td>\n",
       "      <td>38878</td>\n",
       "      <td>164</td>\n",
       "      <td>Wishing I was at the beach.</td>\n",
       "      <td>False</td>\n",
       "      <td>0</td>\n",
       "      <td>38</td>\n",
       "      <td>2020-12-04 14:32:56</td>\n",
       "      <td>RT March For Our Lives is calling on the Biden...</td>\n",
       "      <td>Neutral</td>\n",
       "    </tr>\n",
       "  </tbody>\n",
       "</table>\n",
       "</div>"
      ],
      "text/plain": [
       "                                              Tweets           User  \\\n",
       "0  RT @NetworksManager: We’re not going to take c...  Rodger Varley   \n",
       "1  RT @kylegriffin1: March For Our Lives is calli...           Blue   \n",
       "2  RT @TheDailyEdge: #DeSantisLiedFloridiansDied ...        Vanilla   \n",
       "3  @GovRonDeSantis @TuckerCarlson Florida this we...     Antonio GB   \n",
       "4  RT @kylegriffin1: March For Our Lives is calli...             MB   \n",
       "\n",
       "  User_statuses_count user_followers                  User_location  \\\n",
       "0              269020           3096                                  \n",
       "1                1388              7                                  \n",
       "2               20585            361                  Missouri, USA   \n",
       "3                2343             42                Mother Earth...   \n",
       "4               38878            164  Wishing I was at the beach.     \n",
       "\n",
       "  User_verified fav_count rt_count           tweet_date  \\\n",
       "0         False         0      168  2020-12-04 14:33:28   \n",
       "1         False         0       38  2020-12-04 14:33:20   \n",
       "2         False         0        7  2020-12-04 14:33:13   \n",
       "3         False         0        0  2020-12-04 14:33:07   \n",
       "4         False         0       38  2020-12-04 14:32:56   \n",
       "\n",
       "                                         clean_tweet Sentiment  \n",
       "0  RT We re not going to take communism shutting ...  Negative  \n",
       "1  RT March For Our Lives is calling on the Biden...   Neutral  \n",
       "2  RT DeSantisLiedFloridiansDied Investigation fi...  Positive  \n",
       "3  Florida this week became the third US state to...   Neutral  \n",
       "4  RT March For Our Lives is calling on the Biden...   Neutral  "
      ]
     },
     "execution_count": 26,
     "metadata": {},
     "output_type": "execute_result"
    }
   ],
   "source": [
    "df['Sentiment'] = df['clean_tweet'].apply(lambda x : analyze_sentiment(x) )\n",
    "df.head()"
   ]
  },
  {
   "cell_type": "code",
   "execution_count": 27,
   "metadata": {
    "scrolled": true
   },
   "outputs": [
    {
     "name": "stdout",
     "output_type": "stream",
     "text": [
      "Original tweet:\n",
      " RT @kylegriffin1: March For Our Lives is calling on the Biden-Harris administration to appoint a National Director of Gun Violence Preventi…\n",
      "\n",
      "Clean tweet:\n",
      " RT March For Our Lives is calling on the Biden Harris administration to appoint a National Director of Gun Violence Preventi\n",
      "\n",
      "Sentiment of the tweet:\n",
      " Neutral\n"
     ]
    }
   ],
   "source": [
    "n = 1\n",
    "print(\"Original tweet:\\n\",df['Tweets'][n])\n",
    "print()\n",
    "print(\"Clean tweet:\\n\",df['clean_tweet'][n])\n",
    "print()\n",
    "print(\"Sentiment of the tweet:\\n\",df['Sentiment'][n])"
   ]
  },
  {
   "cell_type": "code",
   "execution_count": 28,
   "metadata": {
    "scrolled": true
   },
   "outputs": [
    {
     "name": "stdout",
     "output_type": "stream",
     "text": [
      "Original tweet:\n",
      " RT @kylegriffin1: March For Our Lives is calling on the Biden-Harris administration to appoint a National Director of Gun Violence Preventi…\n",
      "\n",
      "Clean tweet:\n",
      " RT March For Our Lives is calling on the Biden Harris administration to appoint a National Director of Gun Violence Preventi\n",
      "\n",
      "Sentiment of the tweet:\n",
      " Neutral\n"
     ]
    }
   ],
   "source": [
    "n = 20\n",
    "print(\"Original tweet:\\n\",df['Tweets'][n])\n",
    "print()\n",
    "print(\"Clean tweet:\\n\",df['clean_tweet'][n])\n",
    "print()\n",
    "print(\"Sentiment of the tweet:\\n\",df['Sentiment'][n])"
   ]
  },
  {
   "cell_type": "code",
   "execution_count": 29,
   "metadata": {
    "scrolled": true
   },
   "outputs": [
    {
     "data": {
      "text/plain": [
       "210"
      ]
     },
     "execution_count": 29,
     "metadata": {},
     "output_type": "execute_result"
    }
   ],
   "source": [
    "df[df.Sentiment == 'Positive'].shape[0]"
   ]
  },
  {
   "cell_type": "code",
   "execution_count": 30,
   "metadata": {},
   "outputs": [
    {
     "data": {
      "text/plain": [
       "693"
      ]
     },
     "execution_count": 30,
     "metadata": {},
     "output_type": "execute_result"
    }
   ],
   "source": [
    "df[df.Sentiment == 'Neutral'].shape[0]"
   ]
  },
  {
   "cell_type": "code",
   "execution_count": 31,
   "metadata": {},
   "outputs": [
    {
     "data": {
      "text/plain": [
       "97"
      ]
     },
     "execution_count": 31,
     "metadata": {},
     "output_type": "execute_result"
    }
   ],
   "source": [
    "df[df.Sentiment == 'Negative'].shape[0]"
   ]
  }
 ],
 "metadata": {
  "kernelspec": {
   "display_name": "Python 3",
   "language": "python",
   "name": "python3"
  },
  "language_info": {
   "codemirror_mode": {
    "name": "ipython",
    "version": 3
   },
   "file_extension": ".py",
   "mimetype": "text/x-python",
   "name": "python",
   "nbconvert_exporter": "python",
   "pygments_lexer": "ipython3",
   "version": "3.7.6"
  }
 },
 "nbformat": 4,
 "nbformat_minor": 4
}
