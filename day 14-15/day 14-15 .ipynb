{
 "cells": [
  {
   "cell_type": "markdown",
   "metadata": {},
   "source": [
    "# 1. Create a 3x3x3 array with random values "
   ]
  },
  {
   "cell_type": "code",
   "execution_count": 5,
   "metadata": {},
   "outputs": [],
   "source": [
    "import numpy as np"
   ]
  },
  {
   "cell_type": "code",
   "execution_count": 6,
   "metadata": {
    "scrolled": true
   },
   "outputs": [
    {
     "name": "stdout",
     "output_type": "stream",
     "text": [
      "[[[0.44900196 0.40028937 0.02641591]\n",
      "  [0.72476488 0.29737266 0.0256221 ]\n",
      "  [0.37453382 0.08251018 0.33913769]]\n",
      "\n",
      " [[0.08992586 0.40291886 0.8255448 ]\n",
      "  [0.97246551 0.19575626 0.8597649 ]\n",
      "  [0.8147459  0.87503562 0.6378521 ]]\n",
      "\n",
      " [[0.88775254 0.39667863 0.06461094]\n",
      "  [0.11075313 0.99168147 0.159099  ]\n",
      "  [0.69351899 0.14871473 0.31269611]]]\n"
     ]
    }
   ],
   "source": [
    "\n",
    "x=np.random.random((3,3,3))\n",
    "print(x)"
   ]
  },
  {
   "cell_type": "markdown",
   "metadata": {},
   "source": [
    "# 2.Create a 5x5 matrix with values 1,2,3,4 just below the diagonal"
   ]
  },
  {
   "cell_type": "code",
   "execution_count": 7,
   "metadata": {},
   "outputs": [
    {
     "name": "stdout",
     "output_type": "stream",
     "text": [
      "Matrix with 1,2,3,4 just below Diagonal:\n",
      "\n",
      " [[0 0 0 0 0]\n",
      " [1 0 0 0 0]\n",
      " [0 2 0 0 0]\n",
      " [0 0 3 0 0]\n",
      " [0 0 0 4 0]]\n"
     ]
    }
   ],
   "source": [
    "matrix = np.zeros((5,5))\n",
    "matrix = np.diag(1+np.arange(4),k = -1)\n",
    "print('Matrix with 1,2,3,4 just below Diagonal:\\n\\n', matrix)"
   ]
  },
  {
   "cell_type": "markdown",
   "metadata": {},
   "source": [
    "# 3.Create a 8x8 matrix and fill it with a checkerboard pattern"
   ]
  },
  {
   "cell_type": "code",
   "execution_count": 8,
   "metadata": {},
   "outputs": [
    {
     "name": "stdout",
     "output_type": "stream",
     "text": [
      "check board pattern:\n",
      "\n",
      "[[0 0 0 0 0 0 0 0]\n",
      " [1 0 1 0 1 0 1 0]\n",
      " [0 1 0 1 0 1 0 1]\n",
      " [1 1 1 1 1 1 1 1]\n",
      " [0 1 0 1 0 1 0 1]\n",
      " [1 1 1 1 1 1 1 1]\n",
      " [0 1 0 1 0 1 0 1]\n",
      " [1 1 1 1 1 1 1 1]]\n"
     ]
    }
   ],
   "source": [
    "x=np.zeros((8,8),dtype=int)\n",
    "x[1::2,::2]=1\n",
    "x[2::,1::2]=1\n",
    "print('check board pattern:\\n')\n",
    "print(x)"
   ]
  },
  {
   "cell_type": "markdown",
   "metadata": {},
   "source": [
    "# 4. Normalize a 5x5 random matrix"
   ]
  },
  {
   "cell_type": "code",
   "execution_count": 15,
   "metadata": {},
   "outputs": [
    {
     "name": "stdout",
     "output_type": "stream",
     "text": [
      "Original Array:\n",
      "\n",
      "[[ 2.25808539  0.07392385  0.55792187 -1.7966044   0.66437399]\n",
      " [ 0.35660885 -0.82024272  1.24432564  0.14733583  0.47524217]\n",
      " [-0.58531296 -1.648787   -1.09622283  0.13465093  0.85579156]\n",
      " [-0.22689871  1.90384904 -0.28125494 -2.1428089   0.9366154 ]\n",
      " [ 0.22057098  0.42892203 -0.48881934 -0.41796507  1.20113393]]\n",
      "\n",
      "After normalization:\n",
      "\n",
      "[[1.         0.50370052 0.61367772 0.07866685 0.63786647]\n",
      " [0.56793406 0.30052214 0.76964687 0.52038167 0.5948907 ]\n",
      " [0.35390442 0.11225489 0.23781214 0.51749933 0.68136162]\n",
      " [0.43534565 0.9195081  0.42299447 0.         0.69972694]\n",
      " [0.53702264 0.58436553 0.37583033 0.3919303  0.75983257]]\n"
     ]
    }
   ],
   "source": [
    "x= np.random.randn(5,5)\n",
    "print(\"Original Array:\\n\")\n",
    "print(x)\n",
    "\n",
    "xmax, xmin = x.max(), x.min()\n",
    "x = (x - xmin)/(xmax - xmin)\n",
    "\n",
    "print(\"\\nAfter normalization:\\n\")\n",
    "print(x)"
   ]
  },
  {
   "cell_type": "markdown",
   "metadata": {},
   "source": [
    "# 5.  How to find common values between two arrays?"
   ]
  },
  {
   "cell_type": "code",
   "execution_count": null,
   "metadata": {},
   "outputs": [],
   "source": [
    "array1=np.array([0,10,20,40,])\n",
    "array2=[10,30,40]\n",
    "print(\"array1:\",array1)\n",
    "print('array1:',array2)"
   ]
  },
  {
   "cell_type": "markdown",
   "metadata": {},
   "source": [
    "# 6.How to get the dates of yesterday, today and tomorrow?"
   ]
  },
  {
   "cell_type": "code",
   "execution_count": 21,
   "metadata": {},
   "outputs": [
    {
     "name": "stdout",
     "output_type": "stream",
     "text": [
      "yesterdays: 2020-11-01\n",
      "today: 2020-11-02\n",
      "tomorrow: 2020-11-03\n"
     ]
    }
   ],
   "source": [
    "import datetime as dt\n",
    "today=dt.date.today()\n",
    "yesterday=today - dt.timedelta(days=1)\n",
    "tomorrow=today+dt.timedelta(days=1)\n",
    "\n",
    "print('yesterdays:',yesterday)\n",
    "print('today:',today)\n",
    "print('tomorrow:',tomorrow)"
   ]
  },
  {
   "cell_type": "markdown",
   "metadata": {},
   "source": [
    "# 7. Consider two random array A and B, check if they are equal"
   ]
  },
  {
   "cell_type": "code",
   "execution_count": 22,
   "metadata": {},
   "outputs": [
    {
     "name": "stdout",
     "output_type": "stream",
     "text": [
      "array1:\n",
      " [[1 3 5]\n",
      " [7 4 9]]\n",
      "array2:\n",
      " [[1 3 5]\n",
      " [7 4 9]]\n",
      "\n",
      "result is True if the arrays are equal \n",
      "result is false if the arrays are not equal\n"
     ]
    },
    {
     "data": {
      "text/plain": [
       "True"
      ]
     },
     "execution_count": 22,
     "metadata": {},
     "output_type": "execute_result"
    }
   ],
   "source": [
    "a=np.array([[1,3,5],[7,4,9]])\n",
    "b=np.array([[1,3,5],[7,4,9]])\n",
    "print('array1:\\n',a)\n",
    "print('array2:\\n',b)\n",
    "print('\\nresult is True if the arrays are equal \\nresult is false if the arrays are not equal')\n",
    "np.array_equal(a,b)"
   ]
  },
  {
   "cell_type": "markdown",
   "metadata": {},
   "source": [
    "# 8.Create random vector of size 10 and replace the maximum value by 0 "
   ]
  },
  {
   "cell_type": "code",
   "execution_count": 29,
   "metadata": {},
   "outputs": [
    {
     "name": "stdout",
     "output_type": "stream",
     "text": [
      "vector: [  1  45 867  90  48  94 100 166 867 110]\n",
      "length of vector: 10\n",
      "maximum value: 867\n",
      "replacing 867 by 0: [  1  45   0  90  48  94 100 166   0 110]\n"
     ]
    }
   ],
   "source": [
    "vector=np.array([1,45,867,90,48,94,100,166,867,110])\n",
    "print('vector:',vector)\n",
    "print('length of vector:',len(vector))\n",
    "\n",
    "vector_max=vector.max()\n",
    "print('maximum value:',vector_max)\n",
    "index=np.where(vector==vector_max)\n",
    "vector[index]=0\n",
    "print('replacing {} by 0: {}'.format(vector_max,vector))"
   ]
  },
  {
   "cell_type": "markdown",
   "metadata": {},
   "source": [
    "# 9. How to print all the values of an array?"
   ]
  },
  {
   "cell_type": "code",
   "execution_count": 31,
   "metadata": {},
   "outputs": [
    {
     "name": "stdout",
     "output_type": "stream",
     "text": [
      "for 1-D Array:\n",
      "The element at index 0 is: 12\n",
      "The element at index 1 is: 34\n",
      "The element at index 2 is: 67\n",
      "The element at index 3 is: 89\n",
      "\n",
      "for 2-D Array:\n",
      "the element at index 0 is: [1 2 3]\n",
      "the element at index 1 is: [4 5 6]\n",
      "the element at index 2 is: [7 8 9]\n",
      "the element at index 3 is: [11 22 33]\n"
     ]
    }
   ],
   "source": [
    "#1-D Array\n",
    "print('for 1-D Array:')\n",
    "x=np.array([12,34,67,89])\n",
    "for i in range(len(x)):\n",
    "    print(f'The element at index {i} is: {x[i]}')\n",
    "    \n",
    "#2-D Array\n",
    "\n",
    "print('\\nfor 2-D Array:')\n",
    "y=np.array([[1,2,3],[4,5,6],[7,8,9],[11,22,33]])\n",
    "for i in range(len(y)):\n",
    "    print(f'the element at index {i} is: {y[i]}')"
   ]
  },
  {
   "cell_type": "markdown",
   "metadata": {},
   "source": [
    "# 10.Subtract the mean of each row of a matrix"
   ]
  },
  {
   "cell_type": "code",
   "execution_count": 32,
   "metadata": {},
   "outputs": [
    {
     "name": "stdout",
     "output_type": "stream",
     "text": [
      "Initial Array:\n",
      " [[  1 100   0   0]\n",
      " [  2 110   0   0]\n",
      " [  3 120   0   0]]\n",
      "Mean of Each row:  [25.25 28.   30.75]\n",
      "\n",
      "Resultant Matrix After Subtracting Mean:\n",
      " [[-24.25  74.75 -25.25 -25.25]\n",
      " [-26.    82.   -28.   -28.  ]\n",
      " [-27.75  89.25 -30.75 -30.75]]\n"
     ]
    }
   ],
   "source": [
    "arr = np.array([[1, 100, 0, 0], [2, 110, 0, 0], [3, 120, 0, 0]])\n",
    "print('Initial Array:\\n', arr)\n",
    "print('Mean of Each row: ',arr.mean(axis=1))\n",
    "mean = arr - arr.mean(axis=1, keepdims=True) \n",
    "print('\\nResultant Matrix After Subtracting Mean:\\n',mean)"
   ]
  },
  {
   "cell_type": "markdown",
   "metadata": {},
   "source": [
    "# 11.Consider a given vector, how to add 1 to each element indexed by a second vector (be careful with repeated indices)? "
   ]
  },
  {
   "cell_type": "code",
   "execution_count": 33,
   "metadata": {},
   "outputs": [
    {
     "name": "stdout",
     "output_type": "stream",
     "text": [
      "Initial Vector:\n",
      " [1. 1. 1. 1. 1. 1. 1. 1. 1. 1.]\n",
      "Random Values:\n",
      " [8 8 4 9 6 9 1 4 2 4 2 3 0 1 3 4 0 5 6 0]\n",
      "Resultant Vector:\n",
      " [4. 3. 3. 3. 5. 2. 3. 1. 3. 3.]\n"
     ]
    }
   ],
   "source": [
    "Z = np.ones(10)\n",
    "print(\"Initial Vector:\\n\",Z)\n",
    "I = np.random.randint(0, len(Z),20)\n",
    "print(\"Random Values:\\n\",I)\n",
    "Z += np.bincount(I, minlength=len(Z))\n",
    "print(\"Resultant Vector:\\n\",Z)"
   ]
  },
  {
   "cell_type": "markdown",
   "metadata": {},
   "source": [
    "# 12.How to get the diagonal of a dot product?"
   ]
  },
  {
   "cell_type": "code",
   "execution_count": 34,
   "metadata": {},
   "outputs": [
    {
     "name": "stdout",
     "output_type": "stream",
     "text": [
      "Array A:\n",
      " [[5 3 3]\n",
      " [8 3 3]\n",
      " [6 2 7]]\n",
      "Array B:\n",
      " [[3 2 3]\n",
      " [9 0 0]\n",
      " [3 2 9]]\n",
      "\n",
      "Dot product:\n",
      " [[51 16 42]\n",
      " [60 22 51]\n",
      " [57 26 81]]\n",
      "\n",
      "The Diagonal Elements are:\n",
      " [51 22 81]\n"
     ]
    }
   ],
   "source": [
    "A = np.random.randint(0,10,(3,3))\n",
    "B= np.random.randint(0,10,(3,3))\n",
    "\n",
    "print(\"Array A:\\n\", A)\n",
    "print(\"Array B:\\n\", B)\n",
    "\n",
    "print('\\nDot product:\\n',np.dot(A,B))\n",
    "dot = np.diag(np.dot(A, B))\n",
    "print('\\nThe Diagonal Elements are:\\n', dot)"
   ]
  },
  {
   "cell_type": "markdown",
   "metadata": {},
   "source": [
    "# 13.How to find the most frequent value in an array?"
   ]
  },
  {
   "cell_type": "code",
   "execution_count": 35,
   "metadata": {},
   "outputs": [
    {
     "name": "stdout",
     "output_type": "stream",
     "text": [
      "Array: [2 5 2 0 4 0 4 8 5 6 1 0 9 7 2 1 4 1 7 7 5 3 5 9 0 3 5 5 4 5]\n",
      "Most Frequent Value: 5\n"
     ]
    }
   ],
   "source": [
    "Z = np.random.randint(0,10,30)\n",
    "print (\"Array:\", Z)\n",
    "print('Most Frequent Value:', np.bincount(Z).argmax())"
   ]
  },
  {
   "cell_type": "markdown",
   "metadata": {},
   "source": [
    "# 14.How to get the n largest values of an array"
   ]
  },
  {
   "cell_type": "code",
   "execution_count": 36,
   "metadata": {},
   "outputs": [
    {
     "name": "stdout",
     "output_type": "stream",
     "text": [
      "Enter the value of n: 5\n",
      "5 Largest values in array:  [95 96 97 98 99]\n"
     ]
    }
   ],
   "source": [
    "Z = np.arange(100)\n",
    "np.random.shuffle(Z)\n",
    "n = int(input('Enter the value of n: '))\n",
    "print(f\"{n} Largest values in array: \", Z[np.argsort(Z)[-n:]])"
   ]
  },
  {
   "cell_type": "markdown",
   "metadata": {},
   "source": [
    "# 15.How to create a record array from a regular array?"
   ]
  },
  {
   "cell_type": "code",
   "execution_count": 38,
   "metadata": {},
   "outputs": [
    {
     "name": "stdout",
     "output_type": "stream",
     "text": [
      "for a single array:\n",
      "\n",
      "regular array:\n",
      " [['vivek' '10' '20']\n",
      " ['rajesh' '30' '40']\n",
      " ['vineet' '50' '60']]\n",
      "\n",
      "record array: [(b'vivek', 10, 20) (b'rajesh', 30, 40) (b'vineet', 50, 60)]\n",
      "type of result: <class 'numpy.recarray'>\n"
     ]
    }
   ],
   "source": [
    "print('for a single array:\\n')\n",
    "x3=np.array([['vivek',10,20],['rajesh',30,40],['vineet',50,60]])\n",
    "print('regular array:\\n',x3)\n",
    "rec=np.core.records.fromarrays(x3.T,names='name,msk1,msk2',formats='S80,i8,i8')\n",
    "print('\\nrecord array:',rec)\n",
    "print('type of result:',type(rec))"
   ]
  },
  {
   "cell_type": "code",
   "execution_count": 40,
   "metadata": {},
   "outputs": [
    {
     "name": "stdout",
     "output_type": "stream",
     "text": [
      "regular arary 1: [1 2 3 4 5]\n",
      "regular array 2: ['v' 'i' 'v' 'e' 'k']\n",
      "\n",
      "record Array: [(1, 'v') (2, 'i') (3, 'v') (4, 'e') (5, 'k')]\n",
      "type of result: <class 'numpy.recarray'>\n"
     ]
    }
   ],
   "source": [
    "x1=np.array([1,2,3,4,5])\n",
    "x2=np.array(['v','i','v','e','k'])\n",
    "\n",
    "print('regular arary 1:',x1)\n",
    "print('regular array 2:',x2)\n",
    "\n",
    "records = np.core.records.fromarrays([x1,x2],names='col1,col2')\n",
    "\n",
    "print('\\nrecord Array:',records)\n",
    "print('type of result:',type(records))"
   ]
  }
 ],
 "metadata": {
  "kernelspec": {
   "display_name": "Python 3",
   "language": "python",
   "name": "python3"
  },
  "language_info": {
   "codemirror_mode": {
    "name": "ipython",
    "version": 3
   },
   "file_extension": ".py",
   "mimetype": "text/x-python",
   "name": "python",
   "nbconvert_exporter": "python",
   "pygments_lexer": "ipython3",
   "version": "3.7.6"
  }
 },
 "nbformat": 4,
 "nbformat_minor": 2
}
