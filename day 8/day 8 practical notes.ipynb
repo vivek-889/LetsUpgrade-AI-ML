{
 "cells": [
  {
   "cell_type": "markdown",
   "metadata": {},
   "source": [
    "# Disxcriptive Satstics"
   ]
  },
  {
   "cell_type": "code",
   "execution_count": 37,
   "metadata": {},
   "outputs": [],
   "source": [
    "import numpy as np\n",
    "import pandas as pd \n",
    "import matplotlib.pyplot as plt\n",
    "from warnings import filterwarnings\n",
    "filterwarnings('ignore')"
   ]
  },
  {
   "cell_type": "code",
   "execution_count": 38,
   "metadata": {},
   "outputs": [],
   "source": [
    "df= pd.read_excel('Descriptive Statistics.xlsx', sheet_name = 'DescriptiveStatistics1')"
   ]
  },
  {
   "cell_type": "code",
   "execution_count": 39,
   "metadata": {
    "scrolled": true
   },
   "outputs": [
    {
     "data": {
      "text/plain": [
       "(474, 11)"
      ]
     },
     "execution_count": 39,
     "metadata": {},
     "output_type": "execute_result"
    }
   ],
   "source": [
    "df.shape"
   ]
  },
  {
   "cell_type": "code",
   "execution_count": 40,
   "metadata": {
    "scrolled": true
   },
   "outputs": [
    {
     "data": {
      "text/html": [
       "<div>\n",
       "<style scoped>\n",
       "    .dataframe tbody tr th:only-of-type {\n",
       "        vertical-align: middle;\n",
       "    }\n",
       "\n",
       "    .dataframe tbody tr th {\n",
       "        vertical-align: top;\n",
       "    }\n",
       "\n",
       "    .dataframe thead th {\n",
       "        text-align: right;\n",
       "    }\n",
       "</style>\n",
       "<table border=\"1\" class=\"dataframe\">\n",
       "  <thead>\n",
       "    <tr style=\"text-align: right;\">\n",
       "      <th></th>\n",
       "      <th>ID</th>\n",
       "      <th>Gender</th>\n",
       "      <th>Birth Date</th>\n",
       "      <th>Education</th>\n",
       "      <th>JobCategory</th>\n",
       "      <th>CurrentSalary</th>\n",
       "      <th>After6Months</th>\n",
       "      <th>SalBegin</th>\n",
       "      <th>Job Time</th>\n",
       "      <th>Prev Exep</th>\n",
       "      <th>Minority</th>\n",
       "    </tr>\n",
       "  </thead>\n",
       "  <tbody>\n",
       "    <tr>\n",
       "      <th>0</th>\n",
       "      <td>3</td>\n",
       "      <td>f</td>\n",
       "      <td>07/26/1929</td>\n",
       "      <td>12</td>\n",
       "      <td>1</td>\n",
       "      <td>21450</td>\n",
       "      <td>16725.0</td>\n",
       "      <td>12000</td>\n",
       "      <td>98</td>\n",
       "      <td>381</td>\n",
       "      <td>0</td>\n",
       "    </tr>\n",
       "    <tr>\n",
       "      <th>1</th>\n",
       "      <td>4</td>\n",
       "      <td>f</td>\n",
       "      <td>04/15/1947</td>\n",
       "      <td>8</td>\n",
       "      <td>1</td>\n",
       "      <td>21900</td>\n",
       "      <td>17550.0</td>\n",
       "      <td>13200</td>\n",
       "      <td>98</td>\n",
       "      <td>190</td>\n",
       "      <td>0</td>\n",
       "    </tr>\n",
       "    <tr>\n",
       "      <th>2</th>\n",
       "      <td>8</td>\n",
       "      <td>f</td>\n",
       "      <td>1966-06-05 00:00:00</td>\n",
       "      <td>12</td>\n",
       "      <td>1</td>\n",
       "      <td>21900</td>\n",
       "      <td>15825.0</td>\n",
       "      <td>9750</td>\n",
       "      <td>98</td>\n",
       "      <td>0</td>\n",
       "      <td>0</td>\n",
       "    </tr>\n",
       "    <tr>\n",
       "      <th>3</th>\n",
       "      <td>9</td>\n",
       "      <td>f</td>\n",
       "      <td>01/23/1946</td>\n",
       "      <td>15</td>\n",
       "      <td>1</td>\n",
       "      <td>27900</td>\n",
       "      <td>20325.0</td>\n",
       "      <td>12750</td>\n",
       "      <td>98</td>\n",
       "      <td>115</td>\n",
       "      <td>0</td>\n",
       "    </tr>\n",
       "    <tr>\n",
       "      <th>4</th>\n",
       "      <td>10</td>\n",
       "      <td>f</td>\n",
       "      <td>02/13/1946</td>\n",
       "      <td>12</td>\n",
       "      <td>1</td>\n",
       "      <td>24000</td>\n",
       "      <td>18750.0</td>\n",
       "      <td>13500</td>\n",
       "      <td>98</td>\n",
       "      <td>244</td>\n",
       "      <td>0</td>\n",
       "    </tr>\n",
       "  </tbody>\n",
       "</table>\n",
       "</div>"
      ],
      "text/plain": [
       "   ID Gender           Birth Date  Education  JobCategory  CurrentSalary  \\\n",
       "0   3      f           07/26/1929         12            1          21450   \n",
       "1   4      f           04/15/1947          8            1          21900   \n",
       "2   8      f  1966-06-05 00:00:00         12            1          21900   \n",
       "3   9      f           01/23/1946         15            1          27900   \n",
       "4  10      f           02/13/1946         12            1          24000   \n",
       "\n",
       "   After6Months  SalBegin  Job Time  Prev Exep  Minority  \n",
       "0       16725.0     12000        98        381         0  \n",
       "1       17550.0     13200        98        190         0  \n",
       "2       15825.0      9750        98          0         0  \n",
       "3       20325.0     12750        98        115         0  \n",
       "4       18750.0     13500        98        244         0  "
      ]
     },
     "execution_count": 40,
     "metadata": {},
     "output_type": "execute_result"
    }
   ],
   "source": [
    "df.head()"
   ]
  },
  {
   "cell_type": "code",
   "execution_count": 41,
   "metadata": {
    "scrolled": true
   },
   "outputs": [
    {
     "data": {
      "text/html": [
       "<div>\n",
       "<style scoped>\n",
       "    .dataframe tbody tr th:only-of-type {\n",
       "        vertical-align: middle;\n",
       "    }\n",
       "\n",
       "    .dataframe tbody tr th {\n",
       "        vertical-align: top;\n",
       "    }\n",
       "\n",
       "    .dataframe thead th {\n",
       "        text-align: right;\n",
       "    }\n",
       "</style>\n",
       "<table border=\"1\" class=\"dataframe\">\n",
       "  <thead>\n",
       "    <tr style=\"text-align: right;\">\n",
       "      <th></th>\n",
       "      <th>ID</th>\n",
       "      <th>Gender</th>\n",
       "      <th>Birth Date</th>\n",
       "      <th>Education</th>\n",
       "      <th>JobCategory</th>\n",
       "      <th>CurrentSalary</th>\n",
       "      <th>After6Months</th>\n",
       "      <th>SalBegin</th>\n",
       "      <th>Job Time</th>\n",
       "      <th>Prev Exep</th>\n",
       "      <th>Minority</th>\n",
       "    </tr>\n",
       "  </thead>\n",
       "  <tbody>\n",
       "    <tr>\n",
       "      <th>469</th>\n",
       "      <td>464</td>\n",
       "      <td>m</td>\n",
       "      <td>03/20/1962</td>\n",
       "      <td>19</td>\n",
       "      <td>3</td>\n",
       "      <td>47550</td>\n",
       "      <td>40275.0</td>\n",
       "      <td>33000</td>\n",
       "      <td>64</td>\n",
       "      <td>27</td>\n",
       "      <td>0</td>\n",
       "    </tr>\n",
       "    <tr>\n",
       "      <th>470</th>\n",
       "      <td>465</td>\n",
       "      <td>m</td>\n",
       "      <td>07/20/1962</td>\n",
       "      <td>12</td>\n",
       "      <td>1</td>\n",
       "      <td>33900</td>\n",
       "      <td>25200.0</td>\n",
       "      <td>16500</td>\n",
       "      <td>64</td>\n",
       "      <td>106</td>\n",
       "      <td>0</td>\n",
       "    </tr>\n",
       "    <tr>\n",
       "      <th>471</th>\n",
       "      <td>470</td>\n",
       "      <td>m</td>\n",
       "      <td>01/22/1964</td>\n",
       "      <td>12</td>\n",
       "      <td>1</td>\n",
       "      <td>26250</td>\n",
       "      <td>21000.0</td>\n",
       "      <td>15750</td>\n",
       "      <td>64</td>\n",
       "      <td>69</td>\n",
       "      <td>1</td>\n",
       "    </tr>\n",
       "    <tr>\n",
       "      <th>472</th>\n",
       "      <td>471</td>\n",
       "      <td>m</td>\n",
       "      <td>1966-03-08 00:00:00</td>\n",
       "      <td>15</td>\n",
       "      <td>1</td>\n",
       "      <td>26400</td>\n",
       "      <td>21075.0</td>\n",
       "      <td>15750</td>\n",
       "      <td>64</td>\n",
       "      <td>32</td>\n",
       "      <td>1</td>\n",
       "    </tr>\n",
       "    <tr>\n",
       "      <th>473</th>\n",
       "      <td>472</td>\n",
       "      <td>m</td>\n",
       "      <td>02/21/1966</td>\n",
       "      <td>15</td>\n",
       "      <td>1</td>\n",
       "      <td>39150</td>\n",
       "      <td>27450.0</td>\n",
       "      <td>15750</td>\n",
       "      <td>63</td>\n",
       "      <td>46</td>\n",
       "      <td>0</td>\n",
       "    </tr>\n",
       "  </tbody>\n",
       "</table>\n",
       "</div>"
      ],
      "text/plain": [
       "      ID Gender           Birth Date  Education  JobCategory  CurrentSalary  \\\n",
       "469  464      m           03/20/1962         19            3          47550   \n",
       "470  465      m           07/20/1962         12            1          33900   \n",
       "471  470      m           01/22/1964         12            1          26250   \n",
       "472  471      m  1966-03-08 00:00:00         15            1          26400   \n",
       "473  472      m           02/21/1966         15            1          39150   \n",
       "\n",
       "     After6Months  SalBegin  Job Time  Prev Exep  Minority  \n",
       "469       40275.0     33000        64         27         0  \n",
       "470       25200.0     16500        64        106         0  \n",
       "471       21000.0     15750        64         69         1  \n",
       "472       21075.0     15750        64         32         1  \n",
       "473       27450.0     15750        63         46         0  "
      ]
     },
     "execution_count": 41,
     "metadata": {},
     "output_type": "execute_result"
    }
   ],
   "source": [
    "df.tail()"
   ]
  },
  {
   "cell_type": "code",
   "execution_count": 42,
   "metadata": {
    "scrolled": true
   },
   "outputs": [
    {
     "data": {
      "text/plain": [
       "Index(['ID', 'Gender', 'Birth Date', 'Education', 'JobCategory',\n",
       "       'CurrentSalary', 'After6Months', 'SalBegin', 'Job Time', 'Prev Exep',\n",
       "       'Minority'],\n",
       "      dtype='object')"
      ]
     },
     "execution_count": 42,
     "metadata": {},
     "output_type": "execute_result"
    }
   ],
   "source": [
    "df.columns"
   ]
  },
  {
   "cell_type": "code",
   "execution_count": 43,
   "metadata": {
    "scrolled": true
   },
   "outputs": [
    {
     "name": "stdout",
     "output_type": "stream",
     "text": [
      "<class 'pandas.core.frame.DataFrame'>\n",
      "RangeIndex: 474 entries, 0 to 473\n",
      "Data columns (total 11 columns):\n",
      " #   Column         Non-Null Count  Dtype  \n",
      "---  ------         --------------  -----  \n",
      " 0   ID             474 non-null    int64  \n",
      " 1   Gender         474 non-null    object \n",
      " 2   Birth Date     473 non-null    object \n",
      " 3   Education      474 non-null    int64  \n",
      " 4   JobCategory    474 non-null    int64  \n",
      " 5   CurrentSalary  474 non-null    int64  \n",
      " 6   After6Months   474 non-null    float64\n",
      " 7   SalBegin       474 non-null    int64  \n",
      " 8   Job Time       474 non-null    int64  \n",
      " 9   Prev Exep      474 non-null    int64  \n",
      " 10  Minority       474 non-null    int64  \n",
      "dtypes: float64(1), int64(8), object(2)\n",
      "memory usage: 40.9+ KB\n"
     ]
    }
   ],
   "source": [
    "df.info()"
   ]
  },
  {
   "cell_type": "code",
   "execution_count": 44,
   "metadata": {
    "scrolled": true
   },
   "outputs": [
    {
     "data": {
      "text/plain": [
       "ID               0\n",
       "Gender           0\n",
       "Birth Date       1\n",
       "Education        0\n",
       "JobCategory      0\n",
       "CurrentSalary    0\n",
       "After6Months     0\n",
       "SalBegin         0\n",
       "Job Time         0\n",
       "Prev Exep        0\n",
       "Minority         0\n",
       "dtype: int64"
      ]
     },
     "execution_count": 44,
     "metadata": {},
     "output_type": "execute_result"
    }
   ],
   "source": [
    "df.isnull().sum()"
   ]
  },
  {
   "cell_type": "code",
   "execution_count": 45,
   "metadata": {},
   "outputs": [],
   "source": [
    "df = df.dropna()"
   ]
  },
  {
   "cell_type": "code",
   "execution_count": 46,
   "metadata": {
    "scrolled": true
   },
   "outputs": [
    {
     "data": {
      "text/plain": [
       "ID               0\n",
       "Gender           0\n",
       "Birth Date       0\n",
       "Education        0\n",
       "JobCategory      0\n",
       "CurrentSalary    0\n",
       "After6Months     0\n",
       "SalBegin         0\n",
       "Job Time         0\n",
       "Prev Exep        0\n",
       "Minority         0\n",
       "dtype: int64"
      ]
     },
     "execution_count": 46,
     "metadata": {},
     "output_type": "execute_result"
    }
   ],
   "source": [
    "df.isnull().sum()"
   ]
  },
  {
   "cell_type": "code",
   "execution_count": 48,
   "metadata": {
    "scrolled": true
   },
   "outputs": [
    {
     "data": {
      "text/plain": [
       "CurrentSalary    34418.446089\n",
       "After6Months     25713.847780\n",
       "SalBegin         17009.249471\n",
       "dtype: float64"
      ]
     },
     "execution_count": 48,
     "metadata": {},
     "output_type": "execute_result"
    }
   ],
   "source": [
    "df[['CurrentSalary','After6Months','SalBegin']].mean()"
   ]
  },
  {
   "cell_type": "code",
   "execution_count": 49,
   "metadata": {
    "scrolled": true
   },
   "outputs": [
    {
     "data": {
      "text/plain": [
       "CurrentSalary    28800.0\n",
       "After6Months     21825.0\n",
       "SalBegin         15000.0\n",
       "dtype: float64"
      ]
     },
     "execution_count": 49,
     "metadata": {},
     "output_type": "execute_result"
    }
   ],
   "source": [
    "df[['CurrentSalary','After6Months','SalBegin']].median()"
   ]
  },
  {
   "cell_type": "code",
   "execution_count": 50,
   "metadata": {
    "scrolled": true
   },
   "outputs": [
    {
     "data": {
      "text/html": [
       "<div>\n",
       "<style scoped>\n",
       "    .dataframe tbody tr th:only-of-type {\n",
       "        vertical-align: middle;\n",
       "    }\n",
       "\n",
       "    .dataframe tbody tr th {\n",
       "        vertical-align: top;\n",
       "    }\n",
       "\n",
       "    .dataframe thead th {\n",
       "        text-align: right;\n",
       "    }\n",
       "</style>\n",
       "<table border=\"1\" class=\"dataframe\">\n",
       "  <thead>\n",
       "    <tr style=\"text-align: right;\">\n",
       "      <th></th>\n",
       "      <th>CurrentSalary</th>\n",
       "      <th>After6Months</th>\n",
       "      <th>SalBegin</th>\n",
       "    </tr>\n",
       "  </thead>\n",
       "  <tbody>\n",
       "    <tr>\n",
       "      <th>0</th>\n",
       "      <td>30750</td>\n",
       "      <td>22875.0</td>\n",
       "      <td>15000</td>\n",
       "    </tr>\n",
       "  </tbody>\n",
       "</table>\n",
       "</div>"
      ],
      "text/plain": [
       "   CurrentSalary  After6Months  SalBegin\n",
       "0          30750       22875.0     15000"
      ]
     },
     "execution_count": 50,
     "metadata": {},
     "output_type": "execute_result"
    }
   ],
   "source": [
    "df[['CurrentSalary','After6Months','SalBegin']].mode()"
   ]
  },
  {
   "cell_type": "code",
   "execution_count": 51,
   "metadata": {
    "scrolled": true
   },
   "outputs": [
    {
     "data": {
      "text/plain": [
       "CurrentSalary    2.921954e+08\n",
       "After6Months     1.478286e+08\n",
       "SalBegin         6.205598e+07\n",
       "dtype: float64"
      ]
     },
     "execution_count": 51,
     "metadata": {},
     "output_type": "execute_result"
    }
   ],
   "source": [
    "df[['CurrentSalary','After6Months','SalBegin']].var()"
   ]
  },
  {
   "cell_type": "code",
   "execution_count": 52,
   "metadata": {
    "scrolled": true
   },
   "outputs": [
    {
     "data": {
      "text/plain": [
       "CurrentSalary    17093.723045\n",
       "After6Months     12158.478816\n",
       "SalBegin          7877.562088\n",
       "dtype: float64"
      ]
     },
     "execution_count": 52,
     "metadata": {},
     "output_type": "execute_result"
    }
   ],
   "source": [
    "df[['CurrentSalary','After6Months','SalBegin']].std()"
   ]
  },
  {
   "cell_type": "code",
   "execution_count": 54,
   "metadata": {
    "scrolled": true
   },
   "outputs": [
    {
     "data": {
      "text/html": [
       "<div>\n",
       "<style scoped>\n",
       "    .dataframe tbody tr th:only-of-type {\n",
       "        vertical-align: middle;\n",
       "    }\n",
       "\n",
       "    .dataframe tbody tr th {\n",
       "        vertical-align: top;\n",
       "    }\n",
       "\n",
       "    .dataframe thead th {\n",
       "        text-align: right;\n",
       "    }\n",
       "</style>\n",
       "<table border=\"1\" class=\"dataframe\">\n",
       "  <thead>\n",
       "    <tr style=\"text-align: right;\">\n",
       "      <th></th>\n",
       "      <th>CurrentSalary</th>\n",
       "      <th>After6Months</th>\n",
       "      <th>SalBegin</th>\n",
       "    </tr>\n",
       "  </thead>\n",
       "  <tbody>\n",
       "    <tr>\n",
       "      <th>count</th>\n",
       "      <td>473.000000</td>\n",
       "      <td>473.000000</td>\n",
       "      <td>473.000000</td>\n",
       "    </tr>\n",
       "    <tr>\n",
       "      <th>mean</th>\n",
       "      <td>34418.446089</td>\n",
       "      <td>25713.847780</td>\n",
       "      <td>17009.249471</td>\n",
       "    </tr>\n",
       "    <tr>\n",
       "      <th>std</th>\n",
       "      <td>17093.723045</td>\n",
       "      <td>12158.478816</td>\n",
       "      <td>7877.562088</td>\n",
       "    </tr>\n",
       "    <tr>\n",
       "      <th>min</th>\n",
       "      <td>15750.000000</td>\n",
       "      <td>12975.000000</td>\n",
       "      <td>9000.000000</td>\n",
       "    </tr>\n",
       "    <tr>\n",
       "      <th>25%</th>\n",
       "      <td>24000.000000</td>\n",
       "      <td>18450.000000</td>\n",
       "      <td>12450.000000</td>\n",
       "    </tr>\n",
       "    <tr>\n",
       "      <th>50%</th>\n",
       "      <td>28800.000000</td>\n",
       "      <td>21825.000000</td>\n",
       "      <td>15000.000000</td>\n",
       "    </tr>\n",
       "    <tr>\n",
       "      <th>75%</th>\n",
       "      <td>37050.000000</td>\n",
       "      <td>27150.000000</td>\n",
       "      <td>17490.000000</td>\n",
       "    </tr>\n",
       "    <tr>\n",
       "      <th>max</th>\n",
       "      <td>135000.000000</td>\n",
       "      <td>107490.000000</td>\n",
       "      <td>79980.000000</td>\n",
       "    </tr>\n",
       "  </tbody>\n",
       "</table>\n",
       "</div>"
      ],
      "text/plain": [
       "       CurrentSalary   After6Months      SalBegin\n",
       "count     473.000000     473.000000    473.000000\n",
       "mean    34418.446089   25713.847780  17009.249471\n",
       "std     17093.723045   12158.478816   7877.562088\n",
       "min     15750.000000   12975.000000   9000.000000\n",
       "25%     24000.000000   18450.000000  12450.000000\n",
       "50%     28800.000000   21825.000000  15000.000000\n",
       "75%     37050.000000   27150.000000  17490.000000\n",
       "max    135000.000000  107490.000000  79980.000000"
      ]
     },
     "execution_count": 54,
     "metadata": {},
     "output_type": "execute_result"
    }
   ],
   "source": [
    "df[['CurrentSalary','After6Months','SalBegin']].describe()"
   ]
  },
  {
   "cell_type": "code",
   "execution_count": 55,
   "metadata": {
    "scrolled": true
   },
   "outputs": [
    {
     "data": {
      "text/plain": [
       "CurrentSalary    2.122582\n",
       "After6Months     2.266422\n",
       "SalBegin         2.853862\n",
       "dtype: float64"
      ]
     },
     "execution_count": 55,
     "metadata": {},
     "output_type": "execute_result"
    }
   ],
   "source": [
    "df[['CurrentSalary','After6Months','SalBegin']].skew()"
   ]
  },
  {
   "cell_type": "code",
   "execution_count": 56,
   "metadata": {
    "scrolled": true
   },
   "outputs": [
    {
     "data": {
      "text/plain": [
       "CurrentSalary     5.360850\n",
       "After6Months      6.806655\n",
       "SalBegin         12.378942\n",
       "dtype: float64"
      ]
     },
     "execution_count": 56,
     "metadata": {},
     "output_type": "execute_result"
    }
   ],
   "source": [
    "df[['CurrentSalary','After6Months','SalBegin']].kurt()"
   ]
  },
  {
   "cell_type": "code",
   "execution_count": 58,
   "metadata": {
    "scrolled": true
   },
   "outputs": [
    {
     "data": {
      "text/plain": [
       "{'whiskers': [<matplotlib.lines.Line2D at 0x21d6eafe988>,\n",
       "  <matplotlib.lines.Line2D at 0x21d6eafe188>],\n",
       " 'caps': [<matplotlib.lines.Line2D at 0x21d6eb85f08>,\n",
       "  <matplotlib.lines.Line2D at 0x21d6eaf5548>],\n",
       " 'boxes': [<matplotlib.lines.Line2D at 0x21d6eb16588>],\n",
       " 'medians': [<matplotlib.lines.Line2D at 0x21d6eaf5e48>],\n",
       " 'fliers': [<matplotlib.lines.Line2D at 0x21d6eb35108>],\n",
       " 'means': []}"
      ]
     },
     "execution_count": 58,
     "metadata": {},
     "output_type": "execute_result"
    },
    {
     "data": {
      "image/png": "[encoded data removed]",
      "text/plain": [
       "<Figure size 432x288 with 1 Axes>"
      ]
     },
     "metadata": {
      "needs_background": "light"
     },
     "output_type": "display_data"
    }
   ],
   "source": [
    "plt.boxplot(df.CurrentSalary)"
   ]
  },
  {
   "cell_type": "code",
   "execution_count": 60,
   "metadata": {
    "scrolled": true
   },
   "outputs": [
    {
     "data": {
      "text/plain": [
       "{'whiskers': [<matplotlib.lines.Line2D at 0x21d6f531608>,\n",
       "  <matplotlib.lines.Line2D at 0x21d6f531dc8>],\n",
       " 'caps': [<matplotlib.lines.Line2D at 0x21d6f531ec8>,\n",
       "  <matplotlib.lines.Line2D at 0x21d6f534e08>],\n",
       " 'boxes': [<matplotlib.lines.Line2D at 0x21d6f510dc8>],\n",
       " 'medians': [<matplotlib.lines.Line2D at 0x21d6f534f08>],\n",
       " 'fliers': [<matplotlib.lines.Line2D at 0x21d6f4e5908>],\n",
       " 'means': []}"
      ]
     },
     "execution_count": 60,
     "metadata": {},
     "output_type": "execute_result"
    },
    {
     "data": {
      "image/png": "[encoded data removed]",
      "text/plain": [
       "<Figure size 432x288 with 1 Axes>"
      ]
     },
     "metadata": {
      "needs_background": "light"
     },
     "output_type": "display_data"
    }
   ],
   "source": [
    "plt.boxplot(df.After6Months)"
   ]
  },
  {
   "cell_type": "code",
   "execution_count": 61,
   "metadata": {
    "scrolled": true
   },
   "outputs": [
    {
     "data": {
      "text/plain": [
       "{'whiskers': [<matplotlib.lines.Line2D at 0x21d6f596848>,\n",
       "  <matplotlib.lines.Line2D at 0x21d6f596fc8>],\n",
       " 'caps': [<matplotlib.lines.Line2D at 0x21d6f59b808>,\n",
       "  <matplotlib.lines.Line2D at 0x21d6f59bf88>],\n",
       " 'boxes': [<matplotlib.lines.Line2D at 0x21d6f56c788>],\n",
       " 'medians': [<matplotlib.lines.Line2D at 0x21d6f59e788>],\n",
       " 'fliers': [<matplotlib.lines.Line2D at 0x21d6f563708>],\n",
       " 'means': []}"
      ]
     },
     "execution_count": 61,
     "metadata": {},
     "output_type": "execute_result"
    },
    {
     "data": {
      "image/png": "[encoded data removed]",
      "text/plain": [
       "<Figure size 432x288 with 1 Axes>"
      ]
     },
     "metadata": {
      "needs_background": "light"
     },
     "output_type": "display_data"
    }
   ],
   "source": [
    "plt.boxplot(df.SalBegin)"
   ]
  },
  {
   "cell_type": "code",
   "execution_count": 62,
   "metadata": {
    "scrolled": true
   },
   "outputs": [
    {
     "data": {
      "text/plain": [
       "<matplotlib.collections.PathCollection at 0x21d6e4fec88>"
      ]
     },
     "execution_count": 62,
     "metadata": {},
     "output_type": "execute_result"
    },
    {
     "data": {
      "image/png": "[encoded data removed]",
      "text/plain": [
       "<Figure size 432x288 with 1 Axes>"
      ]
     },
     "metadata": {
      "needs_background": "light"
     },
     "output_type": "display_data"
    }
   ],
   "source": [
    "plt.scatter(df['CurrentSalary'], df['After6Months'])"
   ]
  }
 ],
 "metadata": {
  "kernelspec": {
   "display_name": "Python 3",
   "language": "python",
   "name": "python3"
  },
  "language_info": {
   "codemirror_mode": {
    "name": "ipython",
    "version": 3
   },
   "file_extension": ".py",
   "mimetype": "text/x-python",
   "name": "python",
   "nbconvert_exporter": "python",
   "pygments_lexer": "ipython3",
   "version": "3.7.6"
  }
 },
 "nbformat": 4,
 "nbformat_minor": 4
}
