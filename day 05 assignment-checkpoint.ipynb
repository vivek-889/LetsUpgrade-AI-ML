{
 "cells": [
  {
   "cell_type": "markdown",
   "metadata": {},
   "source": [
    "Question 1 : -\n",
    "Write a Python program to find the first 20 non-even prime natural numbers."
   ]
  },
  {
   "cell_type": "code",
   "execution_count": 1,
   "metadata": {},
   "outputs": [
    {
     "name": "stdout",
     "output_type": "stream",
     "text": [
      "3\n",
      "5\n",
      "7\n",
      "11\n",
      "13\n",
      "17\n",
      "19\n",
      "23\n",
      "29\n",
      "31\n",
      "37\n",
      "41\n",
      "43\n",
      "47\n",
      "53\n",
      "59\n",
      "61\n",
      "67\n",
      "71\n",
      "73\n"
     ]
    }
   ],
   "source": [
    "l = 2\n",
    "u = 75\n",
    "\n",
    "#print(\"Prime numbers between\", lower, \"and\", upper, \"are:\")\n",
    "\n",
    "for num in range(l, u + 1):\n",
    "   # all prime numbers are greater than 1\n",
    "   if num > 1:\n",
    "       for i in range(2, num):\n",
    "           if (num % i) == 0:\n",
    "               break\n",
    "       else:\n",
    "        if((num % 2) != 0):\n",
    "            print(num)"
   ]
  },
  {
   "cell_type": "markdown",
   "metadata": {},
   "source": [
    "Question 2 : -\n",
    "Write a Python program to implement 15 functions of string."
   ]
  },
  {
   "cell_type": "code",
   "execution_count": 3,
   "metadata": {},
   "outputs": [
    {
     "name": "stdout",
     "output_type": "stream",
     "text": [
      "My first program\n",
      "MY FIRST PROGRAM\n",
      "False\n",
      "False\n",
      "False\n",
      "1\n",
      "True\n",
      "True\n",
      "True\n",
      "False\n",
      "my first Python\n",
      "9\n",
      "['LetsUpgrade', 'gmail.com']\n",
      "L*e*t*s*U*p*g*r*a*d*e*@*g*m*a*i*l*.*c*o*m\n",
      "-1\n",
      "('my ', 'first', ' Program')\n",
      "False\n"
     ]
    }
   ],
   "source": [
    "\n",
    "str=\"my first Program\"\n",
    "\n",
    "print(str.capitalize())#First char of input string is changed to Upper case\n",
    "\n",
    "print(str.upper())#All chars changed to Upper case\n",
    "\n",
    "print(str.isupper())#Check if all chars are upper case letters\n",
    "\n",
    "print(str.islower())#Check if all chars are lower case letters\n",
    "\n",
    "print(str.isnumeric())#Check if all chars are numeric\n",
    "\n",
    "#str.count(search_string,start,end))\n",
    "print(str.count('fi'))\n",
    "#print(str.count('fi',2))  output 1\n",
    "#print(str.count('fi',2,6)) output 1\n",
    "\n",
    "#str.endswith(search_string,start,end))\n",
    "print(str.endswith('am'))#check the ending of string\n",
    "print(str.endswith('am'))\n",
    "\n",
    "print(str.startswith('my'))#check the statrting of string\n",
    "print(str.startswith('am'))\n",
    "\n",
    "print(str.replace('Program','Python'))#Search for a string inside a main string and if found then replace it with another\n",
    "\n",
    "print(str.find(\"Program\"))#gives the index of string\n",
    "\n",
    "\n",
    "str1='LetsUpgrade@gmail.com'#rsplit() returns a list after breaking a string using delimiter and max value\n",
    "print(str1.rsplit('@'))\n",
    "\n",
    "print('*'.join(str1))#Returns a string after joining elements of any iterable object using any delimiter.\n",
    "\n",
    "\n",
    "#string.rfind(search_string, start, end) \n",
    "print(str1.rfind('fi'))#Returns the rightmost matching position of the search string in a main string\n",
    "\n",
    "#rpartition()\n",
    "#partition() returns a three element tuple by breaking the string using input search string. Three parts are here.\n",
    "#1. Left part of the matched string\n",
    "#2. The searched string\n",
    "#3. Right part of the matched string\n",
    "print(str.rpartition('first'))\n",
    "\n",
    "print(str.isdigit())#Check if all chars are digits in a string"
   ]
  },
  {
   "cell_type": "markdown",
   "metadata": {},
   "source": [
    "Question 3:-\n",
    "Write a Python program to check if the given string is a Palindrome or Anagram or None of them. Display the message accordingly to the user."
   ]
  },
  {
   "cell_type": "code",
   "execution_count": 1,
   "metadata": {},
   "outputs": [
    {
     "name": "stdout",
     "output_type": "stream",
     "text": [
      "Enter first string vivek\n",
      "Enter second string keviv\n",
      "The two strings are anagram of each other\n",
      "The two strings are pallindrome of each other\n"
     ]
    }
   ],
   "source": [
    "s1 = input(\"Enter first string \",)\n",
    "s2 = input(\"Enter second string \",)\n",
    "# function to check whether two strings are anagram of each other  \n",
    "def areAnagram(s1, s2):  \n",
    "    #getting length of both strings \n",
    "    n1 = len(s1)  \n",
    "    n2 = len(s2)  \n",
    "  \n",
    "    # If lenght of both strings is not same, then they cannot be anagram  \n",
    "    if n1 != n2:  \n",
    "        return 0\n",
    "  \n",
    "    # Sort both strings  \n",
    "    s1 = sorted(s1) \n",
    "    s2 = sorted(s2) \n",
    "  \n",
    "    # Compare sorted strings  \n",
    "    for i in range(0, n1):  \n",
    "        if s1!=s2:  \n",
    "            return 0\n",
    "  \n",
    "    return 1\n",
    " \n",
    "def arePallindrome(s1,s2):\n",
    "    if s1[::-1]!=s2[:]:\n",
    "        return 0\n",
    "    return 1\n",
    "\n",
    "  \n",
    "# program to test the above function  \n",
    "\n",
    "\n",
    "if areAnagram(s1, s2):  \n",
    "    print (\"The two strings are anagram of each other\") \n",
    "\n",
    "if arePallindrome(s1, s2):  \n",
    "    print (\"The two strings are pallindrome of each other\") \n",
    "else:  \n",
    "    print (\"The two strings are neither pallindrome nor anagram of each other\")"
   ]
  },
  {
   "cell_type": "markdown",
   "metadata": {},
   "source": [
    "Question 4: -\n",
    "Write a Python's user defined function that removes all the additional characters from the string and converts it finally to lower case using built-in lower(). eg: If the string is \"Dr. Darshan Ingle @AI-ML Trainer\", then the output be \"drdarshaningleaimltrainer\"."
   ]
  },
  {
   "cell_type": "code",
   "execution_count": 2,
   "metadata": {},
   "outputs": [
    {
     "name": "stdout",
     "output_type": "stream",
     "text": [
      "Enter your stringDr. Darshan Ingle @AI-ML Trainer\n",
      "drdarshaningleaimltrainer"
     ]
    }
   ],
   "source": [
    "def convert(a):\n",
    "    for i in a:\n",
    "        if i.isalnum():\n",
    "            b=''.join(i)\n",
    "            print(b.lower(),end=\"\")\n",
    "\n",
    "str=input(\"Enter your string\",)\n",
    "convert(str)"
   ]
  }
 ],
 "metadata": {
  "kernelspec": {
   "display_name": "Python 3",
   "language": "python",
   "name": "python3"
  },
  "language_info": {
   "codemirror_mode": {
    "name": "ipython",
    "version": 3
   },
   "file_extension": ".py",
   "mimetype": "text/x-python",
   "name": "python",
   "nbconvert_exporter": "python",
   "pygments_lexer": "ipython3",
   "version": "3.7.6"
  }
 },
 "nbformat": 4,
 "nbformat_minor": 4
}
