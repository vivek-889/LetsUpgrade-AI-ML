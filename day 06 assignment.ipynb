{
 "cells": [
  {
   "cell_type": "markdown",
   "metadata": {},
   "source": [
    "Question 1->\n",
    "Assuming that we have some email addresses in the \"username@companyname.com\" format, please write program to print the company name of a given email address. Both user names and company names are composed of letters only. Input Format: The first line of the input contains an email address. Output Format: Print the company name in single line. Example; Input: john@google.com Output: google"
   ]
  },
  {
   "cell_type": "code",
   "execution_count": 1,
   "metadata": {},
   "outputs": [
    {
     "name": "stdout",
     "output_type": "stream",
     "text": [
      "Enter your Email Id =vivek@singhtraders.com\n",
      "Company Name:- singhtraders\n"
     ]
    }
   ],
   "source": [
    "email=input(\"Enter your Email Id =\",)\n",
    "output=email.split('@')\n",
    "output=output[1]\n",
    "output=output.split('.')\n",
    "final_output=output[0]\n",
    "print(\"Company Name:-\",final_output)"
   ]
  },
  {
   "cell_type": "markdown",
   "metadata": {},
   "source": [
    "Questions 2->\n",
    "write a program that accepts a comma-separated sequence of words as input and prints the words in a comma separated sequence after sorting them alphabetically. Input Format: The first line of input contains words separated by the comma. Output Format: Print the sorted words separated by the comma. Example: Input: without,hello,bag,world Output: bag,hello,without,world"
   ]
  },
  {
   "cell_type": "code",
   "execution_count": 2,
   "metadata": {},
   "outputs": [
    {
     "name": "stdout",
     "output_type": "stream",
     "text": [
      "Enter your words=without,hello,bag,world,vivek,\n",
      "all sorted words\n",
      ", bag, hello, vivek, without, world\n"
     ]
    }
   ],
   "source": [
    "output_strings=[]\n",
    "input_string = input(\"Enter your words=\")\n",
    "inp  = input_string.split(\",\")\n",
    "inp.sort()\n",
    "\n",
    "print(\"all sorted words\")\n",
    "for output in inp:\n",
    "    #print(output,end=\",\")\n",
    "    output_strings.append(output)\n",
    "\n",
    "print(', '.join(output_strings))\n",
    "\n",
    "#print(output[-1])"
   ]
  },
  {
   "cell_type": "markdown",
   "metadata": {},
   "source": [
    "Question 3->\n",
    "reate your own Jupyter Notebook for Sets. Reference link: https://www.w3schools.com/python/python_sets.asp"
   ]
  },
  {
   "cell_type": "code",
   "execution_count": 3,
   "metadata": {
    "scrolled": true
   },
   "outputs": [
    {
     "name": "stdout",
     "output_type": "stream",
     "text": [
      "<class 'set'>\n",
      "{'e', 'k', 's', 'h', 'u', 'f', 't', 'g'}\n",
      "{3, 5, 7, 11, 13, 17}\n",
      "{3, 5, 7, 11, 13}\n",
      "{3, 5, 7, 11, 19}\n",
      "{3, 5, 7, 11, 12, 14, 15, 16, 19}\n",
      "3\n",
      "5\n",
      "101\n",
      "7\n",
      "11\n",
      "91\n",
      "{1, 2, 3, 4, 5, 7, 8, 9, 12, 13, 14, 19}\n",
      "3\n",
      "5\n",
      "101\n",
      "7\n",
      "11\n",
      "91\n",
      "{1, 2, 3, 4, 5, 7, 8, 9, 12, 13, 14, 19}\n"
     ]
    }
   ],
   "source": [
    "#1) Creating set\n",
    "primes={3,5,7,9,11,13}\n",
    "print(type(primes))\n",
    "\n",
    "# 2) Creating set with constructor\n",
    "unique=set(\"thegeeksstuff\");\n",
    "print(unique)\n",
    "\n",
    "# 3) Creating empty set\n",
    "empty={}\n",
    "type(empty)\n",
    "empty=set();\n",
    "type(empty)\n",
    "\n",
    "#4) Creating set from List\n",
    "primesList=[3,5,7,11,13,17];\n",
    "primeSet=set(primesList)\n",
    "type(primeSet)\n",
    "print(primeSet)\n",
    "\n",
    "# 5) Creating set from tuple\n",
    "p=(3,5,7,11,13);\n",
    "primes=set(p);\n",
    "type(primes)\n",
    "print(primes)\n",
    "\n",
    "# 6) Accessing values in Set\n",
    "Primes = {3, 5, 7, 11, 13};\n",
    "#Primes[1]; # uncommenting this throw error\n",
    "\n",
    "#7) Using Add method\n",
    "primes={3,5,7,11};\n",
    "primes.add(19);\n",
    "print(primes)\n",
    "\n",
    "# 8) Using update method\n",
    "plist=[12,14,15,16];\n",
    "primes.update(plist);\n",
    "print(primes)\n",
    "\n",
    "#9) Using discard\n",
    "primes={3, 5, 'santosh', 7, 11, 12, 14, 15, 16, 19};\n",
    "primes.discard(\"santosh\")\n",
    "\n",
    "# 10) Using remove\n",
    "primes = {3, 5, 7, 11, 12, 14, 15, 16, 19}\n",
    "primes.remove(11);\n",
    "primes;\n",
    "\n",
    "# 11) Union operation on sets\n",
    "prime1={3,5,7,11};\n",
    "prime2={3,5,7,11,13,17,19}\n",
    "primes=prime1 | prime2\n",
    "primes\n",
    "\n",
    "# 12) Intersection operation on Sets\n",
    "prime1={3,5,7,11};\n",
    "prime2={3,5,7,11,13,17,19}\n",
    "primes=prime1 &  prime2\n",
    "primes\n",
    "\n",
    "# 13) Difference operation on sets\n",
    "prime2={3,5,7,11,13,17,19}\n",
    "prime1={3,5,7,11};\n",
    "primes=prime2-prime1\n",
    "primes\n",
    "\n",
    "# 14) Symmetric difference\n",
    "prime2={3,5,7,11,13,17,19}\n",
    "prime1={3,5,7,11,91,101};\n",
    "primes=prime2 ^ prime1\n",
    "primes\n",
    "\n",
    "# 15) Compare two sets\n",
    "prime1={3,5,7,11,91,101};\n",
    "prime={3,5,7,11,91,101};\n",
    "test=prime==prime1\n",
    "test\n",
    "\n",
    "prime1={3,5,7,11,91,101};\n",
    "prime1={3,5,7,11};\n",
    "test=prime2<prime1\n",
    "test\n",
    "\n",
    "#16) Membership test on sets\n",
    "prime1={3,5,7,11,91,101};\n",
    "test= 3 in prime1\n",
    "test\n",
    "\n",
    "# 17) Iterating on set\n",
    "primes={3,5,7,11,91,101};\n",
    "for prime in primes:\n",
    "    print(prime);\n",
    "\n",
    "# 18) Clearing a set\n",
    "prime1\n",
    "{3, 5, 101, 7, 11, 91}\n",
    "prime1.clear()\n",
    "\n",
    "#19) interesting problem\n",
    "number = [1,2,3,4,5,2,3,4,7,8,9,8,12,13,14,14,19]\n",
    "print (set(number))#1) Creating set\n",
    "primes={3,5,7,9,11,13}\n",
    "type(primes)\n",
    "\n",
    "# 2) Creating set with constructor\n",
    "unique=set(\"thegeeksstuff\");\n",
    "unique\n",
    "\n",
    "# 3) Creating empty set\n",
    "empty={}\n",
    "type(empty)\n",
    "empty=set();\n",
    "type(empty)\n",
    "\n",
    "#4) Creating set from List\n",
    "primesList=[3,5,7,11,13,17];\n",
    "primeSet=set(primesList)\n",
    "type(primeSet)\n",
    "primeSet\n",
    "\n",
    "# 5) Creating set from tuple\n",
    "p=(3,5,7,11,13);\n",
    "primes=set(p);\n",
    "type(primes)\n",
    "primes\n",
    "\n",
    "# 6) Accessing values in Set\n",
    "Primes = {3, 5, 7, 11, 13};\n",
    "#Primes[1]; # uncommenting this throw error\n",
    "\n",
    "#7) Using Add method\n",
    "primes={3,5,7,11};\n",
    "primes.add(19);\n",
    "primes\n",
    "\n",
    "# 8) Using update method\n",
    "plist=[12,14,15,16];\n",
    "primes.update(plist);\n",
    "primes\n",
    "\n",
    "#9) Using discard\n",
    "primes={3, 5, 'santosh', 7, 11, 12, 14, 15, 16, 19};\n",
    "primes.discard(\"santosh\")\n",
    "\n",
    "# 10) Using remove\n",
    "primes = {3, 5, 7, 11, 12, 14, 15, 16, 19}\n",
    "primes.remove(11);\n",
    "primes;\n",
    "\n",
    "# 11) Union operation on sets\n",
    "prime1={3,5,7,11};\n",
    "prime2={3,5,7,11,13,17,19}\n",
    "primes=prime1 | prime2\n",
    "primes\n",
    "\n",
    "# 12) Intersection operation on Sets\n",
    "prime1={3,5,7,11};\n",
    "prime2={3,5,7,11,13,17,19}\n",
    "primes=prime1 &  prime2\n",
    "primes\n",
    "\n",
    "# 13) Difference operation on sets\n",
    "prime2={3,5,7,11,13,17,19}\n",
    "prime1={3,5,7,11};\n",
    "primes=prime2-prime1\n",
    "primes\n",
    "\n",
    "# 14) Symmetric difference\n",
    "prime2={3,5,7,11,13,17,19}\n",
    "prime1={3,5,7,11,91,101};\n",
    "primes=prime2 ^ prime1\n",
    "primes\n",
    "\n",
    "# 15) Compare two sets\n",
    "prime1={3,5,7,11,91,101};\n",
    "prime={3,5,7,11,91,101};\n",
    "test=prime==prime1\n",
    "test\n",
    "\n",
    "prime1={3,5,7,11,91,101};\n",
    "prime1={3,5,7,11};\n",
    "test=prime2<prime1\n",
    "test\n",
    "\n",
    "#16) Membership test on sets\n",
    "prime1={3,5,7,11,91,101};\n",
    "test= 3 in prime1\n",
    "test\n",
    "\n",
    "# 17) Iterating on set\n",
    "primes={3,5,7,11,91,101};\n",
    "for prime in primes:\n",
    "    print(prime);\n",
    "\n",
    "# 18) Clearing a set\n",
    "prime1\n",
    "{3, 5, 101, 7, 11, 91}\n",
    "prime1.clear()\n",
    "\n",
    "#19) interesting problem\n",
    "number = [1,2,3,4,5,2,3,4,7,8,9,8,12,13,14,14,19]\n",
    "print (set(number))"
   ]
  },
  {
   "cell_type": "markdown",
   "metadata": {},
   "source": [
    "Question 4->\n",
    "iven a list of n-1 numbers ranging from 1 to n, your task is to find the missing number. There are no duplicates. Input Format: The first line contains n-1 numbers with each number separated by a space. Output Format: Print the missing number Example: Input:1 2 4 6 3 7 8 Output:5 Explanation: In the above list of numbers 5 is missing and hence 5 is the inp"
   ]
  },
  {
   "cell_type": "code",
   "execution_count": 6,
   "metadata": {
    "scrolled": true
   },
   "outputs": [
    {
     "name": "stdout",
     "output_type": "stream",
     "text": [
      "Enter List with square bracket and comma seprated elements:[1,3,4,5,8,9]\n",
      "Missing element in list:- [2, 6, 7]\n"
     ]
    }
   ],
   "source": [
    "l1=eval(input(\"Enter List with square bracket and comma seprated elements:\"))\n",
    "l1.sort()\n",
    "upper=(max(l1))\n",
    "lower=(min(l1))\n",
    "\n",
    "l2=list(range(lower,upper+1))#creating a list with range from lowest to highest element\n",
    "\n",
    "l3=l1+l2\n",
    "#print(l3)#[1, 3, 4, 5, 8, 1, 2, 3, 4, 5, 6, 7, 8]\n",
    "\n",
    "l4=[]\n",
    "#res = [x for x in l3 if x not in l1 ]\n",
    "\n",
    "#print(\"Missing element\",res)\n",
    "\n",
    "for i in l3:#iterating to the combined list\n",
    "    if i not in l1:##if any element from combined list is missing from list 1, print that number\n",
    "         l4.append(i)\n",
    "print(\"Missing element in list:-\",l4)"
   ]
  },
  {
   "cell_type": "markdown",
   "metadata": {},
   "source": [
    "Question 5->\n",
    "With a given list L, write a program to print this list L after removing all duplicate values with original order reserved. Example: If the input list is 12 24 35 24 88 120 155 88 120 155 Then the output should be 12 24 35 88 120 155 Explanation: Third, seventh and ninth element of the list L has been removed because it was already present. Input Format: In one line take the elements of the list L with each element separated by a space. Output Format: Print the elements of the modified list in one line with each element separated by a space. Example: Input: 12 24 35 24 Output: 12 24 35"
   ]
  },
  {
   "cell_type": "code",
   "execution_count": 7,
   "metadata": {},
   "outputs": [
    {
     "name": "stdout",
     "output_type": "stream",
     "text": [
      "Enter List of values: [1,33,24,33,56,70,56,8,10]\n",
      "After removing duplicate element from list:- [1, 33, 24, 56, 70, 8, 10]\n"
     ]
    }
   ],
   "source": [
    "l=eval(input(\"Enter List of values: \"))\n",
    "l1=[]\n",
    "for x in l:\n",
    "    if x not in l1:\n",
    "        l1.append(x)\n",
    "print(\"After removing duplicate element from list:-\",l1)"
   ]
  }
 ],
 "metadata": {
  "kernelspec": {
   "display_name": "Python 3",
   "language": "python",
   "name": "python3"
  },
  "language_info": {
   "codemirror_mode": {
    "name": "ipython",
    "version": 3
   },
   "file_extension": ".py",
   "mimetype": "text/x-python",
   "name": "python",
   "nbconvert_exporter": "python",
   "pygments_lexer": "ipython3",
   "version": "3.7.6"
  }
 },
 "nbformat": 4,
 "nbformat_minor": 4
}
