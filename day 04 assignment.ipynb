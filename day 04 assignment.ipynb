{
 "cells": [
  {
   "cell_type": "markdown",
   "metadata": {},
   "source": [
    "\n",
    "Question 1 : -\n",
    "Research on whether addition, subtraction, multiplication, division, floor division and modulo operations be performed on complex numbers. Based on your study, implement a Python program to demonstrate these operations."
   ]
  },
  {
   "cell_type": "code",
   "execution_count": null,
   "metadata": {},
   "outputs": [],
   "source": [
    "x=2+4j\n",
    "y=3+5j\n",
    "print(\"addition=\",x+y)\n",
    "print(\"substraction=\",x-y)\n",
    "print(\"multiplication=\",x*y)\n",
    "print(\"division=\",x/y)\n",
    "#print(\"modulo=\",x%y)\n",
    "#print(\"floor divison:-\",x//y)\n",
    "#Modulo and floor  operation can't get perform on complex numbers"
   ]
  },
  {
   "cell_type": "markdown",
   "metadata": {},
   "source": [
    "Question 2 :-\n",
    "Research on range() functions and its parameters. Create a markdown cell and write in your own\n",
    "words (no copy-paste from google please) what you understand about it. Implement a small\n",
    "program of your choice on the same.\n"
   ]
  },
  {
   "cell_type": "markdown",
   "metadata": {},
   "source": [
    "\n",
    ">>Range() function represents a sequence of numbers,The items present in range() data type can't be modified,it starts from 0 by default,increment by 1 and stops before a specified number.\n",
    "\n"
   ]
  },
  {
   "cell_type": "code",
   "execution_count": 3,
   "metadata": {},
   "outputs": [
    {
     "name": "stdout",
     "output_type": "stream",
     "text": [
      "0\n",
      "1\n",
      "2\n",
      "3\n",
      "4\n",
      "5\n"
     ]
    }
   ],
   "source": [
    "# some examples of range funcion.\n",
    "R=range(6)#generates numbers from 0 to 5\n",
    "for i in R:\n",
    "    print(i)"
   ]
  },
  {
   "cell_type": "code",
   "execution_count": 4,
   "metadata": {},
   "outputs": [
    {
     "name": "stdout",
     "output_type": "stream",
     "text": [
      "5\n",
      "6\n",
      "7\n",
      "8\n",
      "9\n"
     ]
    }
   ],
   "source": [
    "R=range(5,10)#generates numbers from 5 to 9\n",
    "for i in R:\n",
    "    print (i)"
   ]
  },
  {
   "cell_type": "code",
   "execution_count": 5,
   "metadata": {},
   "outputs": [
    {
     "name": "stdout",
     "output_type": "stream",
     "text": [
      "5\n",
      "8\n",
      "11\n",
      "14\n",
      "17\n",
      "20\n",
      "23\n"
     ]
    }
   ],
   "source": [
    "R=range(5,25,3)  #generates number from 5 to 25 with increament of 3.\n",
    "for i in R:\n",
    "    print(i)"
   ]
  },
  {
   "cell_type": "markdown",
   "metadata": {},
   "source": [
    "Question 3:-\n",
    " Consider two numbers. Perform their subtraction and if the result of subtraction is greater than\n",
    "25, print their multiplication result else print their division result.\n"
   ]
  },
  {
   "cell_type": "code",
   "execution_count": 6,
   "metadata": {},
   "outputs": [
    {
     "name": "stdout",
     "output_type": "stream",
     "text": [
      "Subtraction Result is greater than 25 so x*y= 15000\n",
      "Subtraction Result is less than 25 so a/b= 2.0\n"
     ]
    }
   ],
   "source": [
    "x=150\n",
    "y=100\n",
    "\n",
    "if (x-y>25):\n",
    "    print(\"Subtraction Result is greater than 25 so x*y=\",x*y)\n",
    "else:\n",
    "    print(\"Subtraction Result is less than 25 so x/y=\",x/y)\n",
    "\n",
    "a=20\n",
    "b=10\n",
    "if (a-b>25):\n",
    "    print(\"Subtraction Result is greater than 25 so a*b=\",a*b)\n",
    "else:\n",
    "    print(\"Subtraction Result is less than 25 so a/b=\",a/b)"
   ]
  },
  {
   "cell_type": "markdown",
   "metadata": {},
   "source": [
    "Question 4:-\n",
    "Consider a list of 10 elements of integer values. If the number in the list is divisible by 2, print the result as \"square of that number minus 2\"."
   ]
  },
  {
   "cell_type": "code",
   "execution_count": 9,
   "metadata": {},
   "outputs": [
    {
     "name": "stdout",
     "output_type": "stream",
     "text": [
      "2  is the square root minus 2 of = 2\n",
      "14  is the square root minus 2 of = 4\n",
      "34  is the square root minus 2 of = 6\n",
      "62  is the square root minus 2 of = 8\n",
      "98  is the square root minus 2 of = 10\n",
      "142  is the square root minus 2 of = 12\n"
     ]
    }
   ],
   "source": [
    "l=[1,2,3,4,5,6,7,8,9,10,12,17]\n",
    "\n",
    "for i in l:\n",
    "    if (i%2==0):\n",
    "        print(i**2-2,\" is the square root minus 2 of =\",i)"
   ]
  },
  {
   "cell_type": "markdown",
   "metadata": {},
   "source": [
    "Question 5:\n",
    "Consider a list of 10 elements. Print all the elements in the list which are greater than 7 when that number is divided 2."
   ]
  },
  {
   "cell_type": "code",
   "execution_count": 11,
   "metadata": {},
   "outputs": [
    {
     "name": "stdout",
     "output_type": "stream",
     "text": [
      "17  is greater than 7 when divided by 2\n",
      "23  is greater than 7 when divided by 2\n",
      "32  is greater than 7 when divided by 2\n",
      "33  is greater than 7 when divided by 2\n",
      "41  is greater than 7 when divided by 2\n",
      "47  is greater than 7 when divided by 2\n",
      "53  is greater than 7 when divided by 2\n",
      "67  is greater than 7 when divided by 2\n"
     ]
    }
   ],
   "source": [
    "l=[10,14,17,23,32,33,41,47,53,67]\n",
    "for i in l:\n",
    "    if (i/2>7):\n",
    "        print(i,\" is greater than 7 when divided by 2\")"
   ]
  }
 ],
 "metadata": {
  "kernelspec": {
   "display_name": "Python 3",
   "language": "python",
   "name": "python3"
  },
  "language_info": {
   "codemirror_mode": {
    "name": "ipython",
    "version": 3
   },
   "file_extension": ".py",
   "mimetype": "text/x-python",
   "name": "python",
   "nbconvert_exporter": "python",
   "pygments_lexer": "ipython3",
   "version": "3.7.6"
  }
 },
 "nbformat": 4,
 "nbformat_minor": 4
}
