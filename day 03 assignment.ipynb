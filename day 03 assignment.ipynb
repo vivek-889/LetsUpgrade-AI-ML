{
 "cells": [
  {
   "cell_type": "markdown",
   "metadata": {
    "raw_mimetype": "text/html"
   },
   "source": [
    "Question 1 :-\n",
    "Write a program to subtract two complex numbers in Python."
   ]
  },
  {
   "cell_type": "code",
   "execution_count": 1,
   "metadata": {},
   "outputs": [
    {
     "name": "stdout",
     "output_type": "stream",
     "text": [
      "substraction of x-y= (-1+2j)\n"
     ]
    }
   ],
   "source": [
    "x=3+9j\n",
    "y=4+7j\n",
    "c=x-y\n",
    "print(\"substraction of x-y=\",c)"
   ]
  },
  {
   "cell_type": "markdown",
   "metadata": {},
   "source": [
    "Question 2 :-\n",
    "write a program to find fourth root of a number."
   ]
  },
  {
   "cell_type": "code",
   "execution_count": 5,
   "metadata": {},
   "outputs": [
    {
     "name": "stdout",
     "output_type": "stream",
     "text": [
      "fourth root of no is= 3.0\n"
     ]
    }
   ],
   "source": [
    "a=81\n",
    "print(\"fourth root of no is=\",a**(1/4))"
   ]
  },
  {
   "cell_type": "markdown",
   "metadata": {},
   "source": [
    "\n",
    "Question 3:-\n",
    "Write a program to swap two numbers in Python with the help of a temporary variable."
   ]
  },
  {
   "cell_type": "code",
   "execution_count": 8,
   "metadata": {},
   "outputs": [
    {
     "name": "stdout",
     "output_type": "stream",
     "text": [
      "before swapping= 2 3\n",
      "after swapping= 3 2\n"
     ]
    }
   ],
   "source": [
    "x=2\n",
    "y=3\n",
    "print(\"before swapping=\",x,y)\n",
    "z=x\n",
    "x=y\n",
    "y=z\n",
    "print(\"after swapping=\",x,y)"
   ]
  },
  {
   "cell_type": "markdown",
   "metadata": {},
   "source": [
    "Question 4: -\n",
    "Write a program to swap two numbers in Python without using a temporary variable."
   ]
  },
  {
   "cell_type": "code",
   "execution_count": 11,
   "metadata": {},
   "outputs": [
    {
     "name": "stdout",
     "output_type": "stream",
     "text": [
      "before swapping =  2 3\n",
      "after swapping =  3 2\n"
     ]
    }
   ],
   "source": [
    "x=2\n",
    "y=3\n",
    "print(\"before swapping = \", x,y)\n",
    "x=x+y\n",
    "y=x-y\n",
    "x=x-y\n",
    "print(\"after swapping = \",x,y)"
   ]
  },
  {
   "cell_type": "markdown",
   "metadata": {},
   "source": [
    "\n",
    "Question 5: -\n",
    "Write a program to convert fahrenheit to kelvin and celsius both."
   ]
  },
  {
   "cell_type": "code",
   "execution_count": 14,
   "metadata": {},
   "outputs": [
    {
     "name": "stdout",
     "output_type": "stream",
     "text": [
      "fahrenheit into celcius= 37.22222222222222\n",
      "fahrenheit into kelvin= 310.22222222222223\n"
     ]
    }
   ],
   "source": [
    "fahrenheit=99\n",
    "print(\"fahrenheit into celcius=\",(fahrenheit-32)*5.0/9.0)\n",
    "print(\"fahrenheit into kelvin=\",(fahrenheit-32)*5.0/9.0+273)"
   ]
  },
  {
   "cell_type": "markdown",
   "metadata": {},
   "source": [
    "Question 6:-\n",
    "Write a program to demonstrate all the available data types in Python. Hint: Use type() function"
   ]
  },
  {
   "cell_type": "code",
   "execution_count": 17,
   "metadata": {},
   "outputs": [
    {
     "name": "stdout",
     "output_type": "stream",
     "text": [
      "70 is of type= <class 'int'>\n",
      "100.0 is of type= <class 'float'>\n",
      "(2+4j) is complex number?= True\n",
      "[1, 2, 3, 4, 9.0, 'Lets Upgrade'] is of type= <class 'list'>\n",
      "(1, 2, 5.0, 6, 4, 'Lets Upgrade') is of type= <class 'tuple'>\n",
      "{1: 'value', 'key': 2} is of type= <class 'dict'>\n",
      "vivek singh is of type= <class 'str'>\n",
      "{1, 2, 3, 4, 5} is of type= <class 'set'>\n"
     ]
    }
   ],
   "source": [
    "#Integer:-\n",
    "a = 70\n",
    "print(a, \"is of type=\", type(a))\n",
    "\n",
    "#Float\n",
    "a = 100.0\n",
    "print(a, \"is of type=\", type(a))\n",
    "\n",
    "#Complex Number\n",
    "a = 2+4j\n",
    "print(a, \"is complex number?=\", isinstance(2+4j,complex))\n",
    "\n",
    "#List\n",
    "l=[1,2,3,4,9.0,'Lets Upgrade']\n",
    "print(l, \"is of type=\", type(l))\n",
    "\n",
    "#tuple\n",
    "t =(1,2,5.0,6,4,'Lets Upgrade')\n",
    "print(t, \"is of type=\", type(t))\n",
    "\n",
    "#Dictionary\n",
    "d = {1:'value','key':2}\n",
    "print(d, \"is of type=\", type(d))\n",
    "\n",
    "#String\n",
    "s='vivek singh'\n",
    "print(s, \"is of type=\", type(s))\n",
    "\n",
    "#Set\n",
    "s1 = {5,2,3,1,4}\n",
    "print(s1, \"is of type=\", type(s1))"
   ]
  },
  {
   "cell_type": "markdown",
   "metadata": {},
   "source": [
    "Question 7:\n",
    "Create a Markdown cell in jupyter and list the steps discussed in the session by Dr. Darshan Ingle sir to create Github profile and upload Githubs Assignment link."
   ]
  },
  {
   "cell_type": "code",
   "execution_count": null,
   "metadata": {},
   "outputs": [],
   "source": [
    "1.GO to github.com. \n",
    "2.Create a profile over there.\n",
    "3.Click on create New repository located on left upper side of the window.\n",
    "4.Give a name to your repository (LetsUpgrade-AI-ML).\n",
    "5.In Description- Assignment. \n",
    "6.Click on create Repository. \n",
    "7.Your repository (LetsUpgrade-AI-ML) will get created.\n",
    "8.Go to that repository and upload your folder from your local which contains the assignment.\n",
    "9.Commit the changes by clicking on Commit Changes.\n",
    "10.In your repositories go to your repository (LetsUpgrade-AI-ML),go into your folder (e.g., Day3),\n",
    "copy the link from search bar.\n",
    "11.GO to Lets Upgrade Submission form :-\n",
    "    a.Fill the the required date.\n",
    "    b.Choose the Assignment Day from Dropdown.\n",
    "12.Now paste the link of your github repository and click Submit. \n",
    "13.Before submitting ,make sure its public ,by checking your link in incognito mode of your browser."
   ]
  },
  {
   "cell_type": "code",
   "execution_count": 18,
   "metadata": {},
   "outputs": [
    {
     "ename": "SyntaxError",
     "evalue": "invalid syntax (<ipython-input-18-30a5a984d24a>, line 2)",
     "output_type": "error",
     "traceback": [
      "\u001b[1;36m  File \u001b[1;32m\"<ipython-input-18-30a5a984d24a>\"\u001b[1;36m, line \u001b[1;32m2\u001b[0m\n\u001b[1;33m    os.get cwd\u001b[0m\n\u001b[1;37m             ^\u001b[0m\n\u001b[1;31mSyntaxError\u001b[0m\u001b[1;31m:\u001b[0m invalid syntax\n"
     ]
    }
   ],
   "source": [
    "import os \n",
    "oss.get(cwd\n"
   ]
  },
  {
   "cell_type": "code",
   "execution_count": null,
   "metadata": {},
   "outputs": [],
   "source": []
  }
 ],
 "metadata": {
  "celltoolbar": "Raw Cell Format",
  "kernelspec": {
   "display_name": "Python 3",
   "language": "python",
   "name": "python3"
  },
  "language_info": {
   "codemirror_mode": {
    "name": "ipython",
    "version": 3
   },
   "file_extension": ".py",
   "mimetype": "text/x-python",
   "name": "python",
   "nbconvert_exporter": "python",
   "pygments_lexer": "ipython3",
   "version": "3.7.6"
  }
 },
 "nbformat": 4,
 "nbformat_minor": 4
}
