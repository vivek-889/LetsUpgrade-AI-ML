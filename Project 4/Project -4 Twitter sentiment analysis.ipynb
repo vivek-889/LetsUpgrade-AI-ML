{
 "cells": [
  {
   "cell_type": "raw",
   "metadata": {},
   "source": [
    "we will collect text data using twitter API."
   ]
  },
  {
   "cell_type": "markdown",
   "metadata": {},
   "source": [
    "pip install tweepy. pip install openpyxl."
   ]
  },
  {
   "cell_type": "code",
   "execution_count": 1,
   "metadata": {
    "scrolled": false
   },
   "outputs": [
    {
     "name": "stdout",
     "output_type": "stream",
     "text": [
      "Requirement already satisfied: tweepy in c:\\users\\vivek\\anaconda3\\lib\\site-packages (3.9.0)\n",
      "Requirement already satisfied: six>=1.10.0 in c:\\users\\vivek\\anaconda3\\lib\\site-packages (from tweepy) (1.14.0)\n",
      "Requirement already satisfied: requests[socks]>=2.11.1 in c:\\users\\vivek\\anaconda3\\lib\\site-packages (from tweepy) (2.22.0)\n",
      "Requirement already satisfied: requests-oauthlib>=0.7.0 in c:\\users\\vivek\\anaconda3\\lib\\site-packages (from tweepy) (1.3.0)\n",
      "Requirement already satisfied: chardet<3.1.0,>=3.0.2 in c:\\users\\vivek\\anaconda3\\lib\\site-packages (from requests[socks]>=2.11.1->tweepy) (3.0.4)\n",
      "Requirement already satisfied: certifi>=2017.4.17 in c:\\users\\vivek\\anaconda3\\lib\\site-packages (from requests[socks]>=2.11.1->tweepy) (2019.11.28)\n",
      "Requirement already satisfied: idna<2.9,>=2.5 in c:\\users\\vivek\\anaconda3\\lib\\site-packages (from requests[socks]>=2.11.1->tweepy) (2.8)\n",
      "Requirement already satisfied: urllib3!=1.25.0,!=1.25.1,<1.26,>=1.21.1 in c:\\users\\vivek\\anaconda3\\lib\\site-packages (from requests[socks]>=2.11.1->tweepy) (1.25.8)\n",
      "Requirement already satisfied: PySocks!=1.5.7,>=1.5.6; extra == \"socks\" in c:\\users\\vivek\\anaconda3\\lib\\site-packages (from requests[socks]>=2.11.1->tweepy) (1.7.1)\n",
      "Requirement already satisfied: oauthlib>=3.0.0 in c:\\users\\vivek\\anaconda3\\lib\\site-packages (from requests-oauthlib>=0.7.0->tweepy) (3.1.0)\n",
      "Note: you may need to restart the kernel to use updated packages.\n"
     ]
    }
   ],
   "source": [
    "pip install tweepy"
   ]
  },
  {
   "cell_type": "code",
   "execution_count": 2,
   "metadata": {
    "scrolled": true
   },
   "outputs": [
    {
     "name": "stdout",
     "output_type": "stream",
     "text": [
      "Requirement already satisfied: openpyxl in c:\\users\\vivek\\anaconda3\\lib\\site-packages (3.0.3)\n",
      "Requirement already satisfied: et-xmlfile in c:\\users\\vivek\\anaconda3\\lib\\site-packages (from openpyxl) (1.0.1)\n",
      "Requirement already satisfied: jdcal in c:\\users\\vivek\\anaconda3\\lib\\site-packages (from openpyxl) (1.4.1)\n",
      "Note: you may need to restart the kernel to use updated packages.\n"
     ]
    }
   ],
   "source": [
    "pip install openpyxl"
   ]
  },
  {
   "cell_type": "code",
   "execution_count": 3,
   "metadata": {},
   "outputs": [],
   "source": [
    "import numpy as np\n",
    "import pandas as pd\n",
    "import tweepy\n",
    "import json\n",
    "from tweepy import OAuthHandler"
   ]
  },
  {
   "cell_type": "code",
   "execution_count": 4,
   "metadata": {},
   "outputs": [],
   "source": [
    "consumer_key =\"tOeaBd667oR9uzTGiOgowX5Nk\"\n",
    "consumer_secret =\"GhpmbckC1zG71XGciAzLLG95up2JtSMSq4SUPAiP42UpUEpo21\"\n",
    "consumer_token =\"2175097028-8E1BApj3vbgnByBi7dO8B001lnbJFOGZtNGIqnP\"\n",
    "consumer_token_secret =\"XIJgUAnyscejPLBI3YGZtxGyH8Nv1MBCdMypscgwB66Xn\""
   ]
  },
  {
   "cell_type": "code",
   "execution_count": 5,
   "metadata": {},
   "outputs": [],
   "source": [
    "auth = tweepy.OAuthHandler(consumer_key , consumer_secret)\n",
    "auth.set_access_token( consumer_token, consumer_token_secret)\n",
    "api = tweepy.API(auth)"
   ]
  },
  {
   "cell_type": "code",
   "execution_count": 6,
   "metadata": {},
   "outputs": [],
   "source": [
    "query =\"corona second wave in india\""
   ]
  },
  {
   "cell_type": "code",
   "execution_count": 7,
   "metadata": {
    "scrolled": false
   },
   "outputs": [
    {
     "name": "stdout",
     "output_type": "stream",
     "text": [
      "Status(_api=<tweepy.api.API object at 0x000001D09CCCD5C8>, _json={'created_at': 'Thu Nov 26 03:33:45 +0000 2020', 'id': 1331803301872975872, 'id_str': '1331803301872975872', 'text': 'Coronavirus India Live Updates: Mumbai reports close to 1000 corona cases; No fresh lockdown in Maharashtra, clarif… https://t.co/7nstpAI0d0', 'truncated': True, 'entities': {'hashtags': [], 'symbols': [], 'user_mentions': [], 'urls': [{'url': 'https://t.co/7nstpAI0d0', 'expanded_url': 'https://twitter.com/i/web/status/1331803301872975872', 'display_url': 'twitter.com/i/web/status/1…', 'indices': [117, 140]}]}, 'metadata': {'iso_language_code': 'en', 'result_type': 'recent'}, 'source': '<a href=\"http://twitter.com/download/android\" rel=\"nofollow\">Twitter for Android</a>', 'in_reply_to_status_id': None, 'in_reply_to_status_id_str': None, 'in_reply_to_user_id': None, 'in_reply_to_user_id_str': None, 'in_reply_to_screen_name': None, 'user': {'id': 1203900798255554561, 'id_str': '1203900798255554561', 'name': 'Shiv Kumar Singh Dauria', 'screen_name': 'ShivKum60852808', 'location': '', 'description': 'Keeping in touch with all the happening..', 'url': None, 'entities': {'description': {'urls': []}}, 'protected': False, 'followers_count': 75, 'friends_count': 186, 'listed_count': 1, 'created_at': 'Mon Dec 09 04:55:08 +0000 2019', 'favourites_count': 19076, 'utc_offset': None, 'time_zone': None, 'geo_enabled': False, 'verified': False, 'statuses_count': 5893, 'lang': None, 'contributors_enabled': False, 'is_translator': False, 'is_translation_enabled': False, 'profile_background_color': 'F5F8FA', 'profile_background_image_url': None, 'profile_background_image_url_https': None, 'profile_background_tile': False, 'profile_image_url': 'http://pbs.twimg.com/profile_images/1254464937084227587/-0ZwEV07_normal.jpg', 'profile_image_url_https': 'https://pbs.twimg.com/profile_images/1254464937084227587/-0ZwEV07_normal.jpg', 'profile_link_color': '1DA1F2', 'profile_sidebar_border_color': 'C0DEED', 'profile_sidebar_fill_color': 'DDEEF6', 'profile_text_color': '333333', 'profile_use_background_image': True, 'has_extended_profile': False, 'default_profile': True, 'default_profile_image': False, 'following': False, 'follow_request_sent': False, 'notifications': False, 'translator_type': 'none'}, 'geo': None, 'coordinates': None, 'place': None, 'contributors': None, 'is_quote_status': False, 'retweet_count': 0, 'favorite_count': 0, 'favorited': False, 'retweeted': False, 'possibly_sensitive': False, 'lang': 'en'}, created_at=datetime.datetime(2020, 11, 26, 3, 33, 45), id=1331803301872975872, id_str='1331803301872975872', text='Coronavirus India Live Updates: Mumbai reports close to 1000 corona cases; No fresh lockdown in Maharashtra, clarif… https://t.co/7nstpAI0d0', truncated=True, entities={'hashtags': [], 'symbols': [], 'user_mentions': [], 'urls': [{'url': 'https://t.co/7nstpAI0d0', 'expanded_url': 'https://twitter.com/i/web/status/1331803301872975872', 'display_url': 'twitter.com/i/web/status/1…', 'indices': [117, 140]}]}, metadata={'iso_language_code': 'en', 'result_type': 'recent'}, source='Twitter for Android', source_url='http://twitter.com/download/android', in_reply_to_status_id=None, in_reply_to_status_id_str=None, in_reply_to_user_id=None, in_reply_to_user_id_str=None, in_reply_to_screen_name=None, author=User(_api=<tweepy.api.API object at 0x000001D09CCCD5C8>, _json={'id': 1203900798255554561, 'id_str': '1203900798255554561', 'name': 'Shiv Kumar Singh Dauria', 'screen_name': 'ShivKum60852808', 'location': '', 'description': 'Keeping in touch with all the happening..', 'url': None, 'entities': {'description': {'urls': []}}, 'protected': False, 'followers_count': 75, 'friends_count': 186, 'listed_count': 1, 'created_at': 'Mon Dec 09 04:55:08 +0000 2019', 'favourites_count': 19076, 'utc_offset': None, 'time_zone': None, 'geo_enabled': False, 'verified': False, 'statuses_count': 5893, 'lang': None, 'contributors_enabled': False, 'is_translator': False, 'is_translation_enabled': False, 'profile_background_color': 'F5F8FA', 'profile_background_image_url': None, 'profile_background_image_url_https': None, 'profile_background_tile': False, 'profile_image_url': 'http://pbs.twimg.com/profile_images/1254464937084227587/-0ZwEV07_normal.jpg', 'profile_image_url_https': 'https://pbs.twimg.com/profile_images/1254464937084227587/-0ZwEV07_normal.jpg', 'profile_link_color': '1DA1F2', 'profile_sidebar_border_color': 'C0DEED', 'profile_sidebar_fill_color': 'DDEEF6', 'profile_text_color': '333333', 'profile_use_background_image': True, 'has_extended_profile': False, 'default_profile': True, 'default_profile_image': False, 'following': False, 'follow_request_sent': False, 'notifications': False, 'translator_type': 'none'}, id=1203900798255554561, id_str='1203900798255554561', name='Shiv Kumar Singh Dauria', screen_name='ShivKum60852808', location='', description='Keeping in touch with all the happening..', url=None, entities={'description': {'urls': []}}, protected=False, followers_count=75, friends_count=186, listed_count=1, created_at=datetime.datetime(2019, 12, 9, 4, 55, 8), favourites_count=19076, utc_offset=None, time_zone=None, geo_enabled=False, verified=False, statuses_count=5893, lang=None, contributors_enabled=False, is_translator=False, is_translation_enabled=False, profile_background_color='F5F8FA', profile_background_image_url=None, profile_background_image_url_https=None, profile_background_tile=False, profile_image_url='http://pbs.twimg.com/profile_images/1254464937084227587/-0ZwEV07_normal.jpg', profile_image_url_https='https://pbs.twimg.com/profile_images/1254464937084227587/-0ZwEV07_normal.jpg', profile_link_color='1DA1F2', profile_sidebar_border_color='C0DEED', profile_sidebar_fill_color='DDEEF6', profile_text_color='333333', profile_use_background_image=True, has_extended_profile=False, default_profile=True, default_profile_image=False, following=False, follow_request_sent=False, notifications=False, translator_type='none'), user=User(_api=<tweepy.api.API object at 0x000001D09CCCD5C8>, _json={'id': 1203900798255554561, 'id_str': '1203900798255554561', 'name': 'Shiv Kumar Singh Dauria', 'screen_name': 'ShivKum60852808', 'location': '', 'description': 'Keeping in touch with all the happening..', 'url': None, 'entities': {'description': {'urls': []}}, 'protected': False, 'followers_count': 75, 'friends_count': 186, 'listed_count': 1, 'created_at': 'Mon Dec 09 04:55:08 +0000 2019', 'favourites_count': 19076, 'utc_offset': None, 'time_zone': None, 'geo_enabled': False, 'verified': False, 'statuses_count': 5893, 'lang': None, 'contributors_enabled': False, 'is_translator': False, 'is_translation_enabled': False, 'profile_background_color': 'F5F8FA', 'profile_background_image_url': None, 'profile_background_image_url_https': None, 'profile_background_tile': False, 'profile_image_url': 'http://pbs.twimg.com/profile_images/1254464937084227587/-0ZwEV07_normal.jpg', 'profile_image_url_https': 'https://pbs.twimg.com/profile_images/1254464937084227587/-0ZwEV07_normal.jpg', 'profile_link_color': '1DA1F2', 'profile_sidebar_border_color': 'C0DEED', 'profile_sidebar_fill_color': 'DDEEF6', 'profile_text_color': '333333', 'profile_use_background_image': True, 'has_extended_profile': False, 'default_profile': True, 'default_profile_image': False, 'following': False, 'follow_request_sent': False, 'notifications': False, 'translator_type': 'none'}, id=1203900798255554561, id_str='1203900798255554561', name='Shiv Kumar Singh Dauria', screen_name='ShivKum60852808', location='', description='Keeping in touch with all the happening..', url=None, entities={'description': {'urls': []}}, protected=False, followers_count=75, friends_count=186, listed_count=1, created_at=datetime.datetime(2019, 12, 9, 4, 55, 8), favourites_count=19076, utc_offset=None, time_zone=None, geo_enabled=False, verified=False, statuses_count=5893, lang=None, contributors_enabled=False, is_translator=False, is_translation_enabled=False, profile_background_color='F5F8FA', profile_background_image_url=None, profile_background_image_url_https=None, profile_background_tile=False, profile_image_url='http://pbs.twimg.com/profile_images/1254464937084227587/-0ZwEV07_normal.jpg', profile_image_url_https='https://pbs.twimg.com/profile_images/1254464937084227587/-0ZwEV07_normal.jpg', profile_link_color='1DA1F2', profile_sidebar_border_color='C0DEED', profile_sidebar_fill_color='DDEEF6', profile_text_color='333333', profile_use_background_image=True, has_extended_profile=False, default_profile=True, default_profile_image=False, following=False, follow_request_sent=False, notifications=False, translator_type='none'), geo=None, coordinates=None, place=None, contributors=None, is_quote_status=False, retweet_count=0, favorite_count=0, favorited=False, retweeted=False, possibly_sensitive=False, lang='en') \n",
      "\n",
      ".....................\n",
      "\n",
      "Status(_api=<tweepy.api.API object at 0x000001D09CCCD5C8>, _json={'created_at': 'Wed Nov 25 12:47:39 +0000 2020', 'id': 1331580307493949441, 'id_str': '1331580307493949441', 'text': '@VijayIndrSingla @capt_amarinder  @DrRPNishank @ugc_india @IKGujralPTU Examinations are being started in colleges f… https://t.co/QLZ0HZ3fUn', 'truncated': True, 'entities': {'hashtags': [], 'symbols': [], 'user_mentions': [{'screen_name': 'VijayIndrSingla', 'name': 'Vijay Inder Singla', 'id': 1601307042, 'id_str': '1601307042', 'indices': [0, 16]}, {'screen_name': 'capt_amarinder', 'name': 'Capt.Amarinder Singh', 'id': 263090427, 'id_str': '263090427', 'indices': [17, 32]}, {'screen_name': 'DrRPNishank', 'name': 'Dr. Ramesh Pokhriyal Nishank', 'id': 2617066206, 'id_str': '2617066206', 'indices': [34, 46]}, {'screen_name': 'ugc_india', 'name': 'UGC INDIA', 'id': 870103719290982401, 'id_str': '870103719290982401', 'indices': [47, 57]}, {'screen_name': 'IKGujralPTU', 'name': 'IKGPTU', 'id': 756388416468705280, 'id_str': '756388416468705280', 'indices': [58, 70]}], 'urls': [{'url': 'https://t.co/QLZ0HZ3fUn', 'expanded_url': 'https://twitter.com/i/web/status/1331580307493949441', 'display_url': 'twitter.com/i/web/status/1…', 'indices': [117, 140]}]}, 'metadata': {'iso_language_code': 'en', 'result_type': 'recent'}, 'source': '<a href=\"http://twitter.com/download/android\" rel=\"nofollow\">Twitter for Android</a>', 'in_reply_to_status_id': None, 'in_reply_to_status_id_str': None, 'in_reply_to_user_id': 1601307042, 'in_reply_to_user_id_str': '1601307042', 'in_reply_to_screen_name': 'VijayIndrSingla', 'user': {'id': 2761094950, 'id_str': '2761094950', 'name': 'kulwinder saini', 'screen_name': 'kulwindersain28', 'location': 'Sodal Nagar, Jalandhar', 'description': '#RobertDowneyJR #SCARLETTJohnson #ChrisHemsworth #Avengers #CRICKETLOVER', 'url': None, 'entities': {'description': {'urls': []}}, 'protected': False, 'followers_count': 100, 'friends_count': 58, 'listed_count': 2, 'created_at': 'Thu Sep 04 08:23:06 +0000 2014', 'favourites_count': 8646, 'utc_offset': None, 'time_zone': None, 'geo_enabled': True, 'verified': False, 'statuses_count': 1493, 'lang': None, 'contributors_enabled': False, 'is_translator': False, 'is_translation_enabled': False, 'profile_background_color': 'C0DEED', 'profile_background_image_url': 'http://abs.twimg.com/images/themes/theme1/bg.png', 'profile_background_image_url_https': 'https://abs.twimg.com/images/themes/theme1/bg.png', 'profile_background_tile': False, 'profile_image_url': 'http://pbs.twimg.com/profile_images/1315916549018972160/6V08GQCt_normal.jpg', 'profile_image_url_https': 'https://pbs.twimg.com/profile_images/1315916549018972160/6V08GQCt_normal.jpg', 'profile_link_color': '1DA1F2', 'profile_sidebar_border_color': 'C0DEED', 'profile_sidebar_fill_color': 'DDEEF6', 'profile_text_color': '333333', 'profile_use_background_image': True, 'has_extended_profile': True, 'default_profile': True, 'default_profile_image': False, 'following': False, 'follow_request_sent': False, 'notifications': False, 'translator_type': 'none'}, 'geo': None, 'coordinates': None, 'place': None, 'contributors': None, 'is_quote_status': False, 'retweet_count': 0, 'favorite_count': 0, 'favorited': False, 'retweeted': False, 'lang': 'en'}, created_at=datetime.datetime(2020, 11, 25, 12, 47, 39), id=1331580307493949441, id_str='1331580307493949441', text='@VijayIndrSingla @capt_amarinder  @DrRPNishank @ugc_india @IKGujralPTU Examinations are being started in colleges f… https://t.co/QLZ0HZ3fUn', truncated=True, entities={'hashtags': [], 'symbols': [], 'user_mentions': [{'screen_name': 'VijayIndrSingla', 'name': 'Vijay Inder Singla', 'id': 1601307042, 'id_str': '1601307042', 'indices': [0, 16]}, {'screen_name': 'capt_amarinder', 'name': 'Capt.Amarinder Singh', 'id': 263090427, 'id_str': '263090427', 'indices': [17, 32]}, {'screen_name': 'DrRPNishank', 'name': 'Dr. Ramesh Pokhriyal Nishank', 'id': 2617066206, 'id_str': '2617066206', 'indices': [34, 46]}, {'screen_name': 'ugc_india', 'name': 'UGC INDIA', 'id': 870103719290982401, 'id_str': '870103719290982401', 'indices': [47, 57]}, {'screen_name': 'IKGujralPTU', 'name': 'IKGPTU', 'id': 756388416468705280, 'id_str': '756388416468705280', 'indices': [58, 70]}], 'urls': [{'url': 'https://t.co/QLZ0HZ3fUn', 'expanded_url': 'https://twitter.com/i/web/status/1331580307493949441', 'display_url': 'twitter.com/i/web/status/1…', 'indices': [117, 140]}]}, metadata={'iso_language_code': 'en', 'result_type': 'recent'}, source='Twitter for Android', source_url='http://twitter.com/download/android', in_reply_to_status_id=None, in_reply_to_status_id_str=None, in_reply_to_user_id=1601307042, in_reply_to_user_id_str='1601307042', in_reply_to_screen_name='VijayIndrSingla', author=User(_api=<tweepy.api.API object at 0x000001D09CCCD5C8>, _json={'id': 2761094950, 'id_str': '2761094950', 'name': 'kulwinder saini', 'screen_name': 'kulwindersain28', 'location': 'Sodal Nagar, Jalandhar', 'description': '#RobertDowneyJR #SCARLETTJohnson #ChrisHemsworth #Avengers #CRICKETLOVER', 'url': None, 'entities': {'description': {'urls': []}}, 'protected': False, 'followers_count': 100, 'friends_count': 58, 'listed_count': 2, 'created_at': 'Thu Sep 04 08:23:06 +0000 2014', 'favourites_count': 8646, 'utc_offset': None, 'time_zone': None, 'geo_enabled': True, 'verified': False, 'statuses_count': 1493, 'lang': None, 'contributors_enabled': False, 'is_translator': False, 'is_translation_enabled': False, 'profile_background_color': 'C0DEED', 'profile_background_image_url': 'http://abs.twimg.com/images/themes/theme1/bg.png', 'profile_background_image_url_https': 'https://abs.twimg.com/images/themes/theme1/bg.png', 'profile_background_tile': False, 'profile_image_url': 'http://pbs.twimg.com/profile_images/1315916549018972160/6V08GQCt_normal.jpg', 'profile_image_url_https': 'https://pbs.twimg.com/profile_images/1315916549018972160/6V08GQCt_normal.jpg', 'profile_link_color': '1DA1F2', 'profile_sidebar_border_color': 'C0DEED', 'profile_sidebar_fill_color': 'DDEEF6', 'profile_text_color': '333333', 'profile_use_background_image': True, 'has_extended_profile': True, 'default_profile': True, 'default_profile_image': False, 'following': False, 'follow_request_sent': False, 'notifications': False, 'translator_type': 'none'}, id=2761094950, id_str='2761094950', name='kulwinder saini', screen_name='kulwindersain28', location='Sodal Nagar, Jalandhar', description='#RobertDowneyJR #SCARLETTJohnson #ChrisHemsworth #Avengers #CRICKETLOVER', url=None, entities={'description': {'urls': []}}, protected=False, followers_count=100, friends_count=58, listed_count=2, created_at=datetime.datetime(2014, 9, 4, 8, 23, 6), favourites_count=8646, utc_offset=None, time_zone=None, geo_enabled=True, verified=False, statuses_count=1493, lang=None, contributors_enabled=False, is_translator=False, is_translation_enabled=False, profile_background_color='C0DEED', profile_background_image_url='http://abs.twimg.com/images/themes/theme1/bg.png', profile_background_image_url_https='https://abs.twimg.com/images/themes/theme1/bg.png', profile_background_tile=False, profile_image_url='http://pbs.twimg.com/profile_images/1315916549018972160/6V08GQCt_normal.jpg', profile_image_url_https='https://pbs.twimg.com/profile_images/1315916549018972160/6V08GQCt_normal.jpg', profile_link_color='1DA1F2', profile_sidebar_border_color='C0DEED', profile_sidebar_fill_color='DDEEF6', profile_text_color='333333', profile_use_background_image=True, has_extended_profile=True, default_profile=True, default_profile_image=False, following=False, follow_request_sent=False, notifications=False, translator_type='none'), user=User(_api=<tweepy.api.API object at 0x000001D09CCCD5C8>, _json={'id': 2761094950, 'id_str': '2761094950', 'name': 'kulwinder saini', 'screen_name': 'kulwindersain28', 'location': 'Sodal Nagar, Jalandhar', 'description': '#RobertDowneyJR #SCARLETTJohnson #ChrisHemsworth #Avengers #CRICKETLOVER', 'url': None, 'entities': {'description': {'urls': []}}, 'protected': False, 'followers_count': 100, 'friends_count': 58, 'listed_count': 2, 'created_at': 'Thu Sep 04 08:23:06 +0000 2014', 'favourites_count': 8646, 'utc_offset': None, 'time_zone': None, 'geo_enabled': True, 'verified': False, 'statuses_count': 1493, 'lang': None, 'contributors_enabled': False, 'is_translator': False, 'is_translation_enabled': False, 'profile_background_color': 'C0DEED', 'profile_background_image_url': 'http://abs.twimg.com/images/themes/theme1/bg.png', 'profile_background_image_url_https': 'https://abs.twimg.com/images/themes/theme1/bg.png', 'profile_background_tile': False, 'profile_image_url': 'http://pbs.twimg.com/profile_images/1315916549018972160/6V08GQCt_normal.jpg', 'profile_image_url_https': 'https://pbs.twimg.com/profile_images/1315916549018972160/6V08GQCt_normal.jpg', 'profile_link_color': '1DA1F2', 'profile_sidebar_border_color': 'C0DEED', 'profile_sidebar_fill_color': 'DDEEF6', 'profile_text_color': '333333', 'profile_use_background_image': True, 'has_extended_profile': True, 'default_profile': True, 'default_profile_image': False, 'following': False, 'follow_request_sent': False, 'notifications': False, 'translator_type': 'none'}, id=2761094950, id_str='2761094950', name='kulwinder saini', screen_name='kulwindersain28', location='Sodal Nagar, Jalandhar', description='#RobertDowneyJR #SCARLETTJohnson #ChrisHemsworth #Avengers #CRICKETLOVER', url=None, entities={'description': {'urls': []}}, protected=False, followers_count=100, friends_count=58, listed_count=2, created_at=datetime.datetime(2014, 9, 4, 8, 23, 6), favourites_count=8646, utc_offset=None, time_zone=None, geo_enabled=True, verified=False, statuses_count=1493, lang=None, contributors_enabled=False, is_translator=False, is_translation_enabled=False, profile_background_color='C0DEED', profile_background_image_url='http://abs.twimg.com/images/themes/theme1/bg.png', profile_background_image_url_https='https://abs.twimg.com/images/themes/theme1/bg.png', profile_background_tile=False, profile_image_url='http://pbs.twimg.com/profile_images/1315916549018972160/6V08GQCt_normal.jpg', profile_image_url_https='https://pbs.twimg.com/profile_images/1315916549018972160/6V08GQCt_normal.jpg', profile_link_color='1DA1F2', profile_sidebar_border_color='C0DEED', profile_sidebar_fill_color='DDEEF6', profile_text_color='333333', profile_use_background_image=True, has_extended_profile=True, default_profile=True, default_profile_image=False, following=False, follow_request_sent=False, notifications=False, translator_type='none'), geo=None, coordinates=None, place=None, contributors=None, is_quote_status=False, retweet_count=0, favorite_count=0, favorited=False, retweeted=False, lang='en') \n",
      "\n",
      ".....................\n",
      "\n",
      "Status(_api=<tweepy.api.API object at 0x000001D09CCCD5C8>, _json={'created_at': 'Wed Nov 25 09:39:21 +0000 2020', 'id': 1331532919978876929, 'id_str': '1331532919978876929', 'text': '@makneta Hope everyone is good and safe in your family and friends.\\n\\nTerrible situation, almost same here. The seco… https://t.co/X2zAfjF3Tz', 'truncated': True, 'entities': {'hashtags': [], 'symbols': [], 'user_mentions': [{'screen_name': 'makneta', 'name': 'Magdalena', 'id': 214428917, 'id_str': '214428917', 'indices': [0, 8]}], 'urls': [{'url': 'https://t.co/X2zAfjF3Tz', 'expanded_url': 'https://twitter.com/i/web/status/1331532919978876929', 'display_url': 'twitter.com/i/web/status/1…', 'indices': [117, 140]}]}, 'metadata': {'iso_language_code': 'en', 'result_type': 'recent'}, 'source': '<a href=\"https://mobile.twitter.com\" rel=\"nofollow\">Twitter Web App</a>', 'in_reply_to_status_id': 1331507908710952960, 'in_reply_to_status_id_str': '1331507908710952960', 'in_reply_to_user_id': 214428917, 'in_reply_to_user_id_str': '214428917', 'in_reply_to_screen_name': 'makneta', 'user': {'id': 3233974567, 'id_str': '3233974567', 'name': 'Soran Singh', 'screen_name': 'SoftnetCA', 'location': 'New Delhi, India', 'description': 'Software Developer Using MS Technologies', 'url': 'https://t.co/x4O7f2fguw', 'entities': {'url': {'urls': [{'url': 'https://t.co/x4O7f2fguw', 'expanded_url': 'http://www.taruncomputers.in', 'display_url': 'taruncomputers.in', 'indices': [0, 23]}]}, 'description': {'urls': []}}, 'protected': False, 'followers_count': 56, 'friends_count': 428, 'listed_count': 1, 'created_at': 'Tue Jun 02 18:26:28 +0000 2015', 'favourites_count': 1207, 'utc_offset': None, 'time_zone': None, 'geo_enabled': False, 'verified': False, 'statuses_count': 328, 'lang': None, 'contributors_enabled': False, 'is_translator': False, 'is_translation_enabled': False, 'profile_background_color': 'C0DEED', 'profile_background_image_url': 'http://abs.twimg.com/images/themes/theme1/bg.png', 'profile_background_image_url_https': 'https://abs.twimg.com/images/themes/theme1/bg.png', 'profile_background_tile': False, 'profile_image_url': 'http://pbs.twimg.com/profile_images/801835905367449600/bEMOwqCp_normal.jpg', 'profile_image_url_https': 'https://pbs.twimg.com/profile_images/801835905367449600/bEMOwqCp_normal.jpg', 'profile_banner_url': 'https://pbs.twimg.com/profile_banners/3233974567/1480007956', 'profile_link_color': '1DA1F2', 'profile_sidebar_border_color': 'C0DEED', 'profile_sidebar_fill_color': 'DDEEF6', 'profile_text_color': '333333', 'profile_use_background_image': True, 'has_extended_profile': False, 'default_profile': True, 'default_profile_image': False, 'following': False, 'follow_request_sent': False, 'notifications': False, 'translator_type': 'none'}, 'geo': None, 'coordinates': None, 'place': None, 'contributors': None, 'is_quote_status': False, 'retweet_count': 0, 'favorite_count': 1, 'favorited': False, 'retweeted': False, 'lang': 'en'}, created_at=datetime.datetime(2020, 11, 25, 9, 39, 21), id=1331532919978876929, id_str='1331532919978876929', text='@makneta Hope everyone is good and safe in your family and friends.\\n\\nTerrible situation, almost same here. The seco… https://t.co/X2zAfjF3Tz', truncated=True, entities={'hashtags': [], 'symbols': [], 'user_mentions': [{'screen_name': 'makneta', 'name': 'Magdalena', 'id': 214428917, 'id_str': '214428917', 'indices': [0, 8]}], 'urls': [{'url': 'https://t.co/X2zAfjF3Tz', 'expanded_url': 'https://twitter.com/i/web/status/1331532919978876929', 'display_url': 'twitter.com/i/web/status/1…', 'indices': [117, 140]}]}, metadata={'iso_language_code': 'en', 'result_type': 'recent'}, source='Twitter Web App', source_url='https://mobile.twitter.com', in_reply_to_status_id=1331507908710952960, in_reply_to_status_id_str='1331507908710952960', in_reply_to_user_id=214428917, in_reply_to_user_id_str='214428917', in_reply_to_screen_name='makneta', author=User(_api=<tweepy.api.API object at 0x000001D09CCCD5C8>, _json={'id': 3233974567, 'id_str': '3233974567', 'name': 'Soran Singh', 'screen_name': 'SoftnetCA', 'location': 'New Delhi, India', 'description': 'Software Developer Using MS Technologies', 'url': 'https://t.co/x4O7f2fguw', 'entities': {'url': {'urls': [{'url': 'https://t.co/x4O7f2fguw', 'expanded_url': 'http://www.taruncomputers.in', 'display_url': 'taruncomputers.in', 'indices': [0, 23]}]}, 'description': {'urls': []}}, 'protected': False, 'followers_count': 56, 'friends_count': 428, 'listed_count': 1, 'created_at': 'Tue Jun 02 18:26:28 +0000 2015', 'favourites_count': 1207, 'utc_offset': None, 'time_zone': None, 'geo_enabled': False, 'verified': False, 'statuses_count': 328, 'lang': None, 'contributors_enabled': False, 'is_translator': False, 'is_translation_enabled': False, 'profile_background_color': 'C0DEED', 'profile_background_image_url': 'http://abs.twimg.com/images/themes/theme1/bg.png', 'profile_background_image_url_https': 'https://abs.twimg.com/images/themes/theme1/bg.png', 'profile_background_tile': False, 'profile_image_url': 'http://pbs.twimg.com/profile_images/801835905367449600/bEMOwqCp_normal.jpg', 'profile_image_url_https': 'https://pbs.twimg.com/profile_images/801835905367449600/bEMOwqCp_normal.jpg', 'profile_banner_url': 'https://pbs.twimg.com/profile_banners/3233974567/1480007956', 'profile_link_color': '1DA1F2', 'profile_sidebar_border_color': 'C0DEED', 'profile_sidebar_fill_color': 'DDEEF6', 'profile_text_color': '333333', 'profile_use_background_image': True, 'has_extended_profile': False, 'default_profile': True, 'default_profile_image': False, 'following': False, 'follow_request_sent': False, 'notifications': False, 'translator_type': 'none'}, id=3233974567, id_str='3233974567', name='Soran Singh', screen_name='SoftnetCA', location='New Delhi, India', description='Software Developer Using MS Technologies', url='https://t.co/x4O7f2fguw', entities={'url': {'urls': [{'url': 'https://t.co/x4O7f2fguw', 'expanded_url': 'http://www.taruncomputers.in', 'display_url': 'taruncomputers.in', 'indices': [0, 23]}]}, 'description': {'urls': []}}, protected=False, followers_count=56, friends_count=428, listed_count=1, created_at=datetime.datetime(2015, 6, 2, 18, 26, 28), favourites_count=1207, utc_offset=None, time_zone=None, geo_enabled=False, verified=False, statuses_count=328, lang=None, contributors_enabled=False, is_translator=False, is_translation_enabled=False, profile_background_color='C0DEED', profile_background_image_url='http://abs.twimg.com/images/themes/theme1/bg.png', profile_background_image_url_https='https://abs.twimg.com/images/themes/theme1/bg.png', profile_background_tile=False, profile_image_url='http://pbs.twimg.com/profile_images/801835905367449600/bEMOwqCp_normal.jpg', profile_image_url_https='https://pbs.twimg.com/profile_images/801835905367449600/bEMOwqCp_normal.jpg', profile_banner_url='https://pbs.twimg.com/profile_banners/3233974567/1480007956', profile_link_color='1DA1F2', profile_sidebar_border_color='C0DEED', profile_sidebar_fill_color='DDEEF6', profile_text_color='333333', profile_use_background_image=True, has_extended_profile=False, default_profile=True, default_profile_image=False, following=False, follow_request_sent=False, notifications=False, translator_type='none'), user=User(_api=<tweepy.api.API object at 0x000001D09CCCD5C8>, _json={'id': 3233974567, 'id_str': '3233974567', 'name': 'Soran Singh', 'screen_name': 'SoftnetCA', 'location': 'New Delhi, India', 'description': 'Software Developer Using MS Technologies', 'url': 'https://t.co/x4O7f2fguw', 'entities': {'url': {'urls': [{'url': 'https://t.co/x4O7f2fguw', 'expanded_url': 'http://www.taruncomputers.in', 'display_url': 'taruncomputers.in', 'indices': [0, 23]}]}, 'description': {'urls': []}}, 'protected': False, 'followers_count': 56, 'friends_count': 428, 'listed_count': 1, 'created_at': 'Tue Jun 02 18:26:28 +0000 2015', 'favourites_count': 1207, 'utc_offset': None, 'time_zone': None, 'geo_enabled': False, 'verified': False, 'statuses_count': 328, 'lang': None, 'contributors_enabled': False, 'is_translator': False, 'is_translation_enabled': False, 'profile_background_color': 'C0DEED', 'profile_background_image_url': 'http://abs.twimg.com/images/themes/theme1/bg.png', 'profile_background_image_url_https': 'https://abs.twimg.com/images/themes/theme1/bg.png', 'profile_background_tile': False, 'profile_image_url': 'http://pbs.twimg.com/profile_images/801835905367449600/bEMOwqCp_normal.jpg', 'profile_image_url_https': 'https://pbs.twimg.com/profile_images/801835905367449600/bEMOwqCp_normal.jpg', 'profile_banner_url': 'https://pbs.twimg.com/profile_banners/3233974567/1480007956', 'profile_link_color': '1DA1F2', 'profile_sidebar_border_color': 'C0DEED', 'profile_sidebar_fill_color': 'DDEEF6', 'profile_text_color': '333333', 'profile_use_background_image': True, 'has_extended_profile': False, 'default_profile': True, 'default_profile_image': False, 'following': False, 'follow_request_sent': False, 'notifications': False, 'translator_type': 'none'}, id=3233974567, id_str='3233974567', name='Soran Singh', screen_name='SoftnetCA', location='New Delhi, India', description='Software Developer Using MS Technologies', url='https://t.co/x4O7f2fguw', entities={'url': {'urls': [{'url': 'https://t.co/x4O7f2fguw', 'expanded_url': 'http://www.taruncomputers.in', 'display_url': 'taruncomputers.in', 'indices': [0, 23]}]}, 'description': {'urls': []}}, protected=False, followers_count=56, friends_count=428, listed_count=1, created_at=datetime.datetime(2015, 6, 2, 18, 26, 28), favourites_count=1207, utc_offset=None, time_zone=None, geo_enabled=False, verified=False, statuses_count=328, lang=None, contributors_enabled=False, is_translator=False, is_translation_enabled=False, profile_background_color='C0DEED', profile_background_image_url='http://abs.twimg.com/images/themes/theme1/bg.png', profile_background_image_url_https='https://abs.twimg.com/images/themes/theme1/bg.png', profile_background_tile=False, profile_image_url='http://pbs.twimg.com/profile_images/801835905367449600/bEMOwqCp_normal.jpg', profile_image_url_https='https://pbs.twimg.com/profile_images/801835905367449600/bEMOwqCp_normal.jpg', profile_banner_url='https://pbs.twimg.com/profile_banners/3233974567/1480007956', profile_link_color='1DA1F2', profile_sidebar_border_color='C0DEED', profile_sidebar_fill_color='DDEEF6', profile_text_color='333333', profile_use_background_image=True, has_extended_profile=False, default_profile=True, default_profile_image=False, following=False, follow_request_sent=False, notifications=False, translator_type='none'), geo=None, coordinates=None, place=None, contributors=None, is_quote_status=False, retweet_count=0, favorite_count=1, favorited=False, retweeted=False, lang='en') \n",
      "\n",
      ".....................\n",
      "\n",
      "Status(_api=<tweepy.api.API object at 0x000001D09CCCD5C8>, _json={'created_at': 'Wed Nov 25 07:36:59 +0000 2020', 'id': 1331502126351089664, 'id_str': '1331502126351089664', 'text': 'Corona Second Wave in India| Corona vaccine 😝😂\\n#Corona \\n#COVIDSecondWave\\n#CoronaVaccine https://t.co/7WpR2D6UDV', 'truncated': False, 'entities': {'hashtags': [{'text': 'Corona', 'indices': [47, 54]}, {'text': 'COVIDSecondWave', 'indices': [56, 72]}, {'text': 'CoronaVaccine', 'indices': [73, 87]}], 'symbols': [], 'user_mentions': [], 'urls': [], 'media': [{'id': 1331501885493153794, 'id_str': '1331501885493153794', 'indices': [88, 111], 'media_url': 'http://pbs.twimg.com/ext_tw_video_thumb/1331501885493153794/pu/img/hFmCfzdzXUMQND6b.jpg', 'media_url_https': 'https://pbs.twimg.com/ext_tw_video_thumb/1331501885493153794/pu/img/hFmCfzdzXUMQND6b.jpg', 'url': 'https://t.co/7WpR2D6UDV', 'display_url': 'pic.twitter.com/7WpR2D6UDV', 'expanded_url': 'https://twitter.com/drowsydhruv/status/1331502126351089664/video/1', 'type': 'photo', 'sizes': {'medium': {'w': 640, 'h': 640, 'resize': 'fit'}, 'thumb': {'w': 150, 'h': 150, 'resize': 'crop'}, 'large': {'w': 640, 'h': 640, 'resize': 'fit'}, 'small': {'w': 640, 'h': 640, 'resize': 'fit'}}}]}, 'extended_entities': {'media': [{'id': 1331501885493153794, 'id_str': '1331501885493153794', 'indices': [88, 111], 'media_url': 'http://pbs.twimg.com/ext_tw_video_thumb/1331501885493153794/pu/img/hFmCfzdzXUMQND6b.jpg', 'media_url_https': 'https://pbs.twimg.com/ext_tw_video_thumb/1331501885493153794/pu/img/hFmCfzdzXUMQND6b.jpg', 'url': 'https://t.co/7WpR2D6UDV', 'display_url': 'pic.twitter.com/7WpR2D6UDV', 'expanded_url': 'https://twitter.com/drowsydhruv/status/1331502126351089664/video/1', 'type': 'video', 'sizes': {'medium': {'w': 640, 'h': 640, 'resize': 'fit'}, 'thumb': {'w': 150, 'h': 150, 'resize': 'crop'}, 'large': {'w': 640, 'h': 640, 'resize': 'fit'}, 'small': {'w': 640, 'h': 640, 'resize': 'fit'}}, 'video_info': {'aspect_ratio': [1, 1], 'duration_millis': 40418, 'variants': [{'bitrate': 1280000, 'content_type': 'video/mp4', 'url': 'https://video.twimg.com/ext_tw_video/1331501885493153794/pu/vid/640x640/ZKhTw4bRnb9c2JDC.mp4?tag=10'}, {'bitrate': 832000, 'content_type': 'video/mp4', 'url': 'https://video.twimg.com/ext_tw_video/1331501885493153794/pu/vid/480x480/mfWkczdb6UDtMT1v.mp4?tag=10'}, {'content_type': 'application/x-mpegURL', 'url': 'https://video.twimg.com/ext_tw_video/1331501885493153794/pu/pl/81qsHrvqp2bH6Fmn.m3u8?tag=10'}, {'bitrate': 432000, 'content_type': 'video/mp4', 'url': 'https://video.twimg.com/ext_tw_video/1331501885493153794/pu/vid/320x320/08nWPxzpcMpOxwL0.mp4?tag=10'}]}, 'additional_media_info': {'monetizable': False}}]}, 'metadata': {'iso_language_code': 'it', 'result_type': 'recent'}, 'source': '<a href=\"http://twitter.com/download/android\" rel=\"nofollow\">Twitter for Android</a>', 'in_reply_to_status_id': None, 'in_reply_to_status_id_str': None, 'in_reply_to_user_id': None, 'in_reply_to_user_id_str': None, 'in_reply_to_screen_name': None, 'user': {'id': 1955891238, 'id_str': '1955891238', 'name': 'Drowsy Dhruv', 'screen_name': 'drowsydhruv', 'location': '', 'description': 'Follow me for daily news videos in comic way.\\nAnd do subscribe my you tube channel thanks in advance', 'url': 'https://t.co/bWqxJL8hQt', 'entities': {'url': {'urls': [{'url': 'https://t.co/bWqxJL8hQt', 'expanded_url': 'https://www.youtube.com/channel/UC6GMYu1YKHmteqofj-BoPhw', 'display_url': 'youtube.com/channel/UC6GMY…', 'indices': [0, 23]}]}, 'description': {'urls': []}}, 'protected': False, 'followers_count': 20, 'friends_count': 9, 'listed_count': 0, 'created_at': 'Sat Oct 12 06:28:13 +0000 2013', 'favourites_count': 33, 'utc_offset': None, 'time_zone': None, 'geo_enabled': False, 'verified': False, 'statuses_count': 325, 'lang': None, 'contributors_enabled': False, 'is_translator': False, 'is_translation_enabled': False, 'profile_background_color': 'C0DEED', 'profile_background_image_url': 'http://abs.twimg.com/images/themes/theme1/bg.png', 'profile_background_image_url_https': 'https://abs.twimg.com/images/themes/theme1/bg.png', 'profile_background_tile': False, 'profile_image_url': 'http://pbs.twimg.com/profile_images/1309090600747229187/kVRFYq_2_normal.jpg', 'profile_image_url_https': 'https://pbs.twimg.com/profile_images/1309090600747229187/kVRFYq_2_normal.jpg', 'profile_banner_url': 'https://pbs.twimg.com/profile_banners/1955891238/1600946494', 'profile_link_color': '1DA1F2', 'profile_sidebar_border_color': 'C0DEED', 'profile_sidebar_fill_color': 'DDEEF6', 'profile_text_color': '333333', 'profile_use_background_image': True, 'has_extended_profile': False, 'default_profile': True, 'default_profile_image': False, 'following': False, 'follow_request_sent': False, 'notifications': False, 'translator_type': 'none'}, 'geo': None, 'coordinates': None, 'place': None, 'contributors': None, 'is_quote_status': False, 'retweet_count': 0, 'favorite_count': 0, 'favorited': False, 'retweeted': False, 'possibly_sensitive': False, 'lang': 'it'}, created_at=datetime.datetime(2020, 11, 25, 7, 36, 59), id=1331502126351089664, id_str='1331502126351089664', text='Corona Second Wave in India| Corona vaccine 😝😂\\n#Corona \\n#COVIDSecondWave\\n#CoronaVaccine https://t.co/7WpR2D6UDV', truncated=False, entities={'hashtags': [{'text': 'Corona', 'indices': [47, 54]}, {'text': 'COVIDSecondWave', 'indices': [56, 72]}, {'text': 'CoronaVaccine', 'indices': [73, 87]}], 'symbols': [], 'user_mentions': [], 'urls': [], 'media': [{'id': 1331501885493153794, 'id_str': '1331501885493153794', 'indices': [88, 111], 'media_url': 'http://pbs.twimg.com/ext_tw_video_thumb/1331501885493153794/pu/img/hFmCfzdzXUMQND6b.jpg', 'media_url_https': 'https://pbs.twimg.com/ext_tw_video_thumb/1331501885493153794/pu/img/hFmCfzdzXUMQND6b.jpg', 'url': 'https://t.co/7WpR2D6UDV', 'display_url': 'pic.twitter.com/7WpR2D6UDV', 'expanded_url': 'https://twitter.com/drowsydhruv/status/1331502126351089664/video/1', 'type': 'photo', 'sizes': {'medium': {'w': 640, 'h': 640, 'resize': 'fit'}, 'thumb': {'w': 150, 'h': 150, 'resize': 'crop'}, 'large': {'w': 640, 'h': 640, 'resize': 'fit'}, 'small': {'w': 640, 'h': 640, 'resize': 'fit'}}}]}, extended_entities={'media': [{'id': 1331501885493153794, 'id_str': '1331501885493153794', 'indices': [88, 111], 'media_url': 'http://pbs.twimg.com/ext_tw_video_thumb/1331501885493153794/pu/img/hFmCfzdzXUMQND6b.jpg', 'media_url_https': 'https://pbs.twimg.com/ext_tw_video_thumb/1331501885493153794/pu/img/hFmCfzdzXUMQND6b.jpg', 'url': 'https://t.co/7WpR2D6UDV', 'display_url': 'pic.twitter.com/7WpR2D6UDV', 'expanded_url': 'https://twitter.com/drowsydhruv/status/1331502126351089664/video/1', 'type': 'video', 'sizes': {'medium': {'w': 640, 'h': 640, 'resize': 'fit'}, 'thumb': {'w': 150, 'h': 150, 'resize': 'crop'}, 'large': {'w': 640, 'h': 640, 'resize': 'fit'}, 'small': {'w': 640, 'h': 640, 'resize': 'fit'}}, 'video_info': {'aspect_ratio': [1, 1], 'duration_millis': 40418, 'variants': [{'bitrate': 1280000, 'content_type': 'video/mp4', 'url': 'https://video.twimg.com/ext_tw_video/1331501885493153794/pu/vid/640x640/ZKhTw4bRnb9c2JDC.mp4?tag=10'}, {'bitrate': 832000, 'content_type': 'video/mp4', 'url': 'https://video.twimg.com/ext_tw_video/1331501885493153794/pu/vid/480x480/mfWkczdb6UDtMT1v.mp4?tag=10'}, {'content_type': 'application/x-mpegURL', 'url': 'https://video.twimg.com/ext_tw_video/1331501885493153794/pu/pl/81qsHrvqp2bH6Fmn.m3u8?tag=10'}, {'bitrate': 432000, 'content_type': 'video/mp4', 'url': 'https://video.twimg.com/ext_tw_video/1331501885493153794/pu/vid/320x320/08nWPxzpcMpOxwL0.mp4?tag=10'}]}, 'additional_media_info': {'monetizable': False}}]}, metadata={'iso_language_code': 'it', 'result_type': 'recent'}, source='Twitter for Android', source_url='http://twitter.com/download/android', in_reply_to_status_id=None, in_reply_to_status_id_str=None, in_reply_to_user_id=None, in_reply_to_user_id_str=None, in_reply_to_screen_name=None, author=User(_api=<tweepy.api.API object at 0x000001D09CCCD5C8>, _json={'id': 1955891238, 'id_str': '1955891238', 'name': 'Drowsy Dhruv', 'screen_name': 'drowsydhruv', 'location': '', 'description': 'Follow me for daily news videos in comic way.\\nAnd do subscribe my you tube channel thanks in advance', 'url': 'https://t.co/bWqxJL8hQt', 'entities': {'url': {'urls': [{'url': 'https://t.co/bWqxJL8hQt', 'expanded_url': 'https://www.youtube.com/channel/UC6GMYu1YKHmteqofj-BoPhw', 'display_url': 'youtube.com/channel/UC6GMY…', 'indices': [0, 23]}]}, 'description': {'urls': []}}, 'protected': False, 'followers_count': 20, 'friends_count': 9, 'listed_count': 0, 'created_at': 'Sat Oct 12 06:28:13 +0000 2013', 'favourites_count': 33, 'utc_offset': None, 'time_zone': None, 'geo_enabled': False, 'verified': False, 'statuses_count': 325, 'lang': None, 'contributors_enabled': False, 'is_translator': False, 'is_translation_enabled': False, 'profile_background_color': 'C0DEED', 'profile_background_image_url': 'http://abs.twimg.com/images/themes/theme1/bg.png', 'profile_background_image_url_https': 'https://abs.twimg.com/images/themes/theme1/bg.png', 'profile_background_tile': False, 'profile_image_url': 'http://pbs.twimg.com/profile_images/1309090600747229187/kVRFYq_2_normal.jpg', 'profile_image_url_https': 'https://pbs.twimg.com/profile_images/1309090600747229187/kVRFYq_2_normal.jpg', 'profile_banner_url': 'https://pbs.twimg.com/profile_banners/1955891238/1600946494', 'profile_link_color': '1DA1F2', 'profile_sidebar_border_color': 'C0DEED', 'profile_sidebar_fill_color': 'DDEEF6', 'profile_text_color': '333333', 'profile_use_background_image': True, 'has_extended_profile': False, 'default_profile': True, 'default_profile_image': False, 'following': False, 'follow_request_sent': False, 'notifications': False, 'translator_type': 'none'}, id=1955891238, id_str='1955891238', name='Drowsy Dhruv', screen_name='drowsydhruv', location='', description='Follow me for daily news videos in comic way.\\nAnd do subscribe my you tube channel thanks in advance', url='https://t.co/bWqxJL8hQt', entities={'url': {'urls': [{'url': 'https://t.co/bWqxJL8hQt', 'expanded_url': 'https://www.youtube.com/channel/UC6GMYu1YKHmteqofj-BoPhw', 'display_url': 'youtube.com/channel/UC6GMY…', 'indices': [0, 23]}]}, 'description': {'urls': []}}, protected=False, followers_count=20, friends_count=9, listed_count=0, created_at=datetime.datetime(2013, 10, 12, 6, 28, 13), favourites_count=33, utc_offset=None, time_zone=None, geo_enabled=False, verified=False, statuses_count=325, lang=None, contributors_enabled=False, is_translator=False, is_translation_enabled=False, profile_background_color='C0DEED', profile_background_image_url='http://abs.twimg.com/images/themes/theme1/bg.png', profile_background_image_url_https='https://abs.twimg.com/images/themes/theme1/bg.png', profile_background_tile=False, profile_image_url='http://pbs.twimg.com/profile_images/1309090600747229187/kVRFYq_2_normal.jpg', profile_image_url_https='https://pbs.twimg.com/profile_images/1309090600747229187/kVRFYq_2_normal.jpg', profile_banner_url='https://pbs.twimg.com/profile_banners/1955891238/1600946494', profile_link_color='1DA1F2', profile_sidebar_border_color='C0DEED', profile_sidebar_fill_color='DDEEF6', profile_text_color='333333', profile_use_background_image=True, has_extended_profile=False, default_profile=True, default_profile_image=False, following=False, follow_request_sent=False, notifications=False, translator_type='none'), user=User(_api=<tweepy.api.API object at 0x000001D09CCCD5C8>, _json={'id': 1955891238, 'id_str': '1955891238', 'name': 'Drowsy Dhruv', 'screen_name': 'drowsydhruv', 'location': '', 'description': 'Follow me for daily news videos in comic way.\\nAnd do subscribe my you tube channel thanks in advance', 'url': 'https://t.co/bWqxJL8hQt', 'entities': {'url': {'urls': [{'url': 'https://t.co/bWqxJL8hQt', 'expanded_url': 'https://www.youtube.com/channel/UC6GMYu1YKHmteqofj-BoPhw', 'display_url': 'youtube.com/channel/UC6GMY…', 'indices': [0, 23]}]}, 'description': {'urls': []}}, 'protected': False, 'followers_count': 20, 'friends_count': 9, 'listed_count': 0, 'created_at': 'Sat Oct 12 06:28:13 +0000 2013', 'favourites_count': 33, 'utc_offset': None, 'time_zone': None, 'geo_enabled': False, 'verified': False, 'statuses_count': 325, 'lang': None, 'contributors_enabled': False, 'is_translator': False, 'is_translation_enabled': False, 'profile_background_color': 'C0DEED', 'profile_background_image_url': 'http://abs.twimg.com/images/themes/theme1/bg.png', 'profile_background_image_url_https': 'https://abs.twimg.com/images/themes/theme1/bg.png', 'profile_background_tile': False, 'profile_image_url': 'http://pbs.twimg.com/profile_images/1309090600747229187/kVRFYq_2_normal.jpg', 'profile_image_url_https': 'https://pbs.twimg.com/profile_images/1309090600747229187/kVRFYq_2_normal.jpg', 'profile_banner_url': 'https://pbs.twimg.com/profile_banners/1955891238/1600946494', 'profile_link_color': '1DA1F2', 'profile_sidebar_border_color': 'C0DEED', 'profile_sidebar_fill_color': 'DDEEF6', 'profile_text_color': '333333', 'profile_use_background_image': True, 'has_extended_profile': False, 'default_profile': True, 'default_profile_image': False, 'following': False, 'follow_request_sent': False, 'notifications': False, 'translator_type': 'none'}, id=1955891238, id_str='1955891238', name='Drowsy Dhruv', screen_name='drowsydhruv', location='', description='Follow me for daily news videos in comic way.\\nAnd do subscribe my you tube channel thanks in advance', url='https://t.co/bWqxJL8hQt', entities={'url': {'urls': [{'url': 'https://t.co/bWqxJL8hQt', 'expanded_url': 'https://www.youtube.com/channel/UC6GMYu1YKHmteqofj-BoPhw', 'display_url': 'youtube.com/channel/UC6GMY…', 'indices': [0, 23]}]}, 'description': {'urls': []}}, protected=False, followers_count=20, friends_count=9, listed_count=0, created_at=datetime.datetime(2013, 10, 12, 6, 28, 13), favourites_count=33, utc_offset=None, time_zone=None, geo_enabled=False, verified=False, statuses_count=325, lang=None, contributors_enabled=False, is_translator=False, is_translation_enabled=False, profile_background_color='C0DEED', profile_background_image_url='http://abs.twimg.com/images/themes/theme1/bg.png', profile_background_image_url_https='https://abs.twimg.com/images/themes/theme1/bg.png', profile_background_tile=False, profile_image_url='http://pbs.twimg.com/profile_images/1309090600747229187/kVRFYq_2_normal.jpg', profile_image_url_https='https://pbs.twimg.com/profile_images/1309090600747229187/kVRFYq_2_normal.jpg', profile_banner_url='https://pbs.twimg.com/profile_banners/1955891238/1600946494', profile_link_color='1DA1F2', profile_sidebar_border_color='C0DEED', profile_sidebar_fill_color='DDEEF6', profile_text_color='333333', profile_use_background_image=True, has_extended_profile=False, default_profile=True, default_profile_image=False, following=False, follow_request_sent=False, notifications=False, translator_type='none'), geo=None, coordinates=None, place=None, contributors=None, is_quote_status=False, retweet_count=0, favorite_count=0, favorited=False, retweeted=False, possibly_sensitive=False, lang='it') \n",
      "\n",
      ".....................\n",
      "\n",
      "Status(_api=<tweepy.api.API object at 0x000001D09CCCD5C8>, _json={'created_at': 'Wed Nov 25 05:11:43 +0000 2020', 'id': 1331465568084393984, 'id_str': '1331465568084393984', 'text': '@ManeezaPredicts Is there any chance of lockdown again in India because some states already struggling with Corona… https://t.co/6IPwZrniBI', 'truncated': True, 'entities': {'hashtags': [], 'symbols': [], 'user_mentions': [{'screen_name': 'ManeezaPredicts', 'name': 'Maneeza Ahuja', 'id': 1217080439157837824, 'id_str': '1217080439157837824', 'indices': [0, 16]}], 'urls': [{'url': 'https://t.co/6IPwZrniBI', 'expanded_url': 'https://twitter.com/i/web/status/1331465568084393984', 'display_url': 'twitter.com/i/web/status/1…', 'indices': [116, 139]}]}, 'metadata': {'iso_language_code': 'en', 'result_type': 'recent'}, 'source': '<a href=\"http://twitter.com/download/android\" rel=\"nofollow\">Twitter for Android</a>', 'in_reply_to_status_id': 1331213431827881988, 'in_reply_to_status_id_str': '1331213431827881988', 'in_reply_to_user_id': 1217080439157837824, 'in_reply_to_user_id_str': '1217080439157837824', 'in_reply_to_screen_name': 'ManeezaPredicts', 'user': {'id': 1309418287797735425, 'id_str': '1309418287797735425', 'name': 'Sridevi', 'screen_name': 'Sridevi75099428', 'location': '', 'description': '', 'url': None, 'entities': {'description': {'urls': []}}, 'protected': False, 'followers_count': 0, 'friends_count': 30, 'listed_count': 0, 'created_at': 'Fri Sep 25 09:03:53 +0000 2020', 'favourites_count': 1, 'utc_offset': None, 'time_zone': None, 'geo_enabled': False, 'verified': False, 'statuses_count': 5, 'lang': None, 'contributors_enabled': False, 'is_translator': False, 'is_translation_enabled': False, 'profile_background_color': 'F5F8FA', 'profile_background_image_url': None, 'profile_background_image_url_https': None, 'profile_background_tile': False, 'profile_image_url': 'http://abs.twimg.com/sticky/default_profile_images/default_profile_normal.png', 'profile_image_url_https': 'https://abs.twimg.com/sticky/default_profile_images/default_profile_normal.png', 'profile_link_color': '1DA1F2', 'profile_sidebar_border_color': 'C0DEED', 'profile_sidebar_fill_color': 'DDEEF6', 'profile_text_color': '333333', 'profile_use_background_image': True, 'has_extended_profile': True, 'default_profile': True, 'default_profile_image': True, 'following': False, 'follow_request_sent': False, 'notifications': False, 'translator_type': 'none'}, 'geo': None, 'coordinates': None, 'place': None, 'contributors': None, 'is_quote_status': False, 'retweet_count': 0, 'favorite_count': 0, 'favorited': False, 'retweeted': False, 'lang': 'en'}, created_at=datetime.datetime(2020, 11, 25, 5, 11, 43), id=1331465568084393984, id_str='1331465568084393984', text='@ManeezaPredicts Is there any chance of lockdown again in India because some states already struggling with Corona… https://t.co/6IPwZrniBI', truncated=True, entities={'hashtags': [], 'symbols': [], 'user_mentions': [{'screen_name': 'ManeezaPredicts', 'name': 'Maneeza Ahuja', 'id': 1217080439157837824, 'id_str': '1217080439157837824', 'indices': [0, 16]}], 'urls': [{'url': 'https://t.co/6IPwZrniBI', 'expanded_url': 'https://twitter.com/i/web/status/1331465568084393984', 'display_url': 'twitter.com/i/web/status/1…', 'indices': [116, 139]}]}, metadata={'iso_language_code': 'en', 'result_type': 'recent'}, source='Twitter for Android', source_url='http://twitter.com/download/android', in_reply_to_status_id=1331213431827881988, in_reply_to_status_id_str='1331213431827881988', in_reply_to_user_id=1217080439157837824, in_reply_to_user_id_str='1217080439157837824', in_reply_to_screen_name='ManeezaPredicts', author=User(_api=<tweepy.api.API object at 0x000001D09CCCD5C8>, _json={'id': 1309418287797735425, 'id_str': '1309418287797735425', 'name': 'Sridevi', 'screen_name': 'Sridevi75099428', 'location': '', 'description': '', 'url': None, 'entities': {'description': {'urls': []}}, 'protected': False, 'followers_count': 0, 'friends_count': 30, 'listed_count': 0, 'created_at': 'Fri Sep 25 09:03:53 +0000 2020', 'favourites_count': 1, 'utc_offset': None, 'time_zone': None, 'geo_enabled': False, 'verified': False, 'statuses_count': 5, 'lang': None, 'contributors_enabled': False, 'is_translator': False, 'is_translation_enabled': False, 'profile_background_color': 'F5F8FA', 'profile_background_image_url': None, 'profile_background_image_url_https': None, 'profile_background_tile': False, 'profile_image_url': 'http://abs.twimg.com/sticky/default_profile_images/default_profile_normal.png', 'profile_image_url_https': 'https://abs.twimg.com/sticky/default_profile_images/default_profile_normal.png', 'profile_link_color': '1DA1F2', 'profile_sidebar_border_color': 'C0DEED', 'profile_sidebar_fill_color': 'DDEEF6', 'profile_text_color': '333333', 'profile_use_background_image': True, 'has_extended_profile': True, 'default_profile': True, 'default_profile_image': True, 'following': False, 'follow_request_sent': False, 'notifications': False, 'translator_type': 'none'}, id=1309418287797735425, id_str='1309418287797735425', name='Sridevi', screen_name='Sridevi75099428', location='', description='', url=None, entities={'description': {'urls': []}}, protected=False, followers_count=0, friends_count=30, listed_count=0, created_at=datetime.datetime(2020, 9, 25, 9, 3, 53), favourites_count=1, utc_offset=None, time_zone=None, geo_enabled=False, verified=False, statuses_count=5, lang=None, contributors_enabled=False, is_translator=False, is_translation_enabled=False, profile_background_color='F5F8FA', profile_background_image_url=None, profile_background_image_url_https=None, profile_background_tile=False, profile_image_url='http://abs.twimg.com/sticky/default_profile_images/default_profile_normal.png', profile_image_url_https='https://abs.twimg.com/sticky/default_profile_images/default_profile_normal.png', profile_link_color='1DA1F2', profile_sidebar_border_color='C0DEED', profile_sidebar_fill_color='DDEEF6', profile_text_color='333333', profile_use_background_image=True, has_extended_profile=True, default_profile=True, default_profile_image=True, following=False, follow_request_sent=False, notifications=False, translator_type='none'), user=User(_api=<tweepy.api.API object at 0x000001D09CCCD5C8>, _json={'id': 1309418287797735425, 'id_str': '1309418287797735425', 'name': 'Sridevi', 'screen_name': 'Sridevi75099428', 'location': '', 'description': '', 'url': None, 'entities': {'description': {'urls': []}}, 'protected': False, 'followers_count': 0, 'friends_count': 30, 'listed_count': 0, 'created_at': 'Fri Sep 25 09:03:53 +0000 2020', 'favourites_count': 1, 'utc_offset': None, 'time_zone': None, 'geo_enabled': False, 'verified': False, 'statuses_count': 5, 'lang': None, 'contributors_enabled': False, 'is_translator': False, 'is_translation_enabled': False, 'profile_background_color': 'F5F8FA', 'profile_background_image_url': None, 'profile_background_image_url_https': None, 'profile_background_tile': False, 'profile_image_url': 'http://abs.twimg.com/sticky/default_profile_images/default_profile_normal.png', 'profile_image_url_https': 'https://abs.twimg.com/sticky/default_profile_images/default_profile_normal.png', 'profile_link_color': '1DA1F2', 'profile_sidebar_border_color': 'C0DEED', 'profile_sidebar_fill_color': 'DDEEF6', 'profile_text_color': '333333', 'profile_use_background_image': True, 'has_extended_profile': True, 'default_profile': True, 'default_profile_image': True, 'following': False, 'follow_request_sent': False, 'notifications': False, 'translator_type': 'none'}, id=1309418287797735425, id_str='1309418287797735425', name='Sridevi', screen_name='Sridevi75099428', location='', description='', url=None, entities={'description': {'urls': []}}, protected=False, followers_count=0, friends_count=30, listed_count=0, created_at=datetime.datetime(2020, 9, 25, 9, 3, 53), favourites_count=1, utc_offset=None, time_zone=None, geo_enabled=False, verified=False, statuses_count=5, lang=None, contributors_enabled=False, is_translator=False, is_translation_enabled=False, profile_background_color='F5F8FA', profile_background_image_url=None, profile_background_image_url_https=None, profile_background_tile=False, profile_image_url='http://abs.twimg.com/sticky/default_profile_images/default_profile_normal.png', profile_image_url_https='https://abs.twimg.com/sticky/default_profile_images/default_profile_normal.png', profile_link_color='1DA1F2', profile_sidebar_border_color='C0DEED', profile_sidebar_fill_color='DDEEF6', profile_text_color='333333', profile_use_background_image=True, has_extended_profile=True, default_profile=True, default_profile_image=True, following=False, follow_request_sent=False, notifications=False, translator_type='none'), geo=None, coordinates=None, place=None, contributors=None, is_quote_status=False, retweet_count=0, favorite_count=0, favorited=False, retweeted=False, lang='en') \n",
      "\n",
      ".....................\n",
      "\n",
      "Status(_api=<tweepy.api.API object at 0x000001D09CCCD5C8>, _json={'created_at': 'Wed Nov 25 04:41:33 +0000 2020', 'id': 1331457975937081344, 'id_str': '1331457975937081344', 'text': 'While Corona has entered into the second wave in certain countries, we in India needs to concentrate on two aspevts… https://t.co/j117BvJpLE', 'truncated': True, 'entities': {'hashtags': [], 'symbols': [], 'user_mentions': [], 'urls': [{'url': 'https://t.co/j117BvJpLE', 'expanded_url': 'https://twitter.com/i/web/status/1331457975937081344', 'display_url': 'twitter.com/i/web/status/1…', 'indices': [117, 140]}]}, 'metadata': {'iso_language_code': 'en', 'result_type': 'recent'}, 'source': '<a href=\"http://www.linkedin.com/\" rel=\"nofollow\">LinkedIn</a>', 'in_reply_to_status_id': None, 'in_reply_to_status_id_str': None, 'in_reply_to_user_id': None, 'in_reply_to_user_id_str': None, 'in_reply_to_screen_name': None, 'user': {'id': 1962509846, 'id_str': '1962509846', 'name': 'Rajesh Trivedi', 'screen_name': 'rajeshjtrivedi', 'location': 'Ahmedabad, Gujarat', 'description': 'Experts Professional in EXIM/INSURANCE Consultancy', 'url': None, 'entities': {'description': {'urls': []}}, 'protected': False, 'followers_count': 224, 'friends_count': 43, 'listed_count': 0, 'created_at': 'Tue Oct 15 11:49:26 +0000 2013', 'favourites_count': 0, 'utc_offset': None, 'time_zone': None, 'geo_enabled': False, 'verified': False, 'statuses_count': 416, 'lang': None, 'contributors_enabled': False, 'is_translator': False, 'is_translation_enabled': False, 'profile_background_color': 'C0DEED', 'profile_background_image_url': 'http://abs.twimg.com/images/themes/theme1/bg.png', 'profile_background_image_url_https': 'https://abs.twimg.com/images/themes/theme1/bg.png', 'profile_background_tile': False, 'profile_image_url': 'http://pbs.twimg.com/profile_images/378800000600073631/ea1c13d1180b35b9b3256142f9a14e26_normal.png', 'profile_image_url_https': 'https://pbs.twimg.com/profile_images/378800000600073631/ea1c13d1180b35b9b3256142f9a14e26_normal.png', 'profile_banner_url': 'https://pbs.twimg.com/profile_banners/1962509846/1381839737', 'profile_link_color': '1DA1F2', 'profile_sidebar_border_color': 'C0DEED', 'profile_sidebar_fill_color': 'DDEEF6', 'profile_text_color': '333333', 'profile_use_background_image': True, 'has_extended_profile': False, 'default_profile': True, 'default_profile_image': False, 'following': False, 'follow_request_sent': False, 'notifications': False, 'translator_type': 'none'}, 'geo': None, 'coordinates': None, 'place': None, 'contributors': None, 'is_quote_status': False, 'retweet_count': 0, 'favorite_count': 0, 'favorited': False, 'retweeted': False, 'possibly_sensitive': False, 'lang': 'en'}, created_at=datetime.datetime(2020, 11, 25, 4, 41, 33), id=1331457975937081344, id_str='1331457975937081344', text='While Corona has entered into the second wave in certain countries, we in India needs to concentrate on two aspevts… https://t.co/j117BvJpLE', truncated=True, entities={'hashtags': [], 'symbols': [], 'user_mentions': [], 'urls': [{'url': 'https://t.co/j117BvJpLE', 'expanded_url': 'https://twitter.com/i/web/status/1331457975937081344', 'display_url': 'twitter.com/i/web/status/1…', 'indices': [117, 140]}]}, metadata={'iso_language_code': 'en', 'result_type': 'recent'}, source='LinkedIn', source_url='http://www.linkedin.com/', in_reply_to_status_id=None, in_reply_to_status_id_str=None, in_reply_to_user_id=None, in_reply_to_user_id_str=None, in_reply_to_screen_name=None, author=User(_api=<tweepy.api.API object at 0x000001D09CCCD5C8>, _json={'id': 1962509846, 'id_str': '1962509846', 'name': 'Rajesh Trivedi', 'screen_name': 'rajeshjtrivedi', 'location': 'Ahmedabad, Gujarat', 'description': 'Experts Professional in EXIM/INSURANCE Consultancy', 'url': None, 'entities': {'description': {'urls': []}}, 'protected': False, 'followers_count': 224, 'friends_count': 43, 'listed_count': 0, 'created_at': 'Tue Oct 15 11:49:26 +0000 2013', 'favourites_count': 0, 'utc_offset': None, 'time_zone': None, 'geo_enabled': False, 'verified': False, 'statuses_count': 416, 'lang': None, 'contributors_enabled': False, 'is_translator': False, 'is_translation_enabled': False, 'profile_background_color': 'C0DEED', 'profile_background_image_url': 'http://abs.twimg.com/images/themes/theme1/bg.png', 'profile_background_image_url_https': 'https://abs.twimg.com/images/themes/theme1/bg.png', 'profile_background_tile': False, 'profile_image_url': 'http://pbs.twimg.com/profile_images/378800000600073631/ea1c13d1180b35b9b3256142f9a14e26_normal.png', 'profile_image_url_https': 'https://pbs.twimg.com/profile_images/378800000600073631/ea1c13d1180b35b9b3256142f9a14e26_normal.png', 'profile_banner_url': 'https://pbs.twimg.com/profile_banners/1962509846/1381839737', 'profile_link_color': '1DA1F2', 'profile_sidebar_border_color': 'C0DEED', 'profile_sidebar_fill_color': 'DDEEF6', 'profile_text_color': '333333', 'profile_use_background_image': True, 'has_extended_profile': False, 'default_profile': True, 'default_profile_image': False, 'following': False, 'follow_request_sent': False, 'notifications': False, 'translator_type': 'none'}, id=1962509846, id_str='1962509846', name='Rajesh Trivedi', screen_name='rajeshjtrivedi', location='Ahmedabad, Gujarat', description='Experts Professional in EXIM/INSURANCE Consultancy', url=None, entities={'description': {'urls': []}}, protected=False, followers_count=224, friends_count=43, listed_count=0, created_at=datetime.datetime(2013, 10, 15, 11, 49, 26), favourites_count=0, utc_offset=None, time_zone=None, geo_enabled=False, verified=False, statuses_count=416, lang=None, contributors_enabled=False, is_translator=False, is_translation_enabled=False, profile_background_color='C0DEED', profile_background_image_url='http://abs.twimg.com/images/themes/theme1/bg.png', profile_background_image_url_https='https://abs.twimg.com/images/themes/theme1/bg.png', profile_background_tile=False, profile_image_url='http://pbs.twimg.com/profile_images/378800000600073631/ea1c13d1180b35b9b3256142f9a14e26_normal.png', profile_image_url_https='https://pbs.twimg.com/profile_images/378800000600073631/ea1c13d1180b35b9b3256142f9a14e26_normal.png', profile_banner_url='https://pbs.twimg.com/profile_banners/1962509846/1381839737', profile_link_color='1DA1F2', profile_sidebar_border_color='C0DEED', profile_sidebar_fill_color='DDEEF6', profile_text_color='333333', profile_use_background_image=True, has_extended_profile=False, default_profile=True, default_profile_image=False, following=False, follow_request_sent=False, notifications=False, translator_type='none'), user=User(_api=<tweepy.api.API object at 0x000001D09CCCD5C8>, _json={'id': 1962509846, 'id_str': '1962509846', 'name': 'Rajesh Trivedi', 'screen_name': 'rajeshjtrivedi', 'location': 'Ahmedabad, Gujarat', 'description': 'Experts Professional in EXIM/INSURANCE Consultancy', 'url': None, 'entities': {'description': {'urls': []}}, 'protected': False, 'followers_count': 224, 'friends_count': 43, 'listed_count': 0, 'created_at': 'Tue Oct 15 11:49:26 +0000 2013', 'favourites_count': 0, 'utc_offset': None, 'time_zone': None, 'geo_enabled': False, 'verified': False, 'statuses_count': 416, 'lang': None, 'contributors_enabled': False, 'is_translator': False, 'is_translation_enabled': False, 'profile_background_color': 'C0DEED', 'profile_background_image_url': 'http://abs.twimg.com/images/themes/theme1/bg.png', 'profile_background_image_url_https': 'https://abs.twimg.com/images/themes/theme1/bg.png', 'profile_background_tile': False, 'profile_image_url': 'http://pbs.twimg.com/profile_images/378800000600073631/ea1c13d1180b35b9b3256142f9a14e26_normal.png', 'profile_image_url_https': 'https://pbs.twimg.com/profile_images/378800000600073631/ea1c13d1180b35b9b3256142f9a14e26_normal.png', 'profile_banner_url': 'https://pbs.twimg.com/profile_banners/1962509846/1381839737', 'profile_link_color': '1DA1F2', 'profile_sidebar_border_color': 'C0DEED', 'profile_sidebar_fill_color': 'DDEEF6', 'profile_text_color': '333333', 'profile_use_background_image': True, 'has_extended_profile': False, 'default_profile': True, 'default_profile_image': False, 'following': False, 'follow_request_sent': False, 'notifications': False, 'translator_type': 'none'}, id=1962509846, id_str='1962509846', name='Rajesh Trivedi', screen_name='rajeshjtrivedi', location='Ahmedabad, Gujarat', description='Experts Professional in EXIM/INSURANCE Consultancy', url=None, entities={'description': {'urls': []}}, protected=False, followers_count=224, friends_count=43, listed_count=0, created_at=datetime.datetime(2013, 10, 15, 11, 49, 26), favourites_count=0, utc_offset=None, time_zone=None, geo_enabled=False, verified=False, statuses_count=416, lang=None, contributors_enabled=False, is_translator=False, is_translation_enabled=False, profile_background_color='C0DEED', profile_background_image_url='http://abs.twimg.com/images/themes/theme1/bg.png', profile_background_image_url_https='https://abs.twimg.com/images/themes/theme1/bg.png', profile_background_tile=False, profile_image_url='http://pbs.twimg.com/profile_images/378800000600073631/ea1c13d1180b35b9b3256142f9a14e26_normal.png', profile_image_url_https='https://pbs.twimg.com/profile_images/378800000600073631/ea1c13d1180b35b9b3256142f9a14e26_normal.png', profile_banner_url='https://pbs.twimg.com/profile_banners/1962509846/1381839737', profile_link_color='1DA1F2', profile_sidebar_border_color='C0DEED', profile_sidebar_fill_color='DDEEF6', profile_text_color='333333', profile_use_background_image=True, has_extended_profile=False, default_profile=True, default_profile_image=False, following=False, follow_request_sent=False, notifications=False, translator_type='none'), geo=None, coordinates=None, place=None, contributors=None, is_quote_status=False, retweet_count=0, favorite_count=0, favorited=False, retweeted=False, possibly_sensitive=False, lang='en') \n",
      "\n",
      ".....................\n",
      "\n",
      "Status(_api=<tweepy.api.API object at 0x000001D09CCCD5C8>, _json={'created_at': 'Wed Nov 25 04:34:22 +0000 2020', 'id': 1331456167076265985, 'id_str': '1331456167076265985', 'text': '#CoronavirusOutbreak #LIVE : पिछले 24 घंटे में देश में कोरोना के 44376 नये मामले..\\n#COVID19 #COVIDSecondWave… https://t.co/hSng5zNt84', 'truncated': True, 'entities': {'hashtags': [{'text': 'CoronavirusOutbreak', 'indices': [0, 20]}, {'text': 'LIVE', 'indices': [21, 26]}, {'text': 'COVID19', 'indices': [83, 91]}, {'text': 'COVIDSecondWave', 'indices': [92, 108]}], 'symbols': [], 'user_mentions': [], 'urls': [{'url': 'https://t.co/hSng5zNt84', 'expanded_url': 'https://twitter.com/i/web/status/1331456167076265985', 'display_url': 'twitter.com/i/web/status/1…', 'indices': [110, 133]}]}, 'metadata': {'iso_language_code': 'hi', 'result_type': 'recent'}, 'source': '<a href=\"https://mobile.twitter.com\" rel=\"nofollow\">Twitter Web App</a>', 'in_reply_to_status_id': None, 'in_reply_to_status_id_str': None, 'in_reply_to_user_id': None, 'in_reply_to_user_id_str': None, 'in_reply_to_screen_name': None, 'user': {'id': 2354323903, 'id_str': '2354323903', 'name': 'Prabhat Khabar', 'screen_name': 'prabhatkhabar', 'location': 'India', 'description': 'Welcome to the Official Twitter page of Largest read Hindi News Daily. India · https://t.co/bBBEdytIrU\\nJoin our channel on Telegram: https://t.co/AI6JHaHSwf', 'url': 'http://t.co/ljmsAO5U08', 'entities': {'url': {'urls': [{'url': 'http://t.co/ljmsAO5U08', 'expanded_url': 'http://www.prabhatkhabar.com/', 'display_url': 'prabhatkhabar.com', 'indices': [0, 22]}]}, 'description': {'urls': [{'url': 'https://t.co/bBBEdytIrU', 'expanded_url': 'http://prabhatkhabar.com', 'display_url': 'prabhatkhabar.com', 'indices': [79, 102]}, {'url': 'https://t.co/AI6JHaHSwf', 'expanded_url': 'http://t.me/prabhatkhabarofficial', 'display_url': 't.me/prabhatkhabaro…', 'indices': [133, 156]}]}}, 'protected': False, 'followers_count': 131458, 'friends_count': 454, 'listed_count': 120, 'created_at': 'Fri Feb 21 05:57:07 +0000 2014', 'favourites_count': 790, 'utc_offset': None, 'time_zone': None, 'geo_enabled': True, 'verified': True, 'statuses_count': 67434, 'lang': None, 'contributors_enabled': False, 'is_translator': False, 'is_translation_enabled': False, 'profile_background_color': 'F5FAFA', 'profile_background_image_url': 'http://abs.twimg.com/images/themes/theme1/bg.png', 'profile_background_image_url_https': 'https://abs.twimg.com/images/themes/theme1/bg.png', 'profile_background_tile': False, 'profile_image_url': 'http://pbs.twimg.com/profile_images/1213034004062056448/hqWCPg7M_normal.jpg', 'profile_image_url_https': 'https://pbs.twimg.com/profile_images/1213034004062056448/hqWCPg7M_normal.jpg', 'profile_banner_url': 'https://pbs.twimg.com/profile_banners/2354323903/1594710399', 'profile_link_color': '0084B4', 'profile_sidebar_border_color': 'FFFFFF', 'profile_sidebar_fill_color': 'DDEEF6', 'profile_text_color': '333333', 'profile_use_background_image': False, 'has_extended_profile': True, 'default_profile': False, 'default_profile_image': False, 'following': False, 'follow_request_sent': False, 'notifications': False, 'translator_type': 'none'}, 'geo': None, 'coordinates': None, 'place': None, 'contributors': None, 'is_quote_status': False, 'retweet_count': 0, 'favorite_count': 0, 'favorited': False, 'retweeted': False, 'possibly_sensitive': False, 'lang': 'hi'}, created_at=datetime.datetime(2020, 11, 25, 4, 34, 22), id=1331456167076265985, id_str='1331456167076265985', text='#CoronavirusOutbreak #LIVE : पिछले 24 घंटे में देश में कोरोना के 44376 नये मामले..\\n#COVID19 #COVIDSecondWave… https://t.co/hSng5zNt84', truncated=True, entities={'hashtags': [{'text': 'CoronavirusOutbreak', 'indices': [0, 20]}, {'text': 'LIVE', 'indices': [21, 26]}, {'text': 'COVID19', 'indices': [83, 91]}, {'text': 'COVIDSecondWave', 'indices': [92, 108]}], 'symbols': [], 'user_mentions': [], 'urls': [{'url': 'https://t.co/hSng5zNt84', 'expanded_url': 'https://twitter.com/i/web/status/1331456167076265985', 'display_url': 'twitter.com/i/web/status/1…', 'indices': [110, 133]}]}, metadata={'iso_language_code': 'hi', 'result_type': 'recent'}, source='Twitter Web App', source_url='https://mobile.twitter.com', in_reply_to_status_id=None, in_reply_to_status_id_str=None, in_reply_to_user_id=None, in_reply_to_user_id_str=None, in_reply_to_screen_name=None, author=User(_api=<tweepy.api.API object at 0x000001D09CCCD5C8>, _json={'id': 2354323903, 'id_str': '2354323903', 'name': 'Prabhat Khabar', 'screen_name': 'prabhatkhabar', 'location': 'India', 'description': 'Welcome to the Official Twitter page of Largest read Hindi News Daily. India · https://t.co/bBBEdytIrU\\nJoin our channel on Telegram: https://t.co/AI6JHaHSwf', 'url': 'http://t.co/ljmsAO5U08', 'entities': {'url': {'urls': [{'url': 'http://t.co/ljmsAO5U08', 'expanded_url': 'http://www.prabhatkhabar.com/', 'display_url': 'prabhatkhabar.com', 'indices': [0, 22]}]}, 'description': {'urls': [{'url': 'https://t.co/bBBEdytIrU', 'expanded_url': 'http://prabhatkhabar.com', 'display_url': 'prabhatkhabar.com', 'indices': [79, 102]}, {'url': 'https://t.co/AI6JHaHSwf', 'expanded_url': 'http://t.me/prabhatkhabarofficial', 'display_url': 't.me/prabhatkhabaro…', 'indices': [133, 156]}]}}, 'protected': False, 'followers_count': 131458, 'friends_count': 454, 'listed_count': 120, 'created_at': 'Fri Feb 21 05:57:07 +0000 2014', 'favourites_count': 790, 'utc_offset': None, 'time_zone': None, 'geo_enabled': True, 'verified': True, 'statuses_count': 67434, 'lang': None, 'contributors_enabled': False, 'is_translator': False, 'is_translation_enabled': False, 'profile_background_color': 'F5FAFA', 'profile_background_image_url': 'http://abs.twimg.com/images/themes/theme1/bg.png', 'profile_background_image_url_https': 'https://abs.twimg.com/images/themes/theme1/bg.png', 'profile_background_tile': False, 'profile_image_url': 'http://pbs.twimg.com/profile_images/1213034004062056448/hqWCPg7M_normal.jpg', 'profile_image_url_https': 'https://pbs.twimg.com/profile_images/1213034004062056448/hqWCPg7M_normal.jpg', 'profile_banner_url': 'https://pbs.twimg.com/profile_banners/2354323903/1594710399', 'profile_link_color': '0084B4', 'profile_sidebar_border_color': 'FFFFFF', 'profile_sidebar_fill_color': 'DDEEF6', 'profile_text_color': '333333', 'profile_use_background_image': False, 'has_extended_profile': True, 'default_profile': False, 'default_profile_image': False, 'following': False, 'follow_request_sent': False, 'notifications': False, 'translator_type': 'none'}, id=2354323903, id_str='2354323903', name='Prabhat Khabar', screen_name='prabhatkhabar', location='India', description='Welcome to the Official Twitter page of Largest read Hindi News Daily. India · https://t.co/bBBEdytIrU\\nJoin our channel on Telegram: https://t.co/AI6JHaHSwf', url='http://t.co/ljmsAO5U08', entities={'url': {'urls': [{'url': 'http://t.co/ljmsAO5U08', 'expanded_url': 'http://www.prabhatkhabar.com/', 'display_url': 'prabhatkhabar.com', 'indices': [0, 22]}]}, 'description': {'urls': [{'url': 'https://t.co/bBBEdytIrU', 'expanded_url': 'http://prabhatkhabar.com', 'display_url': 'prabhatkhabar.com', 'indices': [79, 102]}, {'url': 'https://t.co/AI6JHaHSwf', 'expanded_url': 'http://t.me/prabhatkhabarofficial', 'display_url': 't.me/prabhatkhabaro…', 'indices': [133, 156]}]}}, protected=False, followers_count=131458, friends_count=454, listed_count=120, created_at=datetime.datetime(2014, 2, 21, 5, 57, 7), favourites_count=790, utc_offset=None, time_zone=None, geo_enabled=True, verified=True, statuses_count=67434, lang=None, contributors_enabled=False, is_translator=False, is_translation_enabled=False, profile_background_color='F5FAFA', profile_background_image_url='http://abs.twimg.com/images/themes/theme1/bg.png', profile_background_image_url_https='https://abs.twimg.com/images/themes/theme1/bg.png', profile_background_tile=False, profile_image_url='http://pbs.twimg.com/profile_images/1213034004062056448/hqWCPg7M_normal.jpg', profile_image_url_https='https://pbs.twimg.com/profile_images/1213034004062056448/hqWCPg7M_normal.jpg', profile_banner_url='https://pbs.twimg.com/profile_banners/2354323903/1594710399', profile_link_color='0084B4', profile_sidebar_border_color='FFFFFF', profile_sidebar_fill_color='DDEEF6', profile_text_color='333333', profile_use_background_image=False, has_extended_profile=True, default_profile=False, default_profile_image=False, following=False, follow_request_sent=False, notifications=False, translator_type='none'), user=User(_api=<tweepy.api.API object at 0x000001D09CCCD5C8>, _json={'id': 2354323903, 'id_str': '2354323903', 'name': 'Prabhat Khabar', 'screen_name': 'prabhatkhabar', 'location': 'India', 'description': 'Welcome to the Official Twitter page of Largest read Hindi News Daily. India · https://t.co/bBBEdytIrU\\nJoin our channel on Telegram: https://t.co/AI6JHaHSwf', 'url': 'http://t.co/ljmsAO5U08', 'entities': {'url': {'urls': [{'url': 'http://t.co/ljmsAO5U08', 'expanded_url': 'http://www.prabhatkhabar.com/', 'display_url': 'prabhatkhabar.com', 'indices': [0, 22]}]}, 'description': {'urls': [{'url': 'https://t.co/bBBEdytIrU', 'expanded_url': 'http://prabhatkhabar.com', 'display_url': 'prabhatkhabar.com', 'indices': [79, 102]}, {'url': 'https://t.co/AI6JHaHSwf', 'expanded_url': 'http://t.me/prabhatkhabarofficial', 'display_url': 't.me/prabhatkhabaro…', 'indices': [133, 156]}]}}, 'protected': False, 'followers_count': 131458, 'friends_count': 454, 'listed_count': 120, 'created_at': 'Fri Feb 21 05:57:07 +0000 2014', 'favourites_count': 790, 'utc_offset': None, 'time_zone': None, 'geo_enabled': True, 'verified': True, 'statuses_count': 67434, 'lang': None, 'contributors_enabled': False, 'is_translator': False, 'is_translation_enabled': False, 'profile_background_color': 'F5FAFA', 'profile_background_image_url': 'http://abs.twimg.com/images/themes/theme1/bg.png', 'profile_background_image_url_https': 'https://abs.twimg.com/images/themes/theme1/bg.png', 'profile_background_tile': False, 'profile_image_url': 'http://pbs.twimg.com/profile_images/1213034004062056448/hqWCPg7M_normal.jpg', 'profile_image_url_https': 'https://pbs.twimg.com/profile_images/1213034004062056448/hqWCPg7M_normal.jpg', 'profile_banner_url': 'https://pbs.twimg.com/profile_banners/2354323903/1594710399', 'profile_link_color': '0084B4', 'profile_sidebar_border_color': 'FFFFFF', 'profile_sidebar_fill_color': 'DDEEF6', 'profile_text_color': '333333', 'profile_use_background_image': False, 'has_extended_profile': True, 'default_profile': False, 'default_profile_image': False, 'following': False, 'follow_request_sent': False, 'notifications': False, 'translator_type': 'none'}, id=2354323903, id_str='2354323903', name='Prabhat Khabar', screen_name='prabhatkhabar', location='India', description='Welcome to the Official Twitter page of Largest read Hindi News Daily. India · https://t.co/bBBEdytIrU\\nJoin our channel on Telegram: https://t.co/AI6JHaHSwf', url='http://t.co/ljmsAO5U08', entities={'url': {'urls': [{'url': 'http://t.co/ljmsAO5U08', 'expanded_url': 'http://www.prabhatkhabar.com/', 'display_url': 'prabhatkhabar.com', 'indices': [0, 22]}]}, 'description': {'urls': [{'url': 'https://t.co/bBBEdytIrU', 'expanded_url': 'http://prabhatkhabar.com', 'display_url': 'prabhatkhabar.com', 'indices': [79, 102]}, {'url': 'https://t.co/AI6JHaHSwf', 'expanded_url': 'http://t.me/prabhatkhabarofficial', 'display_url': 't.me/prabhatkhabaro…', 'indices': [133, 156]}]}}, protected=False, followers_count=131458, friends_count=454, listed_count=120, created_at=datetime.datetime(2014, 2, 21, 5, 57, 7), favourites_count=790, utc_offset=None, time_zone=None, geo_enabled=True, verified=True, statuses_count=67434, lang=None, contributors_enabled=False, is_translator=False, is_translation_enabled=False, profile_background_color='F5FAFA', profile_background_image_url='http://abs.twimg.com/images/themes/theme1/bg.png', profile_background_image_url_https='https://abs.twimg.com/images/themes/theme1/bg.png', profile_background_tile=False, profile_image_url='http://pbs.twimg.com/profile_images/1213034004062056448/hqWCPg7M_normal.jpg', profile_image_url_https='https://pbs.twimg.com/profile_images/1213034004062056448/hqWCPg7M_normal.jpg', profile_banner_url='https://pbs.twimg.com/profile_banners/2354323903/1594710399', profile_link_color='0084B4', profile_sidebar_border_color='FFFFFF', profile_sidebar_fill_color='DDEEF6', profile_text_color='333333', profile_use_background_image=False, has_extended_profile=True, default_profile=False, default_profile_image=False, following=False, follow_request_sent=False, notifications=False, translator_type='none'), geo=None, coordinates=None, place=None, contributors=None, is_quote_status=False, retweet_count=0, favorite_count=0, favorited=False, retweeted=False, possibly_sensitive=False, lang='hi') \n",
      "\n",
      ".....................\n",
      "\n",
      "Status(_api=<tweepy.api.API object at 0x000001D09CCCD5C8>, _json={'created_at': 'Tue Nov 24 11:30:18 +0000 2020', 'id': 1331198451917340674, 'id_str': '1331198451917340674', 'text': 'स्वास्थ्य मंत्री रघु शर्मा ने कहा कि राज्य में कोरोनोवायरस की दूसरी लहर\\xa0देखी जा रही है।\\n@RaghusharmaINC… https://t.co/Wm6Xon2iKR', 'truncated': True, 'entities': {'hashtags': [], 'symbols': [], 'user_mentions': [{'screen_name': 'RaghusharmaINC', 'name': 'Dr. Raghu Sharma', 'id': 517767805, 'id_str': '517767805', 'indices': [88, 103]}], 'urls': [{'url': 'https://t.co/Wm6Xon2iKR', 'expanded_url': 'https://twitter.com/i/web/status/1331198451917340674', 'display_url': 'twitter.com/i/web/status/1…', 'indices': [105, 128]}]}, 'metadata': {'iso_language_code': 'hi', 'result_type': 'recent'}, 'source': '<a href=\"http://twitter.com/download/android\" rel=\"nofollow\">Twitter for Android</a>', 'in_reply_to_status_id': None, 'in_reply_to_status_id_str': None, 'in_reply_to_user_id': None, 'in_reply_to_user_id_str': None, 'in_reply_to_screen_name': None, 'user': {'id': 1587915768, 'id_str': '1587915768', 'name': 'ZEE Rajasthan', 'screen_name': 'zeerajasthan_', 'location': 'Film City Sector 16A, Noida', 'description': 'WATCH VIDEOS AND LIVE :\\nhttps://t.co/9OPo5YFncc & https://t.co/hW4ydMDJtL', 'url': 'https://t.co/FStRBYUnks', 'entities': {'url': {'urls': [{'url': 'https://t.co/FStRBYUnks', 'expanded_url': 'http://www.zeerajasthannews.com', 'display_url': 'zeerajasthannews.com', 'indices': [0, 23]}]}, 'description': {'urls': [{'url': 'https://t.co/9OPo5YFncc', 'expanded_url': 'http://facebook.com/ZeeRajasthanNews', 'display_url': 'facebook.com/ZeeRajasthanNe…', 'indices': [24, 47]}, {'url': 'https://t.co/hW4ydMDJtL', 'expanded_url': 'http://youtube.com/c/ZeeRajasthanNews/', 'display_url': 'youtube.com/c/ZeeRajasthan…', 'indices': [50, 73]}]}}, 'protected': False, 'followers_count': 592756, 'friends_count': 305, 'listed_count': 236, 'created_at': 'Fri Jul 12 08:19:40 +0000 2013', 'favourites_count': 243, 'utc_offset': None, 'time_zone': None, 'geo_enabled': False, 'verified': True, 'statuses_count': 477414, 'lang': None, 'contributors_enabled': False, 'is_translator': False, 'is_translation_enabled': False, 'profile_background_color': '000000', 'profile_background_image_url': 'http://abs.twimg.com/images/themes/theme8/bg.gif', 'profile_background_image_url_https': 'https://abs.twimg.com/images/themes/theme8/bg.gif', 'profile_background_tile': False, 'profile_image_url': 'http://pbs.twimg.com/profile_images/1069870389893820416/vWP2eE9t_normal.jpg', 'profile_image_url_https': 'https://pbs.twimg.com/profile_images/1069870389893820416/vWP2eE9t_normal.jpg', 'profile_banner_url': 'https://pbs.twimg.com/profile_banners/1587915768/1605958898', 'profile_link_color': 'FF691F', 'profile_sidebar_border_color': '000000', 'profile_sidebar_fill_color': '000000', 'profile_text_color': '000000', 'profile_use_background_image': False, 'has_extended_profile': False, 'default_profile': False, 'default_profile_image': False, 'following': False, 'follow_request_sent': False, 'notifications': False, 'translator_type': 'regular'}, 'geo': None, 'coordinates': None, 'place': None, 'contributors': None, 'is_quote_status': False, 'retweet_count': 0, 'favorite_count': 37, 'favorited': False, 'retweeted': False, 'possibly_sensitive': False, 'lang': 'hi'}, created_at=datetime.datetime(2020, 11, 24, 11, 30, 18), id=1331198451917340674, id_str='1331198451917340674', text='स्वास्थ्य मंत्री रघु शर्मा ने कहा कि राज्य में कोरोनोवायरस की दूसरी लहर\\xa0देखी जा रही है।\\n@RaghusharmaINC… https://t.co/Wm6Xon2iKR', truncated=True, entities={'hashtags': [], 'symbols': [], 'user_mentions': [{'screen_name': 'RaghusharmaINC', 'name': 'Dr. Raghu Sharma', 'id': 517767805, 'id_str': '517767805', 'indices': [88, 103]}], 'urls': [{'url': 'https://t.co/Wm6Xon2iKR', 'expanded_url': 'https://twitter.com/i/web/status/1331198451917340674', 'display_url': 'twitter.com/i/web/status/1…', 'indices': [105, 128]}]}, metadata={'iso_language_code': 'hi', 'result_type': 'recent'}, source='Twitter for Android', source_url='http://twitter.com/download/android', in_reply_to_status_id=None, in_reply_to_status_id_str=None, in_reply_to_user_id=None, in_reply_to_user_id_str=None, in_reply_to_screen_name=None, author=User(_api=<tweepy.api.API object at 0x000001D09CCCD5C8>, _json={'id': 1587915768, 'id_str': '1587915768', 'name': 'ZEE Rajasthan', 'screen_name': 'zeerajasthan_', 'location': 'Film City Sector 16A, Noida', 'description': 'WATCH VIDEOS AND LIVE :\\nhttps://t.co/9OPo5YFncc & https://t.co/hW4ydMDJtL', 'url': 'https://t.co/FStRBYUnks', 'entities': {'url': {'urls': [{'url': 'https://t.co/FStRBYUnks', 'expanded_url': 'http://www.zeerajasthannews.com', 'display_url': 'zeerajasthannews.com', 'indices': [0, 23]}]}, 'description': {'urls': [{'url': 'https://t.co/9OPo5YFncc', 'expanded_url': 'http://facebook.com/ZeeRajasthanNews', 'display_url': 'facebook.com/ZeeRajasthanNe…', 'indices': [24, 47]}, {'url': 'https://t.co/hW4ydMDJtL', 'expanded_url': 'http://youtube.com/c/ZeeRajasthanNews/', 'display_url': 'youtube.com/c/ZeeRajasthan…', 'indices': [50, 73]}]}}, 'protected': False, 'followers_count': 592756, 'friends_count': 305, 'listed_count': 236, 'created_at': 'Fri Jul 12 08:19:40 +0000 2013', 'favourites_count': 243, 'utc_offset': None, 'time_zone': None, 'geo_enabled': False, 'verified': True, 'statuses_count': 477414, 'lang': None, 'contributors_enabled': False, 'is_translator': False, 'is_translation_enabled': False, 'profile_background_color': '000000', 'profile_background_image_url': 'http://abs.twimg.com/images/themes/theme8/bg.gif', 'profile_background_image_url_https': 'https://abs.twimg.com/images/themes/theme8/bg.gif', 'profile_background_tile': False, 'profile_image_url': 'http://pbs.twimg.com/profile_images/1069870389893820416/vWP2eE9t_normal.jpg', 'profile_image_url_https': 'https://pbs.twimg.com/profile_images/1069870389893820416/vWP2eE9t_normal.jpg', 'profile_banner_url': 'https://pbs.twimg.com/profile_banners/1587915768/1605958898', 'profile_link_color': 'FF691F', 'profile_sidebar_border_color': '000000', 'profile_sidebar_fill_color': '000000', 'profile_text_color': '000000', 'profile_use_background_image': False, 'has_extended_profile': False, 'default_profile': False, 'default_profile_image': False, 'following': False, 'follow_request_sent': False, 'notifications': False, 'translator_type': 'regular'}, id=1587915768, id_str='1587915768', name='ZEE Rajasthan', screen_name='zeerajasthan_', location='Film City Sector 16A, Noida', description='WATCH VIDEOS AND LIVE :\\nhttps://t.co/9OPo5YFncc & https://t.co/hW4ydMDJtL', url='https://t.co/FStRBYUnks', entities={'url': {'urls': [{'url': 'https://t.co/FStRBYUnks', 'expanded_url': 'http://www.zeerajasthannews.com', 'display_url': 'zeerajasthannews.com', 'indices': [0, 23]}]}, 'description': {'urls': [{'url': 'https://t.co/9OPo5YFncc', 'expanded_url': 'http://facebook.com/ZeeRajasthanNews', 'display_url': 'facebook.com/ZeeRajasthanNe…', 'indices': [24, 47]}, {'url': 'https://t.co/hW4ydMDJtL', 'expanded_url': 'http://youtube.com/c/ZeeRajasthanNews/', 'display_url': 'youtube.com/c/ZeeRajasthan…', 'indices': [50, 73]}]}}, protected=False, followers_count=592756, friends_count=305, listed_count=236, created_at=datetime.datetime(2013, 7, 12, 8, 19, 40), favourites_count=243, utc_offset=None, time_zone=None, geo_enabled=False, verified=True, statuses_count=477414, lang=None, contributors_enabled=False, is_translator=False, is_translation_enabled=False, profile_background_color='000000', profile_background_image_url='http://abs.twimg.com/images/themes/theme8/bg.gif', profile_background_image_url_https='https://abs.twimg.com/images/themes/theme8/bg.gif', profile_background_tile=False, profile_image_url='http://pbs.twimg.com/profile_images/1069870389893820416/vWP2eE9t_normal.jpg', profile_image_url_https='https://pbs.twimg.com/profile_images/1069870389893820416/vWP2eE9t_normal.jpg', profile_banner_url='https://pbs.twimg.com/profile_banners/1587915768/1605958898', profile_link_color='FF691F', profile_sidebar_border_color='000000', profile_sidebar_fill_color='000000', profile_text_color='000000', profile_use_background_image=False, has_extended_profile=False, default_profile=False, default_profile_image=False, following=False, follow_request_sent=False, notifications=False, translator_type='regular'), user=User(_api=<tweepy.api.API object at 0x000001D09CCCD5C8>, _json={'id': 1587915768, 'id_str': '1587915768', 'name': 'ZEE Rajasthan', 'screen_name': 'zeerajasthan_', 'location': 'Film City Sector 16A, Noida', 'description': 'WATCH VIDEOS AND LIVE :\\nhttps://t.co/9OPo5YFncc & https://t.co/hW4ydMDJtL', 'url': 'https://t.co/FStRBYUnks', 'entities': {'url': {'urls': [{'url': 'https://t.co/FStRBYUnks', 'expanded_url': 'http://www.zeerajasthannews.com', 'display_url': 'zeerajasthannews.com', 'indices': [0, 23]}]}, 'description': {'urls': [{'url': 'https://t.co/9OPo5YFncc', 'expanded_url': 'http://facebook.com/ZeeRajasthanNews', 'display_url': 'facebook.com/ZeeRajasthanNe…', 'indices': [24, 47]}, {'url': 'https://t.co/hW4ydMDJtL', 'expanded_url': 'http://youtube.com/c/ZeeRajasthanNews/', 'display_url': 'youtube.com/c/ZeeRajasthan…', 'indices': [50, 73]}]}}, 'protected': False, 'followers_count': 592756, 'friends_count': 305, 'listed_count': 236, 'created_at': 'Fri Jul 12 08:19:40 +0000 2013', 'favourites_count': 243, 'utc_offset': None, 'time_zone': None, 'geo_enabled': False, 'verified': True, 'statuses_count': 477414, 'lang': None, 'contributors_enabled': False, 'is_translator': False, 'is_translation_enabled': False, 'profile_background_color': '000000', 'profile_background_image_url': 'http://abs.twimg.com/images/themes/theme8/bg.gif', 'profile_background_image_url_https': 'https://abs.twimg.com/images/themes/theme8/bg.gif', 'profile_background_tile': False, 'profile_image_url': 'http://pbs.twimg.com/profile_images/1069870389893820416/vWP2eE9t_normal.jpg', 'profile_image_url_https': 'https://pbs.twimg.com/profile_images/1069870389893820416/vWP2eE9t_normal.jpg', 'profile_banner_url': 'https://pbs.twimg.com/profile_banners/1587915768/1605958898', 'profile_link_color': 'FF691F', 'profile_sidebar_border_color': '000000', 'profile_sidebar_fill_color': '000000', 'profile_text_color': '000000', 'profile_use_background_image': False, 'has_extended_profile': False, 'default_profile': False, 'default_profile_image': False, 'following': False, 'follow_request_sent': False, 'notifications': False, 'translator_type': 'regular'}, id=1587915768, id_str='1587915768', name='ZEE Rajasthan', screen_name='zeerajasthan_', location='Film City Sector 16A, Noida', description='WATCH VIDEOS AND LIVE :\\nhttps://t.co/9OPo5YFncc & https://t.co/hW4ydMDJtL', url='https://t.co/FStRBYUnks', entities={'url': {'urls': [{'url': 'https://t.co/FStRBYUnks', 'expanded_url': 'http://www.zeerajasthannews.com', 'display_url': 'zeerajasthannews.com', 'indices': [0, 23]}]}, 'description': {'urls': [{'url': 'https://t.co/9OPo5YFncc', 'expanded_url': 'http://facebook.com/ZeeRajasthanNews', 'display_url': 'facebook.com/ZeeRajasthanNe…', 'indices': [24, 47]}, {'url': 'https://t.co/hW4ydMDJtL', 'expanded_url': 'http://youtube.com/c/ZeeRajasthanNews/', 'display_url': 'youtube.com/c/ZeeRajasthan…', 'indices': [50, 73]}]}}, protected=False, followers_count=592756, friends_count=305, listed_count=236, created_at=datetime.datetime(2013, 7, 12, 8, 19, 40), favourites_count=243, utc_offset=None, time_zone=None, geo_enabled=False, verified=True, statuses_count=477414, lang=None, contributors_enabled=False, is_translator=False, is_translation_enabled=False, profile_background_color='000000', profile_background_image_url='http://abs.twimg.com/images/themes/theme8/bg.gif', profile_background_image_url_https='https://abs.twimg.com/images/themes/theme8/bg.gif', profile_background_tile=False, profile_image_url='http://pbs.twimg.com/profile_images/1069870389893820416/vWP2eE9t_normal.jpg', profile_image_url_https='https://pbs.twimg.com/profile_images/1069870389893820416/vWP2eE9t_normal.jpg', profile_banner_url='https://pbs.twimg.com/profile_banners/1587915768/1605958898', profile_link_color='FF691F', profile_sidebar_border_color='000000', profile_sidebar_fill_color='000000', profile_text_color='000000', profile_use_background_image=False, has_extended_profile=False, default_profile=False, default_profile_image=False, following=False, follow_request_sent=False, notifications=False, translator_type='regular'), geo=None, coordinates=None, place=None, contributors=None, is_quote_status=False, retweet_count=0, favorite_count=37, favorited=False, retweeted=False, possibly_sensitive=False, lang='hi') \n",
      "\n",
      ".....................\n",
      "\n",
      "Status(_api=<tweepy.api.API object at 0x000001D09CCCD5C8>, _json={'created_at': 'Tue Nov 24 07:23:43 +0000 2020', 'id': 1331136398682972160, 'id_str': '1331136398682972160', 'text': 'Most disappointed to watch Head lines on News Channels:\\n 1 Surge in Corona positive cases in some states and possib… https://t.co/OGKqt3d1At', 'truncated': True, 'entities': {'hashtags': [], 'symbols': [], 'user_mentions': [], 'urls': [{'url': 'https://t.co/OGKqt3d1At', 'expanded_url': 'https://twitter.com/i/web/status/1331136398682972160', 'display_url': 'twitter.com/i/web/status/1…', 'indices': [117, 140]}]}, 'metadata': {'iso_language_code': 'en', 'result_type': 'recent'}, 'source': '<a href=\"https://mobile.twitter.com\" rel=\"nofollow\">Twitter Web App</a>', 'in_reply_to_status_id': None, 'in_reply_to_status_id_str': None, 'in_reply_to_user_id': None, 'in_reply_to_user_id_str': None, 'in_reply_to_screen_name': None, 'user': {'id': 1326432613318467585, 'id_str': '1326432613318467585', 'name': 'True Nationalist', 'screen_name': 'TrueNat29186518', 'location': '', 'description': '', 'url': None, 'entities': {'description': {'urls': []}}, 'protected': False, 'followers_count': 0, 'friends_count': 45, 'listed_count': 0, 'created_at': 'Wed Nov 11 07:56:13 +0000 2020', 'favourites_count': 12, 'utc_offset': None, 'time_zone': None, 'geo_enabled': False, 'verified': False, 'statuses_count': 159, 'lang': None, 'contributors_enabled': False, 'is_translator': False, 'is_translation_enabled': False, 'profile_background_color': 'F5F8FA', 'profile_background_image_url': None, 'profile_background_image_url_https': None, 'profile_background_tile': False, 'profile_image_url': 'http://abs.twimg.com/sticky/default_profile_images/default_profile_normal.png', 'profile_image_url_https': 'https://abs.twimg.com/sticky/default_profile_images/default_profile_normal.png', 'profile_link_color': '1DA1F2', 'profile_sidebar_border_color': 'C0DEED', 'profile_sidebar_fill_color': 'DDEEF6', 'profile_text_color': '333333', 'profile_use_background_image': True, 'has_extended_profile': True, 'default_profile': True, 'default_profile_image': True, 'following': False, 'follow_request_sent': False, 'notifications': False, 'translator_type': 'none'}, 'geo': None, 'coordinates': None, 'place': None, 'contributors': None, 'is_quote_status': False, 'retweet_count': 0, 'favorite_count': 0, 'favorited': False, 'retweeted': False, 'lang': 'en'}, created_at=datetime.datetime(2020, 11, 24, 7, 23, 43), id=1331136398682972160, id_str='1331136398682972160', text='Most disappointed to watch Head lines on News Channels:\\n 1 Surge in Corona positive cases in some states and possib… https://t.co/OGKqt3d1At', truncated=True, entities={'hashtags': [], 'symbols': [], 'user_mentions': [], 'urls': [{'url': 'https://t.co/OGKqt3d1At', 'expanded_url': 'https://twitter.com/i/web/status/1331136398682972160', 'display_url': 'twitter.com/i/web/status/1…', 'indices': [117, 140]}]}, metadata={'iso_language_code': 'en', 'result_type': 'recent'}, source='Twitter Web App', source_url='https://mobile.twitter.com', in_reply_to_status_id=None, in_reply_to_status_id_str=None, in_reply_to_user_id=None, in_reply_to_user_id_str=None, in_reply_to_screen_name=None, author=User(_api=<tweepy.api.API object at 0x000001D09CCCD5C8>, _json={'id': 1326432613318467585, 'id_str': '1326432613318467585', 'name': 'True Nationalist', 'screen_name': 'TrueNat29186518', 'location': '', 'description': '', 'url': None, 'entities': {'description': {'urls': []}}, 'protected': False, 'followers_count': 0, 'friends_count': 45, 'listed_count': 0, 'created_at': 'Wed Nov 11 07:56:13 +0000 2020', 'favourites_count': 12, 'utc_offset': None, 'time_zone': None, 'geo_enabled': False, 'verified': False, 'statuses_count': 159, 'lang': None, 'contributors_enabled': False, 'is_translator': False, 'is_translation_enabled': False, 'profile_background_color': 'F5F8FA', 'profile_background_image_url': None, 'profile_background_image_url_https': None, 'profile_background_tile': False, 'profile_image_url': 'http://abs.twimg.com/sticky/default_profile_images/default_profile_normal.png', 'profile_image_url_https': 'https://abs.twimg.com/sticky/default_profile_images/default_profile_normal.png', 'profile_link_color': '1DA1F2', 'profile_sidebar_border_color': 'C0DEED', 'profile_sidebar_fill_color': 'DDEEF6', 'profile_text_color': '333333', 'profile_use_background_image': True, 'has_extended_profile': True, 'default_profile': True, 'default_profile_image': True, 'following': False, 'follow_request_sent': False, 'notifications': False, 'translator_type': 'none'}, id=1326432613318467585, id_str='1326432613318467585', name='True Nationalist', screen_name='TrueNat29186518', location='', description='', url=None, entities={'description': {'urls': []}}, protected=False, followers_count=0, friends_count=45, listed_count=0, created_at=datetime.datetime(2020, 11, 11, 7, 56, 13), favourites_count=12, utc_offset=None, time_zone=None, geo_enabled=False, verified=False, statuses_count=159, lang=None, contributors_enabled=False, is_translator=False, is_translation_enabled=False, profile_background_color='F5F8FA', profile_background_image_url=None, profile_background_image_url_https=None, profile_background_tile=False, profile_image_url='http://abs.twimg.com/sticky/default_profile_images/default_profile_normal.png', profile_image_url_https='https://abs.twimg.com/sticky/default_profile_images/default_profile_normal.png', profile_link_color='1DA1F2', profile_sidebar_border_color='C0DEED', profile_sidebar_fill_color='DDEEF6', profile_text_color='333333', profile_use_background_image=True, has_extended_profile=True, default_profile=True, default_profile_image=True, following=False, follow_request_sent=False, notifications=False, translator_type='none'), user=User(_api=<tweepy.api.API object at 0x000001D09CCCD5C8>, _json={'id': 1326432613318467585, 'id_str': '1326432613318467585', 'name': 'True Nationalist', 'screen_name': 'TrueNat29186518', 'location': '', 'description': '', 'url': None, 'entities': {'description': {'urls': []}}, 'protected': False, 'followers_count': 0, 'friends_count': 45, 'listed_count': 0, 'created_at': 'Wed Nov 11 07:56:13 +0000 2020', 'favourites_count': 12, 'utc_offset': None, 'time_zone': None, 'geo_enabled': False, 'verified': False, 'statuses_count': 159, 'lang': None, 'contributors_enabled': False, 'is_translator': False, 'is_translation_enabled': False, 'profile_background_color': 'F5F8FA', 'profile_background_image_url': None, 'profile_background_image_url_https': None, 'profile_background_tile': False, 'profile_image_url': 'http://abs.twimg.com/sticky/default_profile_images/default_profile_normal.png', 'profile_image_url_https': 'https://abs.twimg.com/sticky/default_profile_images/default_profile_normal.png', 'profile_link_color': '1DA1F2', 'profile_sidebar_border_color': 'C0DEED', 'profile_sidebar_fill_color': 'DDEEF6', 'profile_text_color': '333333', 'profile_use_background_image': True, 'has_extended_profile': True, 'default_profile': True, 'default_profile_image': True, 'following': False, 'follow_request_sent': False, 'notifications': False, 'translator_type': 'none'}, id=1326432613318467585, id_str='1326432613318467585', name='True Nationalist', screen_name='TrueNat29186518', location='', description='', url=None, entities={'description': {'urls': []}}, protected=False, followers_count=0, friends_count=45, listed_count=0, created_at=datetime.datetime(2020, 11, 11, 7, 56, 13), favourites_count=12, utc_offset=None, time_zone=None, geo_enabled=False, verified=False, statuses_count=159, lang=None, contributors_enabled=False, is_translator=False, is_translation_enabled=False, profile_background_color='F5F8FA', profile_background_image_url=None, profile_background_image_url_https=None, profile_background_tile=False, profile_image_url='http://abs.twimg.com/sticky/default_profile_images/default_profile_normal.png', profile_image_url_https='https://abs.twimg.com/sticky/default_profile_images/default_profile_normal.png', profile_link_color='1DA1F2', profile_sidebar_border_color='C0DEED', profile_sidebar_fill_color='DDEEF6', profile_text_color='333333', profile_use_background_image=True, has_extended_profile=True, default_profile=True, default_profile_image=True, following=False, follow_request_sent=False, notifications=False, translator_type='none'), geo=None, coordinates=None, place=None, contributors=None, is_quote_status=False, retweet_count=0, favorite_count=0, favorited=False, retweeted=False, lang='en') \n",
      "\n",
      ".....................\n",
      "\n",
      "Status(_api=<tweepy.api.API object at 0x000001D09CCCD5C8>, _json={'created_at': 'Tue Nov 24 07:05:25 +0000 2020', 'id': 1331131794473664512, 'id_str': '1331131794473664512', 'text': '#SarkaruVaariPaata Update:-\\nShoot starts in India, RFC lo set ready chesthunnaru, Corona second wave valla schedule… https://t.co/LRA5QYdPb2', 'truncated': True, 'entities': {'hashtags': [{'text': 'SarkaruVaariPaata', 'indices': [0, 18]}], 'symbols': [], 'user_mentions': [], 'urls': [{'url': 'https://t.co/LRA5QYdPb2', 'expanded_url': 'https://twitter.com/i/web/status/1331131794473664512', 'display_url': 'twitter.com/i/web/status/1…', 'indices': [117, 140]}]}, 'metadata': {'iso_language_code': 'en', 'result_type': 'recent'}, 'source': '<a href=\"http://twitter.com/download/iphone\" rel=\"nofollow\">Twitter for iPhone</a>', 'in_reply_to_status_id': None, 'in_reply_to_status_id_str': None, 'in_reply_to_user_id': None, 'in_reply_to_user_id_str': None, 'in_reply_to_screen_name': None, 'user': {'id': 3448132578, 'id_str': '3448132578', 'name': 'maheshvamsi', 'screen_name': 'maheshvamsi9', 'location': 'india Rajahmundry ', 'description': 'I @m big #fan of @urstrulymahesh 😍😍', 'url': None, 'entities': {'description': {'urls': []}}, 'protected': False, 'followers_count': 108, 'friends_count': 310, 'listed_count': 0, 'created_at': 'Fri Sep 04 12:53:33 +0000 2015', 'favourites_count': 27125, 'utc_offset': None, 'time_zone': None, 'geo_enabled': True, 'verified': False, 'statuses_count': 29243, 'lang': None, 'contributors_enabled': False, 'is_translator': False, 'is_translation_enabled': False, 'profile_background_color': 'C0DEED', 'profile_background_image_url': 'http://abs.twimg.com/images/themes/theme1/bg.png', 'profile_background_image_url_https': 'https://abs.twimg.com/images/themes/theme1/bg.png', 'profile_background_tile': False, 'profile_image_url': 'http://pbs.twimg.com/profile_images/1282961414261338114/-XbL7ImE_normal.jpg', 'profile_image_url_https': 'https://pbs.twimg.com/profile_images/1282961414261338114/-XbL7ImE_normal.jpg', 'profile_banner_url': 'https://pbs.twimg.com/profile_banners/3448132578/1594716857', 'profile_link_color': '1DA1F2', 'profile_sidebar_border_color': 'C0DEED', 'profile_sidebar_fill_color': 'DDEEF6', 'profile_text_color': '333333', 'profile_use_background_image': True, 'has_extended_profile': True, 'default_profile': True, 'default_profile_image': False, 'following': False, 'follow_request_sent': False, 'notifications': False, 'translator_type': 'none'}, 'geo': None, 'coordinates': None, 'place': None, 'contributors': None, 'is_quote_status': False, 'retweet_count': 0, 'favorite_count': 0, 'favorited': False, 'retweeted': False, 'lang': 'en'}, created_at=datetime.datetime(2020, 11, 24, 7, 5, 25), id=1331131794473664512, id_str='1331131794473664512', text='#SarkaruVaariPaata Update:-\\nShoot starts in India, RFC lo set ready chesthunnaru, Corona second wave valla schedule… https://t.co/LRA5QYdPb2', truncated=True, entities={'hashtags': [{'text': 'SarkaruVaariPaata', 'indices': [0, 18]}], 'symbols': [], 'user_mentions': [], 'urls': [{'url': 'https://t.co/LRA5QYdPb2', 'expanded_url': 'https://twitter.com/i/web/status/1331131794473664512', 'display_url': 'twitter.com/i/web/status/1…', 'indices': [117, 140]}]}, metadata={'iso_language_code': 'en', 'result_type': 'recent'}, source='Twitter for iPhone', source_url='http://twitter.com/download/iphone', in_reply_to_status_id=None, in_reply_to_status_id_str=None, in_reply_to_user_id=None, in_reply_to_user_id_str=None, in_reply_to_screen_name=None, author=User(_api=<tweepy.api.API object at 0x000001D09CCCD5C8>, _json={'id': 3448132578, 'id_str': '3448132578', 'name': 'maheshvamsi', 'screen_name': 'maheshvamsi9', 'location': 'india Rajahmundry ', 'description': 'I @m big #fan of @urstrulymahesh 😍😍', 'url': None, 'entities': {'description': {'urls': []}}, 'protected': False, 'followers_count': 108, 'friends_count': 310, 'listed_count': 0, 'created_at': 'Fri Sep 04 12:53:33 +0000 2015', 'favourites_count': 27125, 'utc_offset': None, 'time_zone': None, 'geo_enabled': True, 'verified': False, 'statuses_count': 29243, 'lang': None, 'contributors_enabled': False, 'is_translator': False, 'is_translation_enabled': False, 'profile_background_color': 'C0DEED', 'profile_background_image_url': 'http://abs.twimg.com/images/themes/theme1/bg.png', 'profile_background_image_url_https': 'https://abs.twimg.com/images/themes/theme1/bg.png', 'profile_background_tile': False, 'profile_image_url': 'http://pbs.twimg.com/profile_images/1282961414261338114/-XbL7ImE_normal.jpg', 'profile_image_url_https': 'https://pbs.twimg.com/profile_images/1282961414261338114/-XbL7ImE_normal.jpg', 'profile_banner_url': 'https://pbs.twimg.com/profile_banners/3448132578/1594716857', 'profile_link_color': '1DA1F2', 'profile_sidebar_border_color': 'C0DEED', 'profile_sidebar_fill_color': 'DDEEF6', 'profile_text_color': '333333', 'profile_use_background_image': True, 'has_extended_profile': True, 'default_profile': True, 'default_profile_image': False, 'following': False, 'follow_request_sent': False, 'notifications': False, 'translator_type': 'none'}, id=3448132578, id_str='3448132578', name='maheshvamsi', screen_name='maheshvamsi9', location='india Rajahmundry ', description='I @m big #fan of @urstrulymahesh 😍😍', url=None, entities={'description': {'urls': []}}, protected=False, followers_count=108, friends_count=310, listed_count=0, created_at=datetime.datetime(2015, 9, 4, 12, 53, 33), favourites_count=27125, utc_offset=None, time_zone=None, geo_enabled=True, verified=False, statuses_count=29243, lang=None, contributors_enabled=False, is_translator=False, is_translation_enabled=False, profile_background_color='C0DEED', profile_background_image_url='http://abs.twimg.com/images/themes/theme1/bg.png', profile_background_image_url_https='https://abs.twimg.com/images/themes/theme1/bg.png', profile_background_tile=False, profile_image_url='http://pbs.twimg.com/profile_images/1282961414261338114/-XbL7ImE_normal.jpg', profile_image_url_https='https://pbs.twimg.com/profile_images/1282961414261338114/-XbL7ImE_normal.jpg', profile_banner_url='https://pbs.twimg.com/profile_banners/3448132578/1594716857', profile_link_color='1DA1F2', profile_sidebar_border_color='C0DEED', profile_sidebar_fill_color='DDEEF6', profile_text_color='333333', profile_use_background_image=True, has_extended_profile=True, default_profile=True, default_profile_image=False, following=False, follow_request_sent=False, notifications=False, translator_type='none'), user=User(_api=<tweepy.api.API object at 0x000001D09CCCD5C8>, _json={'id': 3448132578, 'id_str': '3448132578', 'name': 'maheshvamsi', 'screen_name': 'maheshvamsi9', 'location': 'india Rajahmundry ', 'description': 'I @m big #fan of @urstrulymahesh 😍😍', 'url': None, 'entities': {'description': {'urls': []}}, 'protected': False, 'followers_count': 108, 'friends_count': 310, 'listed_count': 0, 'created_at': 'Fri Sep 04 12:53:33 +0000 2015', 'favourites_count': 27125, 'utc_offset': None, 'time_zone': None, 'geo_enabled': True, 'verified': False, 'statuses_count': 29243, 'lang': None, 'contributors_enabled': False, 'is_translator': False, 'is_translation_enabled': False, 'profile_background_color': 'C0DEED', 'profile_background_image_url': 'http://abs.twimg.com/images/themes/theme1/bg.png', 'profile_background_image_url_https': 'https://abs.twimg.com/images/themes/theme1/bg.png', 'profile_background_tile': False, 'profile_image_url': 'http://pbs.twimg.com/profile_images/1282961414261338114/-XbL7ImE_normal.jpg', 'profile_image_url_https': 'https://pbs.twimg.com/profile_images/1282961414261338114/-XbL7ImE_normal.jpg', 'profile_banner_url': 'https://pbs.twimg.com/profile_banners/3448132578/1594716857', 'profile_link_color': '1DA1F2', 'profile_sidebar_border_color': 'C0DEED', 'profile_sidebar_fill_color': 'DDEEF6', 'profile_text_color': '333333', 'profile_use_background_image': True, 'has_extended_profile': True, 'default_profile': True, 'default_profile_image': False, 'following': False, 'follow_request_sent': False, 'notifications': False, 'translator_type': 'none'}, id=3448132578, id_str='3448132578', name='maheshvamsi', screen_name='maheshvamsi9', location='india Rajahmundry ', description='I @m big #fan of @urstrulymahesh 😍😍', url=None, entities={'description': {'urls': []}}, protected=False, followers_count=108, friends_count=310, listed_count=0, created_at=datetime.datetime(2015, 9, 4, 12, 53, 33), favourites_count=27125, utc_offset=None, time_zone=None, geo_enabled=True, verified=False, statuses_count=29243, lang=None, contributors_enabled=False, is_translator=False, is_translation_enabled=False, profile_background_color='C0DEED', profile_background_image_url='http://abs.twimg.com/images/themes/theme1/bg.png', profile_background_image_url_https='https://abs.twimg.com/images/themes/theme1/bg.png', profile_background_tile=False, profile_image_url='http://pbs.twimg.com/profile_images/1282961414261338114/-XbL7ImE_normal.jpg', profile_image_url_https='https://pbs.twimg.com/profile_images/1282961414261338114/-XbL7ImE_normal.jpg', profile_banner_url='https://pbs.twimg.com/profile_banners/3448132578/1594716857', profile_link_color='1DA1F2', profile_sidebar_border_color='C0DEED', profile_sidebar_fill_color='DDEEF6', profile_text_color='333333', profile_use_background_image=True, has_extended_profile=True, default_profile=True, default_profile_image=False, following=False, follow_request_sent=False, notifications=False, translator_type='none'), geo=None, coordinates=None, place=None, contributors=None, is_quote_status=False, retweet_count=0, favorite_count=0, favorited=False, retweeted=False, lang='en') \n",
      "\n",
      ".....................\n",
      "\n"
     ]
    }
   ],
   "source": [
    "Tweets = api.search( query , count=10, len=\"en\", exclude=\"retweets\", tweet_mode=\"xtended\")\n",
    "#tweet_mode ='extended'\n",
    "#tweet mode ='compat'\n",
    "for tweet in Tweets:\n",
    "    print(tweet,\"\\n\")\n",
    "    print(\".....................\\n\")\n",
    "    "
   ]
  },
  {
   "cell_type": "markdown",
   "metadata": {},
   "source": [
    "# get the tweets and some Attributes"
   ]
  },
  {
   "cell_type": "code",
   "execution_count": 8,
   "metadata": {
    "scrolled": true
   },
   "outputs": [
    {
     "name": "stdout",
     "output_type": "stream",
     "text": [
      "Empty DataFrame\n",
      "Columns: [tweets, User, User_statuse_count, User_followers, User_location, User_verified, fav_count, rt_count, tweet_date]\n",
      "Index: []\n"
     ]
    },
    {
     "data": {
      "text/plain": [
       "(0, 9)"
      ]
     },
     "execution_count": 8,
     "metadata": {},
     "output_type": "execute_result"
    }
   ],
   "source": [
    "df = pd.DataFrame(columns = ['tweets', 'User', 'User_statuse_count', 'User_followers', 'User_location','User_verified', 'fav_count','rt_count','tweet_date'])\n",
    "print(df)\n",
    "df.shape"
   ]
  },
  {
   "cell_type": "code",
   "execution_count": 9,
   "metadata": {},
   "outputs": [],
   "source": [
    "\n",
    "def stream(data, file_name):\n",
    "    i = 0\n",
    "    for tweet in tweepy.Cursor(api.search, q=data, count=100, lang='en').items():\n",
    "        print(i, end='\\r')\n",
    "        df.loc[i, 'Tweets'] = tweet.text\n",
    "        df.loc[i, 'User'] = tweet.user.name\n",
    "        df.loc[i, 'User_statuses_count'] = tweet.user.statuses_count\n",
    "        df.loc[i, 'user_followers'] = tweet.user.followers_count\n",
    "        df.loc[i, 'User_location'] = tweet.user.location\n",
    "        df.loc[i, 'User_verified'] = tweet.user.verified\n",
    "        df.loc[i, 'fav_count'] = tweet.favorite_count\n",
    "        df.loc[i, 'rt_count'] = tweet.retweet_count\n",
    "        df.loc[i, 'tweet_date'] = tweet.created_at\n",
    "        df.to_excel('{}.xlsx'.format(file_name))\n",
    "        i = i+1\n",
    "        if i == 1000:\n",
    "            break\n",
    "        else:\n",
    "            pass"
   ]
  },
  {
   "cell_type": "code",
   "execution_count": 20,
   "metadata": {},
   "outputs": [
    {
     "name": "stdout",
     "output_type": "stream",
     "text": [
      "192\r"
     ]
    }
   ],
   "source": [
    "\n",
    "stream(data=[\"corona second wave in india\"] , file_name='corona_tweets')"
   ]
  },
  {
   "cell_type": "code",
   "execution_count": 21,
   "metadata": {
    "scrolled": false
   },
   "outputs": [
    {
     "data": {
      "text/html": [
       "<div>\n",
       "<style scoped>\n",
       "    .dataframe tbody tr th:only-of-type {\n",
       "        vertical-align: middle;\n",
       "    }\n",
       "\n",
       "    .dataframe tbody tr th {\n",
       "        vertical-align: top;\n",
       "    }\n",
       "\n",
       "    .dataframe thead th {\n",
       "        text-align: right;\n",
       "    }\n",
       "</style>\n",
       "<table border=\"1\" class=\"dataframe\">\n",
       "  <thead>\n",
       "    <tr style=\"text-align: right;\">\n",
       "      <th></th>\n",
       "      <th>tweets</th>\n",
       "      <th>User</th>\n",
       "      <th>User_statuse_count</th>\n",
       "      <th>User_followers</th>\n",
       "      <th>User_location</th>\n",
       "      <th>User_verified</th>\n",
       "      <th>fav_count</th>\n",
       "      <th>rt_count</th>\n",
       "      <th>tweet_date</th>\n",
       "      <th>Tweets</th>\n",
       "      <th>User_statuses_count</th>\n",
       "      <th>user_followers</th>\n",
       "      <th>clean_tweet</th>\n",
       "      <th>Sentiment</th>\n",
       "    </tr>\n",
       "  </thead>\n",
       "  <tbody>\n",
       "    <tr>\n",
       "      <th>0</th>\n",
       "      <td>NaN</td>\n",
       "      <td>Shiv Kumar Singh Dauria</td>\n",
       "      <td>NaN</td>\n",
       "      <td>NaN</td>\n",
       "      <td></td>\n",
       "      <td>False</td>\n",
       "      <td>0</td>\n",
       "      <td>0</td>\n",
       "      <td>2020-11-26 03:33:45</td>\n",
       "      <td>Coronavirus India Live Updates: Mumbai reports...</td>\n",
       "      <td>5893.0</td>\n",
       "      <td>75.0</td>\n",
       "      <td>Coronavirus India Live Updates Mumbai reports ...</td>\n",
       "      <td>Negative</td>\n",
       "    </tr>\n",
       "    <tr>\n",
       "      <th>1</th>\n",
       "      <td>NaN</td>\n",
       "      <td>kulwinder saini</td>\n",
       "      <td>NaN</td>\n",
       "      <td>NaN</td>\n",
       "      <td>Sodal Nagar, Jalandhar</td>\n",
       "      <td>False</td>\n",
       "      <td>0</td>\n",
       "      <td>0</td>\n",
       "      <td>2020-11-25 12:47:39</td>\n",
       "      <td>@VijayIndrSingla @capt_amarinder  @DrRPNishank...</td>\n",
       "      <td>1493.0</td>\n",
       "      <td>100.0</td>\n",
       "      <td>amarinder india Examinations are being started...</td>\n",
       "      <td>Neutral</td>\n",
       "    </tr>\n",
       "    <tr>\n",
       "      <th>2</th>\n",
       "      <td>NaN</td>\n",
       "      <td>Soran Singh</td>\n",
       "      <td>NaN</td>\n",
       "      <td>NaN</td>\n",
       "      <td>New Delhi, India</td>\n",
       "      <td>False</td>\n",
       "      <td>1</td>\n",
       "      <td>0</td>\n",
       "      <td>2020-11-25 09:39:21</td>\n",
       "      <td>@makneta Hope everyone is good and safe in you...</td>\n",
       "      <td>328.0</td>\n",
       "      <td>56.0</td>\n",
       "      <td>Hope everyone is good and safe in your family ...</td>\n",
       "      <td>Positive</td>\n",
       "    </tr>\n",
       "    <tr>\n",
       "      <th>3</th>\n",
       "      <td>NaN</td>\n",
       "      <td>Radoo</td>\n",
       "      <td>NaN</td>\n",
       "      <td>NaN</td>\n",
       "      <td>Rajahmundry, India</td>\n",
       "      <td>False</td>\n",
       "      <td>0</td>\n",
       "      <td>147</td>\n",
       "      <td>2020-11-25 07:06:12</td>\n",
       "      <td>RT @hariPokiri_23: #SarkaruVaariPaata Update:-...</td>\n",
       "      <td>109412.0</td>\n",
       "      <td>426.0</td>\n",
       "      <td>RT 23 SarkaruVaariPaata Update Shoot starts in...</td>\n",
       "      <td>Positive</td>\n",
       "    </tr>\n",
       "    <tr>\n",
       "      <th>4</th>\n",
       "      <td>NaN</td>\n",
       "      <td>Sridevi</td>\n",
       "      <td>NaN</td>\n",
       "      <td>NaN</td>\n",
       "      <td></td>\n",
       "      <td>False</td>\n",
       "      <td>0</td>\n",
       "      <td>0</td>\n",
       "      <td>2020-11-25 05:11:43</td>\n",
       "      <td>@ManeezaPredicts Is there any chance of lockdo...</td>\n",
       "      <td>5.0</td>\n",
       "      <td>0.0</td>\n",
       "      <td>Is there any chance of lockdown again in India...</td>\n",
       "      <td>Neutral</td>\n",
       "    </tr>\n",
       "  </tbody>\n",
       "</table>\n",
       "</div>"
      ],
      "text/plain": [
       "  tweets                     User User_statuse_count User_followers  \\\n",
       "0    NaN  Shiv Kumar Singh Dauria                NaN            NaN   \n",
       "1    NaN          kulwinder saini                NaN            NaN   \n",
       "2    NaN              Soran Singh                NaN            NaN   \n",
       "3    NaN                    Radoo                NaN            NaN   \n",
       "4    NaN                  Sridevi                NaN            NaN   \n",
       "\n",
       "            User_location User_verified fav_count rt_count  \\\n",
       "0                                 False         0        0   \n",
       "1  Sodal Nagar, Jalandhar         False         0        0   \n",
       "2        New Delhi, India         False         1        0   \n",
       "3      Rajahmundry, India         False         0      147   \n",
       "4                                 False         0        0   \n",
       "\n",
       "            tweet_date                                             Tweets  \\\n",
       "0  2020-11-26 03:33:45  Coronavirus India Live Updates: Mumbai reports...   \n",
       "1  2020-11-25 12:47:39  @VijayIndrSingla @capt_amarinder  @DrRPNishank...   \n",
       "2  2020-11-25 09:39:21  @makneta Hope everyone is good and safe in you...   \n",
       "3  2020-11-25 07:06:12  RT @hariPokiri_23: #SarkaruVaariPaata Update:-...   \n",
       "4  2020-11-25 05:11:43  @ManeezaPredicts Is there any chance of lockdo...   \n",
       "\n",
       "   User_statuses_count  user_followers  \\\n",
       "0               5893.0            75.0   \n",
       "1               1493.0           100.0   \n",
       "2                328.0            56.0   \n",
       "3             109412.0           426.0   \n",
       "4                  5.0             0.0   \n",
       "\n",
       "                                         clean_tweet Sentiment  \n",
       "0  Coronavirus India Live Updates Mumbai reports ...  Negative  \n",
       "1  amarinder india Examinations are being started...   Neutral  \n",
       "2  Hope everyone is good and safe in your family ...  Positive  \n",
       "3  RT 23 SarkaruVaariPaata Update Shoot starts in...  Positive  \n",
       "4  Is there any chance of lockdown again in India...   Neutral  "
      ]
     },
     "execution_count": 21,
     "metadata": {},
     "output_type": "execute_result"
    }
   ],
   "source": [
    "df.head()"
   ]
  },
  {
   "cell_type": "code",
   "execution_count": 12,
   "metadata": {},
   "outputs": [
    {
     "name": "stdout",
     "output_type": "stream",
     "text": [
      "Requirement already satisfied: textblob in c:\\users\\vivek\\anaconda3\\lib\\site-packages (0.15.3)\n",
      "Requirement already satisfied: nltk>=3.1 in c:\\users\\vivek\\anaconda3\\lib\\site-packages (from textblob) (3.4.5)\n",
      "Requirement already satisfied: six in c:\\users\\vivek\\anaconda3\\lib\\site-packages (from nltk>=3.1->textblob) (1.14.0)\n",
      "Note: you may need to restart the kernel to use updated packages.\n"
     ]
    }
   ],
   "source": [
    "pip install textblob"
   ]
  },
  {
   "cell_type": "markdown",
   "metadata": {},
   "source": [
    "Sentiment(polarity, subjectivity) Polarity score: [-1 , +1] Subjectivity: [0.0 , 1.0] where 0.0 is very Objective and 1.0 is very Subjective."
   ]
  },
  {
   "cell_type": "code",
   "execution_count": 22,
   "metadata": {},
   "outputs": [],
   "source": [
    "from textblob import TextBlob"
   ]
  },
  {
   "cell_type": "code",
   "execution_count": 14,
   "metadata": {
    "scrolled": false
   },
   "outputs": [],
   "source": [
    "import re\n",
    "def clean_tweet(tweet):\n",
    "    return ' '.join(re.sub('(@[A-Za-z0-9]+)|([^0-9A-Za-z \\t])|(\\w+:\\/\\/\\S+)', ' ', tweet).split())"
   ]
  },
  {
   "cell_type": "code",
   "execution_count": 15,
   "metadata": {},
   "outputs": [],
   "source": [
    "def analyze_sentiment(tweet):\n",
    "    analysis = TextBlob(tweet)\n",
    "    if analysis.sentiment.polarity > 0:\n",
    "        return 'Positive'\n",
    "    elif analysis.sentiment.polarity == 0:\n",
    "        return 'Neutral'\n",
    "    else:\n",
    "        return 'Negative'"
   ]
  },
  {
   "cell_type": "code",
   "execution_count": 16,
   "metadata": {},
   "outputs": [],
   "source": [
    "df['clean_tweet'] = df['Tweets'].apply(lambda x : clean_tweet(x))"
   ]
  },
  {
   "cell_type": "code",
   "execution_count": 17,
   "metadata": {
    "scrolled": true
   },
   "outputs": [
    {
     "data": {
      "text/html": [
       "<div>\n",
       "<style scoped>\n",
       "    .dataframe tbody tr th:only-of-type {\n",
       "        vertical-align: middle;\n",
       "    }\n",
       "\n",
       "    .dataframe tbody tr th {\n",
       "        vertical-align: top;\n",
       "    }\n",
       "\n",
       "    .dataframe thead th {\n",
       "        text-align: right;\n",
       "    }\n",
       "</style>\n",
       "<table border=\"1\" class=\"dataframe\">\n",
       "  <thead>\n",
       "    <tr style=\"text-align: right;\">\n",
       "      <th></th>\n",
       "      <th>tweets</th>\n",
       "      <th>User</th>\n",
       "      <th>User_statuse_count</th>\n",
       "      <th>User_followers</th>\n",
       "      <th>User_location</th>\n",
       "      <th>User_verified</th>\n",
       "      <th>fav_count</th>\n",
       "      <th>rt_count</th>\n",
       "      <th>tweet_date</th>\n",
       "      <th>Tweets</th>\n",
       "      <th>User_statuses_count</th>\n",
       "      <th>user_followers</th>\n",
       "      <th>clean_tweet</th>\n",
       "    </tr>\n",
       "  </thead>\n",
       "  <tbody>\n",
       "    <tr>\n",
       "      <th>188</th>\n",
       "      <td>NaN</td>\n",
       "      <td>Sunita Bisht</td>\n",
       "      <td>NaN</td>\n",
       "      <td>NaN</td>\n",
       "      <td>India</td>\n",
       "      <td>False</td>\n",
       "      <td>0</td>\n",
       "      <td>23</td>\n",
       "      <td>2020-11-17 19:40:59</td>\n",
       "      <td>RT @sdeievent: #NormalcyBeigns as the #COVID__...</td>\n",
       "      <td>86.0</td>\n",
       "      <td>21.0</td>\n",
       "      <td>RT NormalcyBeigns as the COVID 19 recovery rat...</td>\n",
       "    </tr>\n",
       "    <tr>\n",
       "      <th>189</th>\n",
       "      <td>NaN</td>\n",
       "      <td>Su_man</td>\n",
       "      <td>NaN</td>\n",
       "      <td>NaN</td>\n",
       "      <td>Mohali, India</td>\n",
       "      <td>False</td>\n",
       "      <td>0</td>\n",
       "      <td>23</td>\n",
       "      <td>2020-11-17 18:58:50</td>\n",
       "      <td>RT @sdeievent: #NormalcyBeigns as the #COVID__...</td>\n",
       "      <td>10637.0</td>\n",
       "      <td>537.0</td>\n",
       "      <td>RT NormalcyBeigns as the COVID 19 recovery rat...</td>\n",
       "    </tr>\n",
       "    <tr>\n",
       "      <th>190</th>\n",
       "      <td>NaN</td>\n",
       "      <td>sachin ashar</td>\n",
       "      <td>NaN</td>\n",
       "      <td>NaN</td>\n",
       "      <td></td>\n",
       "      <td>False</td>\n",
       "      <td>7</td>\n",
       "      <td>1</td>\n",
       "      <td>2020-11-17 15:01:02</td>\n",
       "      <td>@mybmc @PMOIndia @HMOIndia @MoHFW_INDIA @CMOMa...</td>\n",
       "      <td>33.0</td>\n",
       "      <td>0.0</td>\n",
       "      <td>INDIA mumbai</td>\n",
       "    </tr>\n",
       "    <tr>\n",
       "      <th>191</th>\n",
       "      <td>NaN</td>\n",
       "      <td>Himanshu Rawat</td>\n",
       "      <td>NaN</td>\n",
       "      <td>NaN</td>\n",
       "      <td></td>\n",
       "      <td>False</td>\n",
       "      <td>0</td>\n",
       "      <td>23</td>\n",
       "      <td>2020-11-17 13:54:04</td>\n",
       "      <td>RT @sdeievent: #NormalcyBeigns as the #COVID__...</td>\n",
       "      <td>75.0</td>\n",
       "      <td>3.0</td>\n",
       "      <td>RT NormalcyBeigns as the COVID 19 recovery rat...</td>\n",
       "    </tr>\n",
       "    <tr>\n",
       "      <th>192</th>\n",
       "      <td>NaN</td>\n",
       "      <td>Adarsh Kiraula</td>\n",
       "      <td>NaN</td>\n",
       "      <td>NaN</td>\n",
       "      <td></td>\n",
       "      <td>False</td>\n",
       "      <td>0</td>\n",
       "      <td>23</td>\n",
       "      <td>2020-11-17 13:49:49</td>\n",
       "      <td>RT @sdeievent: #NormalcyBeigns as the #COVID__...</td>\n",
       "      <td>17.0</td>\n",
       "      <td>2.0</td>\n",
       "      <td>RT NormalcyBeigns as the COVID 19 recovery rat...</td>\n",
       "    </tr>\n",
       "  </tbody>\n",
       "</table>\n",
       "</div>"
      ],
      "text/plain": [
       "    tweets            User User_statuse_count User_followers  User_location  \\\n",
       "188    NaN    Sunita Bisht                NaN            NaN          India   \n",
       "189    NaN          Su_man                NaN            NaN  Mohali, India   \n",
       "190    NaN    sachin ashar                NaN            NaN                  \n",
       "191    NaN  Himanshu Rawat                NaN            NaN                  \n",
       "192    NaN  Adarsh Kiraula                NaN            NaN                  \n",
       "\n",
       "    User_verified fav_count rt_count           tweet_date  \\\n",
       "188         False         0       23  2020-11-17 19:40:59   \n",
       "189         False         0       23  2020-11-17 18:58:50   \n",
       "190         False         7        1  2020-11-17 15:01:02   \n",
       "191         False         0       23  2020-11-17 13:54:04   \n",
       "192         False         0       23  2020-11-17 13:49:49   \n",
       "\n",
       "                                                Tweets  User_statuses_count  \\\n",
       "188  RT @sdeievent: #NormalcyBeigns as the #COVID__...                 86.0   \n",
       "189  RT @sdeievent: #NormalcyBeigns as the #COVID__...              10637.0   \n",
       "190  @mybmc @PMOIndia @HMOIndia @MoHFW_INDIA @CMOMa...                 33.0   \n",
       "191  RT @sdeievent: #NormalcyBeigns as the #COVID__...                 75.0   \n",
       "192  RT @sdeievent: #NormalcyBeigns as the #COVID__...                 17.0   \n",
       "\n",
       "     user_followers                                        clean_tweet  \n",
       "188            21.0  RT NormalcyBeigns as the COVID 19 recovery rat...  \n",
       "189           537.0  RT NormalcyBeigns as the COVID 19 recovery rat...  \n",
       "190             0.0                                       INDIA mumbai  \n",
       "191             3.0  RT NormalcyBeigns as the COVID 19 recovery rat...  \n",
       "192             2.0  RT NormalcyBeigns as the COVID 19 recovery rat...  "
      ]
     },
     "execution_count": 17,
     "metadata": {},
     "output_type": "execute_result"
    }
   ],
   "source": [
    "df.tail()"
   ]
  },
  {
   "cell_type": "code",
   "execution_count": 18,
   "metadata": {
    "scrolled": true
   },
   "outputs": [
    {
     "data": {
      "text/html": [
       "<div>\n",
       "<style scoped>\n",
       "    .dataframe tbody tr th:only-of-type {\n",
       "        vertical-align: middle;\n",
       "    }\n",
       "\n",
       "    .dataframe tbody tr th {\n",
       "        vertical-align: top;\n",
       "    }\n",
       "\n",
       "    .dataframe thead th {\n",
       "        text-align: right;\n",
       "    }\n",
       "</style>\n",
       "<table border=\"1\" class=\"dataframe\">\n",
       "  <thead>\n",
       "    <tr style=\"text-align: right;\">\n",
       "      <th></th>\n",
       "      <th>tweets</th>\n",
       "      <th>User</th>\n",
       "      <th>User_statuse_count</th>\n",
       "      <th>User_followers</th>\n",
       "      <th>User_location</th>\n",
       "      <th>User_verified</th>\n",
       "      <th>fav_count</th>\n",
       "      <th>rt_count</th>\n",
       "      <th>tweet_date</th>\n",
       "      <th>Tweets</th>\n",
       "      <th>User_statuses_count</th>\n",
       "      <th>user_followers</th>\n",
       "      <th>clean_tweet</th>\n",
       "      <th>Sentiment</th>\n",
       "    </tr>\n",
       "  </thead>\n",
       "  <tbody>\n",
       "    <tr>\n",
       "      <th>0</th>\n",
       "      <td>NaN</td>\n",
       "      <td>Shiv Kumar Singh Dauria</td>\n",
       "      <td>NaN</td>\n",
       "      <td>NaN</td>\n",
       "      <td></td>\n",
       "      <td>False</td>\n",
       "      <td>0</td>\n",
       "      <td>0</td>\n",
       "      <td>2020-11-26 03:33:45</td>\n",
       "      <td>Coronavirus India Live Updates: Mumbai reports...</td>\n",
       "      <td>5893.0</td>\n",
       "      <td>75.0</td>\n",
       "      <td>Coronavirus India Live Updates Mumbai reports ...</td>\n",
       "      <td>Negative</td>\n",
       "    </tr>\n",
       "    <tr>\n",
       "      <th>1</th>\n",
       "      <td>NaN</td>\n",
       "      <td>kulwinder saini</td>\n",
       "      <td>NaN</td>\n",
       "      <td>NaN</td>\n",
       "      <td>Sodal Nagar, Jalandhar</td>\n",
       "      <td>False</td>\n",
       "      <td>0</td>\n",
       "      <td>0</td>\n",
       "      <td>2020-11-25 12:47:39</td>\n",
       "      <td>@VijayIndrSingla @capt_amarinder  @DrRPNishank...</td>\n",
       "      <td>1493.0</td>\n",
       "      <td>100.0</td>\n",
       "      <td>amarinder india Examinations are being started...</td>\n",
       "      <td>Neutral</td>\n",
       "    </tr>\n",
       "    <tr>\n",
       "      <th>2</th>\n",
       "      <td>NaN</td>\n",
       "      <td>Soran Singh</td>\n",
       "      <td>NaN</td>\n",
       "      <td>NaN</td>\n",
       "      <td>New Delhi, India</td>\n",
       "      <td>False</td>\n",
       "      <td>1</td>\n",
       "      <td>0</td>\n",
       "      <td>2020-11-25 09:39:21</td>\n",
       "      <td>@makneta Hope everyone is good and safe in you...</td>\n",
       "      <td>328.0</td>\n",
       "      <td>56.0</td>\n",
       "      <td>Hope everyone is good and safe in your family ...</td>\n",
       "      <td>Positive</td>\n",
       "    </tr>\n",
       "    <tr>\n",
       "      <th>3</th>\n",
       "      <td>NaN</td>\n",
       "      <td>Radoo</td>\n",
       "      <td>NaN</td>\n",
       "      <td>NaN</td>\n",
       "      <td>Rajahmundry, India</td>\n",
       "      <td>False</td>\n",
       "      <td>0</td>\n",
       "      <td>147</td>\n",
       "      <td>2020-11-25 07:06:12</td>\n",
       "      <td>RT @hariPokiri_23: #SarkaruVaariPaata Update:-...</td>\n",
       "      <td>109412.0</td>\n",
       "      <td>426.0</td>\n",
       "      <td>RT 23 SarkaruVaariPaata Update Shoot starts in...</td>\n",
       "      <td>Positive</td>\n",
       "    </tr>\n",
       "    <tr>\n",
       "      <th>4</th>\n",
       "      <td>NaN</td>\n",
       "      <td>Sridevi</td>\n",
       "      <td>NaN</td>\n",
       "      <td>NaN</td>\n",
       "      <td></td>\n",
       "      <td>False</td>\n",
       "      <td>0</td>\n",
       "      <td>0</td>\n",
       "      <td>2020-11-25 05:11:43</td>\n",
       "      <td>@ManeezaPredicts Is there any chance of lockdo...</td>\n",
       "      <td>5.0</td>\n",
       "      <td>0.0</td>\n",
       "      <td>Is there any chance of lockdown again in India...</td>\n",
       "      <td>Neutral</td>\n",
       "    </tr>\n",
       "  </tbody>\n",
       "</table>\n",
       "</div>"
      ],
      "text/plain": [
       "  tweets                     User User_statuse_count User_followers  \\\n",
       "0    NaN  Shiv Kumar Singh Dauria                NaN            NaN   \n",
       "1    NaN          kulwinder saini                NaN            NaN   \n",
       "2    NaN              Soran Singh                NaN            NaN   \n",
       "3    NaN                    Radoo                NaN            NaN   \n",
       "4    NaN                  Sridevi                NaN            NaN   \n",
       "\n",
       "            User_location User_verified fav_count rt_count  \\\n",
       "0                                 False         0        0   \n",
       "1  Sodal Nagar, Jalandhar         False         0        0   \n",
       "2        New Delhi, India         False         1        0   \n",
       "3      Rajahmundry, India         False         0      147   \n",
       "4                                 False         0        0   \n",
       "\n",
       "            tweet_date                                             Tweets  \\\n",
       "0  2020-11-26 03:33:45  Coronavirus India Live Updates: Mumbai reports...   \n",
       "1  2020-11-25 12:47:39  @VijayIndrSingla @capt_amarinder  @DrRPNishank...   \n",
       "2  2020-11-25 09:39:21  @makneta Hope everyone is good and safe in you...   \n",
       "3  2020-11-25 07:06:12  RT @hariPokiri_23: #SarkaruVaariPaata Update:-...   \n",
       "4  2020-11-25 05:11:43  @ManeezaPredicts Is there any chance of lockdo...   \n",
       "\n",
       "   User_statuses_count  user_followers  \\\n",
       "0               5893.0            75.0   \n",
       "1               1493.0           100.0   \n",
       "2                328.0            56.0   \n",
       "3             109412.0           426.0   \n",
       "4                  5.0             0.0   \n",
       "\n",
       "                                         clean_tweet Sentiment  \n",
       "0  Coronavirus India Live Updates Mumbai reports ...  Negative  \n",
       "1  amarinder india Examinations are being started...   Neutral  \n",
       "2  Hope everyone is good and safe in your family ...  Positive  \n",
       "3  RT 23 SarkaruVaariPaata Update Shoot starts in...  Positive  \n",
       "4  Is there any chance of lockdown again in India...   Neutral  "
      ]
     },
     "execution_count": 18,
     "metadata": {},
     "output_type": "execute_result"
    }
   ],
   "source": [
    "df['Sentiment'] = df['clean_tweet'].apply(lambda x : analyze_sentiment(x) )\n",
    "df.head()"
   ]
  },
  {
   "cell_type": "markdown",
   "metadata": {},
   "source": [
    "# Analysis of Tweets"
   ]
  },
  {
   "cell_type": "code",
   "execution_count": 23,
   "metadata": {
    "scrolled": true
   },
   "outputs": [
    {
     "name": "stdout",
     "output_type": "stream",
     "text": [
      "Original tweet:\n",
      " RT @anilbhatortho: Don’t blame the second wave on #Corona .. it is us ! \n",
      "\n",
      "Some patients in opd today had to be literally sent out to wear a…\n",
      "\n",
      "Clean tweet:\n",
      " RT Don t blame the second wave on Corona it is us Some patients in opd today had to be literally sent out to wear a\n",
      "\n",
      "Sentiment of the tweet:\n",
      " Neutral\n"
     ]
    }
   ],
   "source": [
    "n = 20\n",
    "print(\"Original tweet:\\n\",df['Tweets'][n])\n",
    "print()\n",
    "print(\"Clean tweet:\\n\",df['clean_tweet'][n])\n",
    "print()\n",
    "print(\"Sentiment of the tweet:\\n\",df['Sentiment'][n])"
   ]
  },
  {
   "cell_type": "code",
   "execution_count": 24,
   "metadata": {
    "scrolled": true
   },
   "outputs": [
    {
     "name": "stdout",
     "output_type": "stream",
     "text": [
      "Original tweet:\n",
      " RT @hariPokiri_23: #SarkaruVaariPaata Update:-\n",
      "Shoot starts in India, RFC lo set ready chesthunnaru, Corona second wave valla schedule in U…\n",
      "\n",
      "Clean tweet:\n",
      " RT 23 SarkaruVaariPaata Update Shoot starts in India RFC lo set ready chesthunnaru Corona second wave valla schedule in U\n",
      "\n",
      "Sentiment of the tweet:\n",
      " Positive\n"
     ]
    }
   ],
   "source": [
    "n = 50\n",
    "print(\"Original tweet:\\n\",df['Tweets'][n])\n",
    "print()\n",
    "print(\"Clean tweet:\\n\",df['clean_tweet'][n])\n",
    "print()\n",
    "print(\"Sentiment of the tweet:\\n\",df['Sentiment'][n])"
   ]
  },
  {
   "cell_type": "code",
   "execution_count": 28,
   "metadata": {
    "scrolled": true
   },
   "outputs": [
    {
     "data": {
      "text/plain": [
       "173"
      ]
     },
     "execution_count": 28,
     "metadata": {},
     "output_type": "execute_result"
    }
   ],
   "source": [
    "df[df.Sentiment == 'Positive'].shape[0]"
   ]
  },
  {
   "cell_type": "code",
   "execution_count": null,
   "metadata": {},
   "outputs": [],
   "source": [
    "df[df.Sentiment == 'Neutral'].shape[0]"
   ]
  }
 ],
 "metadata": {
  "kernelspec": {
   "display_name": "Python 3",
   "language": "python",
   "name": "python3"
  },
  "language_info": {
   "codemirror_mode": {
    "name": "ipython",
    "version": 3
   },
   "file_extension": ".py",
   "mimetype": "text/x-python",
   "name": "python",
   "nbconvert_exporter": "python",
   "pygments_lexer": "ipython3",
   "version": "3.7.6"
  }
 },
 "nbformat": 4,
 "nbformat_minor": 4
}
